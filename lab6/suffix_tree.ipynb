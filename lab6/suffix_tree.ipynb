{
 "cells": [
  {
   "cell_type": "markdown",
   "id": "687ea436",
   "metadata": {},
   "source": [
    "# Drzewa sufiksów"
   ]
  },
  {
   "cell_type": "markdown",
   "id": "d56873c6",
   "metadata": {},
   "source": [
    "1. Przyjmij następujący zbiór danych wejściowych:\n",
    "    1. bbb\\$\n",
    "    2. aabbabd\n",
    "    3. ababcd\n",
    "    4. abaababaabaabaabab\\$\n",
    "    5. losowy tekst o długości 100 znaków,\n",
    "    6. załączony plik.\\\n",
    "Upewnij się, że każdy łańcuch na końcu posiada unikalny znak (marker), a jeśli go nie ma, to dodaj ten znak.\n",
    "2. Zaimplementuj algorytm konstruujący strukturę trie, która przechowuje wszystkie sufiksy łańcucha danego na wejściu.\n",
    "3. Zaimplementuj algorytm konstruujący drzewo sufiksów.\n",
    "4. Upewnij się, że powstałe struktury danych są poprawne. Możesz np. sprawdzić, czy struktura zawiera jakiś ciąg znaków i porównać wyniki z algorytmem wyszukiwania wzorców.\n",
    "5. Porównaj szybkość działania algorytmów konstruujących struktury danych dla danych z p. 1 w następujących wariantach:\n",
    "    1. Trie - w wariancie, w którym kolejne sufiksy dodawane są przez przeszukiwanie głowy od korzenia drzewa (1p.),\n",
    "    2. Trie - w wariancie, w którym kolejne sufiksy dodawane są poprzez dodanie kolejnej litery tekstu (1p.),\n",
    "    3. Drzewo sufiksów - algorytm Ukkonena (3p).\\\n",
    "Dla załączonego tekstu czas wariantów 1 i 2 może być nieakceptowalnie długi - w tej sytuacji pomiń wyniki pomiarów dla tego tekstu.\n",
    "\n",
    "6. Oczekiwany wynik ćwiczenia to kod źródłowy oraz raport w formie PDF."
   ]
  },
  {
   "cell_type": "code",
   "execution_count": 1,
   "id": "7cc73e3e",
   "metadata": {},
   "outputs": [],
   "source": [
    "from string import printable\n",
    "from random import choice\n",
    "from timeit import default_timer as timer\n",
    "import pandas as pd"
   ]
  },
  {
   "cell_type": "markdown",
   "id": "0a394b0a",
   "metadata": {},
   "source": [
    "## ad 1. Przygotowanie danych wejściowych"
   ]
  },
  {
   "cell_type": "code",
   "execution_count": 2,
   "id": "4bb7abd0",
   "metadata": {},
   "outputs": [],
   "source": [
    "dataA='bbb$' #$ - marker\n",
    "dataB='aabbabd' #d - marker\n",
    "dataC='ababcd' #d - marker\n",
    "dataD='abaababaabaabaabab$' #$ - marker"
   ]
  },
  {
   "cell_type": "code",
   "execution_count": 3,
   "id": "b01171dc",
   "metadata": {},
   "outputs": [],
   "source": [
    "dataE=''.join(choice(printable[1:]) for i in range(99))\n",
    "dataE+=printable[0] #printable[0] ('0') - marker"
   ]
  },
  {
   "cell_type": "code",
   "execution_count": 4,
   "id": "033d7e08",
   "metadata": {},
   "outputs": [],
   "source": [
    "with open(\"1997_714_head.txt\") as file:\n",
    "    dataF = file.read()\n",
    "dataF += \"$\" #$ - marker"
   ]
  },
  {
   "cell_type": "markdown",
   "id": "4921c69b",
   "metadata": {},
   "source": [
    "## ad 2. Suffix trie"
   ]
  },
  {
   "cell_type": "markdown",
   "id": "8ff9973b",
   "metadata": {},
   "source": [
    "### Bez suffix linków"
   ]
  },
  {
   "cell_type": "code",
   "execution_count": 5,
   "id": "bc939202",
   "metadata": {},
   "outputs": [],
   "source": [
    "class StaticTrieNode: \n",
    "    def __init__(self, parent):\n",
    "        self.parent = parent\n",
    "        self.children = dict()\n",
    "    \n",
    "    def suffixes(self):\n",
    "        res=[]\n",
    "        for child in self.children.keys():\n",
    "            sts=self.children[child].__str__()\n",
    "            for s in sts:\n",
    "                res.append(child+s)\n",
    "                \n",
    "        if len(res)==0: return [\"\"]\n",
    "        return res\n",
    "        \n",
    "class StaticTrie:\n",
    "    def __init__(self, text):\n",
    "        start=timer()\n",
    "        self.root = StaticTrieNode(None)\n",
    "        for i in range(len(text)):\n",
    "            suffix = text[i:]\n",
    "            head, index = self.find(suffix)\n",
    "            self.graft(head, suffix[index:])\n",
    "        end=timer()\n",
    "        self.time=end-start\n",
    "    \n",
    "    def __str__(self):\n",
    "        return str(self.root.suffixes())\n",
    "\n",
    "    def find(self, text):\n",
    "        current_node = self.root\n",
    "        idx = 0\n",
    "        while idx < len(text) and text[idx] in current_node.children:\n",
    "            current_node = current_node.children[text[idx]]\n",
    "            idx += 1\n",
    "        return current_node, idx\n",
    "\n",
    "    def graft(self, node, text):\n",
    "        for c in text:\n",
    "            new_node = StaticTrieNode(node)\n",
    "            node.children[c] = new_node\n",
    "            node = new_node\n",
    "\n",
    "    def pattern_search(self, pattern):\n",
    "        if len(pattern) == 0:\n",
    "            return True\n",
    "        node, index = self.find(pattern)\n",
    "        return index == len(pattern)"
   ]
  },
  {
   "cell_type": "markdown",
   "id": "efaea3c7",
   "metadata": {},
   "source": [
    "### Z suffix linkami"
   ]
  },
  {
   "cell_type": "code",
   "execution_count": 6,
   "id": "369dbb6c",
   "metadata": {},
   "outputs": [],
   "source": [
    "class DynamicTrieNode: \n",
    "    def __init__(self, parent, link=None):\n",
    "        self.parent = parent\n",
    "        self.children = dict()\n",
    "        self.link=link\n",
    "        \n",
    "    def suffixes(self):\n",
    "        res=[]\n",
    "        for child in self.children.keys():\n",
    "            sts=self.children[child].suffixes()\n",
    "            for s in sts:\n",
    "                res.append(child+s)\n",
    "                \n",
    "        if len(res)==0: return [\"\"]\n",
    "        return res\n",
    "    \n",
    "    def add_child(self, c):\n",
    "        child = DynamicTrieNode(self)\n",
    "        self.children[c] = child\n",
    "        return child\n",
    "\n",
    "    def add_link(self, node):\n",
    "        self.link = node\n",
    "\n",
    "        \n",
    "class DynamicTrie: \n",
    "    def __init__(self, text):\n",
    "        start=timer()\n",
    "        self.root = DynamicTrieNode(None)\n",
    "        \n",
    "        deepest=self.root\n",
    "        \n",
    "        for i in range(len(text)):\n",
    "            c=text[i]\n",
    "            node=deepest\n",
    "            deepest=None\n",
    "            prev=None\n",
    "            \n",
    "            while(node and (c not in node.children)):\n",
    "                child=node.add_child(c)\n",
    "                node.children[c]=child\n",
    "                #first iteration\n",
    "                if (not deepest):\n",
    "                    deepest=child\n",
    "                #rest of iterations\n",
    "                if (prev):\n",
    "                    prev.add_link(child)\n",
    "                if node == self.root:\n",
    "                    child.add_link(self.root)\n",
    "                prev=child\n",
    "                node=node.link\n",
    "            if(node):\n",
    "                prev.link=node.children[c]\n",
    "        end=timer()\n",
    "        self.time=end-start\n",
    "                \n",
    "    def __str__(self):\n",
    "        return str(self.root.suffixes())\n",
    "\n",
    "    \n",
    "    def pattern_search(self, pattern):\n",
    "        node = self.root\n",
    "\n",
    "        for c in pattern:\n",
    "            if c not in node.children:\n",
    "                return False\n",
    "\n",
    "            node = node.children[c]\n",
    "\n",
    "        return True"
   ]
  },
  {
   "cell_type": "markdown",
   "id": "262c53f4",
   "metadata": {},
   "source": [
    "## ad 3. Suffix tree"
   ]
  },
  {
   "cell_type": "code",
   "execution_count": 7,
   "id": "d25fad17",
   "metadata": {},
   "outputs": [],
   "source": [
    "#:(("
   ]
  },
  {
   "cell_type": "markdown",
   "id": "77fa4878",
   "metadata": {},
   "source": [
    "## ad 4. Poprawność struktur"
   ]
  },
  {
   "cell_type": "code",
   "execution_count": 8,
   "id": "70cc4b0f",
   "metadata": {},
   "outputs": [],
   "source": [
    "strieA=StaticTrie(dataA)\n",
    "dtrieA=DynamicTrie(dataA)\n",
    "\n",
    "strieB=StaticTrie(dataB)\n",
    "dtrieB=DynamicTrie(dataB)\n",
    "\n",
    "strieC=StaticTrie(dataC)\n",
    "dtrieC=DynamicTrie(dataC)\n",
    "\n",
    "strieD=StaticTrie(dataD)\n",
    "dtrieD=DynamicTrie(dataD)\n",
    "\n",
    "strieE=StaticTrie(dataE)\n",
    "dtrieE=DynamicTrie(dataE)"
   ]
  },
  {
   "cell_type": "code",
   "execution_count": 9,
   "id": "e458c306",
   "metadata": {},
   "outputs": [],
   "source": [
    "strieF=StaticTrie(dataF)"
   ]
  },
  {
   "cell_type": "code",
   "execution_count": 10,
   "id": "4934e535",
   "metadata": {},
   "outputs": [],
   "source": [
    "dtrieF=DynamicTrie(dataF)"
   ]
  },
  {
   "cell_type": "code",
   "execution_count": 11,
   "id": "bef14043",
   "metadata": {},
   "outputs": [
    {
     "name": "stdout",
     "output_type": "stream",
     "text": [
      "test StaticTrie A:\tok\n",
      "test DynamicTrie A:\tok\n"
     ]
    }
   ],
   "source": [
    "print(\"test StaticTrie A:\", end=\"\\t\")\n",
    "print(\"ok\") if strieA.pattern_search(\"bb\") and not strieA.pattern_search(\"abk\") else print(\"not ok!!!\")\n",
    "\n",
    "print(\"test DynamicTrie A:\", end=\"\\t\")\n",
    "print(\"ok\") if dtrieA.pattern_search(\"bbb\") and not dtrieA.pattern_search(\"abk\") else print(\"not ok!!!\")"
   ]
  },
  {
   "cell_type": "code",
   "execution_count": 12,
   "id": "39103108",
   "metadata": {},
   "outputs": [
    {
     "name": "stdout",
     "output_type": "stream",
     "text": [
      "test StaticTrie B:\tok\n",
      "test DynamicTrie B:\tok\n"
     ]
    }
   ],
   "source": [
    "print(\"test StaticTrie B:\", end=\"\\t\")\n",
    "print(\"ok\") if strieB.pattern_search(\"babd\") and not strieB.pattern_search(\"babdb\") else print(\"not ok!!!\")\n",
    "\n",
    "print(\"test DynamicTrie B:\", end=\"\\t\")\n",
    "print(\"ok\") if dtrieB.pattern_search(\"babd\") and not dtrieB.pattern_search(\"babdb\") else print(\"not ok!!!\")"
   ]
  },
  {
   "cell_type": "code",
   "execution_count": 13,
   "id": "0c71d027",
   "metadata": {},
   "outputs": [
    {
     "name": "stdout",
     "output_type": "stream",
     "text": [
      "test StaticTrie C:\tok\n",
      "test DynamicTrie C:\tok\n"
     ]
    }
   ],
   "source": [
    "print(\"test StaticTrie C:\", end=\"\\t\")\n",
    "print(\"ok\") if strieC.pattern_search(\"abc\") and not strieC.pattern_search(\"abbbc\") else print(\"not ok!!!\")\n",
    "\n",
    "print(\"test DynamicTrie C:\", end=\"\\t\")\n",
    "print(\"ok\") if dtrieC.pattern_search(\"abc\") and not dtrieC.pattern_search(\"abbc\") else print(\"not ok!!!\")"
   ]
  },
  {
   "cell_type": "code",
   "execution_count": 14,
   "id": "7cbbf90e",
   "metadata": {},
   "outputs": [
    {
     "name": "stdout",
     "output_type": "stream",
     "text": [
      "test StaticTrie D:\tok\n",
      "test DynamicTrie D:\tok\n"
     ]
    }
   ],
   "source": [
    "print(\"test StaticTrie D:\", end=\"\\t\")\n",
    "print(\"ok\") if strieD.pattern_search(\"baababa\") and not strieD.pattern_search(\"baababaaaaa\") else print(\"not ok!!!\")\n",
    "\n",
    "print(\"test DynamicTrie D:\", end=\"\\t\")\n",
    "print(\"ok\") if dtrieD.pattern_search(\"baababa\") and not dtrieD.pattern_search(\"baababaaaaa\") else print(\"not ok!!!\")"
   ]
  },
  {
   "cell_type": "code",
   "execution_count": 15,
   "id": "3c12e9ed",
   "metadata": {},
   "outputs": [
    {
     "name": "stdout",
     "output_type": "stream",
     "text": [
      "test StaticTrie E:\tok\n",
      "test DynamicTrie E:\tok\n"
     ]
    }
   ],
   "source": [
    "print(\"test StaticTrie E:\", end=\"\\t\")\n",
    "print(\"ok\") if strieE.pattern_search(dataE[3:50]) and not strieD.pattern_search(\"00\") else print(\"not ok!!!\")\n",
    "\n",
    "print(\"test DynamicTrie E:\", end=\"\\t\")\n",
    "print(\"ok\") if dtrieE.pattern_search(dataE[3:50]) and not dtrieD.pattern_search(\"00\") else print(\"not ok!!!\")"
   ]
  },
  {
   "cell_type": "code",
   "execution_count": 16,
   "id": "9a71ad24",
   "metadata": {},
   "outputs": [
    {
     "name": "stdout",
     "output_type": "stream",
     "text": [
      "test StaticTrie F:\tok\n",
      "test DynamicTrie F:\tok\n"
     ]
    }
   ],
   "source": [
    "testok=\"163, Nr 90, poz. 419, Nr 113, poz.\"\n",
    "testnotok=\"poz. 419, Nr 113ala ma kota\"\n",
    "\n",
    "print(\"test StaticTrie F:\", end=\"\\t\")\n",
    "print(\"ok\") if strieF.pattern_search(testok) and not strieD.pattern_search(testnotok) else print(\"not ok!!!\")\n",
    "\n",
    "print(\"test DynamicTrie F:\", end=\"\\t\")\n",
    "print(\"ok\") if dtrieF.pattern_search(testok) and not dtrieD.pattern_search(testnotok) else print(\"not ok!!!\")"
   ]
  },
  {
   "cell_type": "markdown",
   "id": "d7c264e0",
   "metadata": {},
   "source": [
    "## ad 5. Porównanie czasów"
   ]
  },
  {
   "cell_type": "code",
   "execution_count": 17,
   "id": "ec66064d",
   "metadata": {},
   "outputs": [],
   "source": [
    "dynamic_times={'A': {\"no links\":dtrieA.time, \"links\":dtrieA.time},\n",
    "                'B': {\"no links\":dtrieB.time, \"links\":dtrieB.time},\n",
    "                'C': {\"no links\":dtrieC.time, \"links\":dtrieC.time},\n",
    "                'D': {\"no links\":dtrieD.time, \"links\":dtrieD.time},\n",
    "                'E': {\"no links\":dtrieE.time, \"links\":dtrieE.time},\n",
    "                'F': {\"no links\":dtrieF.time, \"links\":dtrieF.time}}"
   ]
  },
  {
   "cell_type": "code",
   "execution_count": 18,
   "id": "9687455e",
   "metadata": {},
   "outputs": [
    {
     "data": {
      "text/html": [
       "<div>\n",
       "<style scoped>\n",
       "    .dataframe tbody tr th:only-of-type {\n",
       "        vertical-align: middle;\n",
       "    }\n",
       "\n",
       "    .dataframe tbody tr th {\n",
       "        vertical-align: top;\n",
       "    }\n",
       "\n",
       "    .dataframe thead th {\n",
       "        text-align: right;\n",
       "    }\n",
       "</style>\n",
       "<table border=\"1\" class=\"dataframe\">\n",
       "  <thead>\n",
       "    <tr style=\"text-align: right;\">\n",
       "      <th></th>\n",
       "      <th>A</th>\n",
       "      <th>B</th>\n",
       "      <th>C</th>\n",
       "      <th>D</th>\n",
       "      <th>E</th>\n",
       "      <th>F</th>\n",
       "    </tr>\n",
       "  </thead>\n",
       "  <tbody>\n",
       "    <tr>\n",
       "      <th>no links</th>\n",
       "      <td>0.000014</td>\n",
       "      <td>0.000023</td>\n",
       "      <td>0.000019</td>\n",
       "      <td>0.0001</td>\n",
       "      <td>0.006528</td>\n",
       "      <td>8.376016</td>\n",
       "    </tr>\n",
       "    <tr>\n",
       "      <th>links</th>\n",
       "      <td>0.000014</td>\n",
       "      <td>0.000023</td>\n",
       "      <td>0.000019</td>\n",
       "      <td>0.0001</td>\n",
       "      <td>0.006528</td>\n",
       "      <td>8.376016</td>\n",
       "    </tr>\n",
       "  </tbody>\n",
       "</table>\n",
       "</div>"
      ],
      "text/plain": [
       "                 A         B         C       D         E         F\n",
       "no links  0.000014  0.000023  0.000019  0.0001  0.006528  8.376016\n",
       "links     0.000014  0.000023  0.000019  0.0001  0.006528  8.376016"
      ]
     },
     "metadata": {},
     "output_type": "display_data"
    }
   ],
   "source": [
    "df_stimes=pd.DataFrame(dynamic_times)\n",
    "display(df_stimes)"
   ]
  }
 ],
 "metadata": {
  "kernelspec": {
   "display_name": "Python 3 (ipykernel)",
   "language": "python",
   "name": "python3"
  },
  "language_info": {
   "codemirror_mode": {
    "name": "ipython",
    "version": 3
   },
   "file_extension": ".py",
   "mimetype": "text/x-python",
   "name": "python",
   "nbconvert_exporter": "python",
   "pygments_lexer": "ipython3",
   "version": "3.9.12"
  }
 },
 "nbformat": 4,
 "nbformat_minor": 5
}

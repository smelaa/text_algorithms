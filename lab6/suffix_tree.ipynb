{
 "cells": [
  {
   "cell_type": "markdown",
   "id": "687ea436",
   "metadata": {},
   "source": [
    "# Drzewa sufiksów"
   ]
  },
  {
   "cell_type": "markdown",
   "id": "d56873c6",
   "metadata": {},
   "source": [
    "1. Przyjmij następujący zbiór danych wejściowych:\n",
    "    1. bbb\\$\n",
    "    2. aabbabd\n",
    "    3. ababcd\n",
    "    4. abaababaabaabaabab\\$\n",
    "    5. losowy tekst o długości 100 znaków,\n",
    "    6. załączony plik.\\\n",
    "Upewnij się, że każdy łańcuch na końcu posiada unikalny znak (marker), a jeśli go nie ma, to dodaj ten znak.\n",
    "2. Zaimplementuj algorytm konstruujący strukturę trie, która przechowuje wszystkie sufiksy łańcucha danego na wejściu.\n",
    "3. Zaimplementuj algorytm konstruujący drzewo sufiksów.\n",
    "4. Upewnij się, że powstałe struktury danych są poprawne. Możesz np. sprawdzić, czy struktura zawiera jakiś ciąg znaków i porównać wyniki z algorytmem wyszukiwania wzorców.\n",
    "5. Porównaj szybkość działania algorytmów konstruujących struktury danych dla danych z p. 1 w następujących wariantach:\n",
    "    1. Trie - w wariancie, w którym kolejne sufiksy dodawane są przez przeszukiwanie głowy od korzenia drzewa (1p.),\n",
    "    2. Trie - w wariancie, w którym kolejne sufiksy dodawane są poprzez dodanie kolejnej litery tekstu (1p.),\n",
    "    3. Drzewo sufiksów - algorytm Ukkonena (3p).\\\n",
    "Dla załączonego tekstu czas wariantów 1 i 2 może być nieakceptowalnie długi - w tej sytuacji pomiń wyniki pomiarów dla tego tekstu.\n",
    "\n",
    "6. Oczekiwany wynik ćwiczenia to kod źródłowy oraz raport w formie PDF."
   ]
  },
  {
   "cell_type": "code",
   "execution_count": 1,
   "id": "7cc73e3e",
   "metadata": {},
   "outputs": [],
   "source": [
    "from string import printable\n",
    "from random import choice\n",
    "from timeit import default_timer as timer\n",
    "import pandas as pd"
   ]
  },
  {
   "cell_type": "markdown",
   "id": "0a394b0a",
   "metadata": {},
   "source": [
    "## ad 1. Przygotowanie danych wejściowych"
   ]
  },
  {
   "cell_type": "code",
   "execution_count": 2,
   "id": "4bb7abd0",
   "metadata": {},
   "outputs": [],
   "source": [
    "dataA='bbb$' #$ - marker\n",
    "dataB='aabbabd' #d - marker\n",
    "dataC='ababcd' #d - marker\n",
    "dataD='abaababaabaabaabab$' #$ - marker"
   ]
  },
  {
   "cell_type": "code",
   "execution_count": 3,
   "id": "b01171dc",
   "metadata": {},
   "outputs": [],
   "source": [
    "dataE=''.join(choice(printable[1:]) for i in range(99))\n",
    "dataE+=printable[0] #printable[0] ('0') - marker"
   ]
  },
  {
   "cell_type": "code",
   "execution_count": 4,
   "id": "033d7e08",
   "metadata": {},
   "outputs": [],
   "source": [
    "with open(\"1997_714_head.txt\") as file:\n",
    "    dataF = file.read()\n",
    "dataF += \"$\" #$ - marker"
   ]
  },
  {
   "cell_type": "markdown",
   "id": "4921c69b",
   "metadata": {},
   "source": [
    "## ad 2. Suffix trie"
   ]
  },
  {
   "cell_type": "markdown",
   "id": "8ff9973b",
   "metadata": {},
   "source": [
    "### Bez suffix linków"
   ]
  },
  {
   "cell_type": "code",
   "execution_count": 5,
   "id": "bc939202",
   "metadata": {},
   "outputs": [],
   "source": [
    "class StaticTrieNode: \n",
    "    def __init__(self, parent):\n",
    "        self.parent = parent\n",
    "        self.children = dict()\n",
    "    \n",
    "    def suffixes(self):\n",
    "        res=[]\n",
    "        for child in self.children.keys():\n",
    "            sts=self.children[child].__str__()\n",
    "            for s in sts:\n",
    "                res.append(child+s)\n",
    "                \n",
    "        if len(res)==0: return [\"\"]\n",
    "        return res\n",
    "        \n",
    "class StaticTrie:\n",
    "    def __init__(self, text):\n",
    "        start=timer()\n",
    "        self.root = StaticTrieNode(None)\n",
    "        for i in range(len(text)):\n",
    "            suffix = text[i:]\n",
    "            head, index = self.find(suffix)\n",
    "            self.graft(head, suffix[index:])\n",
    "        end=timer()\n",
    "        self.time=end-start\n",
    "    \n",
    "    def __str__(self):\n",
    "        return str(self.root.suffixes())\n",
    "\n",
    "    def find(self, text):\n",
    "        current_node = self.root\n",
    "        idx = 0\n",
    "        while idx < len(text) and text[idx] in current_node.children:\n",
    "            current_node = current_node.children[text[idx]]\n",
    "            idx += 1\n",
    "        return current_node, idx\n",
    "\n",
    "    def graft(self, node, text):\n",
    "        for c in text:\n",
    "            new_node = StaticTrieNode(node)\n",
    "            node.children[c] = new_node\n",
    "            node = new_node\n",
    "\n",
    "    def pattern_search(self, pattern):\n",
    "        if len(pattern) == 0:\n",
    "            return True\n",
    "        node, index = self.find(pattern)\n",
    "        return index == len(pattern)"
   ]
  },
  {
   "cell_type": "markdown",
   "id": "efaea3c7",
   "metadata": {},
   "source": [
    "### Z suffix linkami"
   ]
  },
  {
   "cell_type": "code",
   "execution_count": 6,
   "id": "369dbb6c",
   "metadata": {},
   "outputs": [],
   "source": [
    "class DynamicTrieNode: \n",
    "    def __init__(self, parent, link=None):\n",
    "        self.parent = parent\n",
    "        self.children = dict()\n",
    "        self.link=link\n",
    "        \n",
    "    def suffixes(self):\n",
    "        res=[]\n",
    "        for child in self.children.keys():\n",
    "            sts=self.children[child].suffixes()\n",
    "            for s in sts:\n",
    "                res.append(child+s)\n",
    "                \n",
    "        if len(res)==0: return [\"\"]\n",
    "        return res\n",
    "    \n",
    "    def add_child(self, c):\n",
    "        child = DynamicTrieNode(self)\n",
    "        self.children[c] = child\n",
    "        return child\n",
    "\n",
    "    def add_link(self, node):\n",
    "        self.link = node\n",
    "\n",
    "        \n",
    "class DynamicTrie: \n",
    "    def __init__(self, text):\n",
    "        start=timer()\n",
    "        self.root = DynamicTrieNode(None)\n",
    "        \n",
    "        deepest=self.root\n",
    "        \n",
    "        for i in range(len(text)):\n",
    "            c=text[i]\n",
    "            node=deepest\n",
    "            deepest=None\n",
    "            prev=None\n",
    "            \n",
    "            while(node and (c not in node.children)):\n",
    "                child=node.add_child(c)\n",
    "                node.children[c]=child\n",
    "                #first iteration\n",
    "                if (not deepest):\n",
    "                    deepest=child\n",
    "                #rest of iterations\n",
    "                if (prev):\n",
    "                    prev.add_link(child)\n",
    "                if node == self.root:\n",
    "                    child.add_link(self.root)\n",
    "                prev=child\n",
    "                node=node.link\n",
    "            if(node):\n",
    "                prev.link=node.children[c]\n",
    "        end=timer()\n",
    "        self.time=end-start\n",
    "                \n",
    "    def __str__(self):\n",
    "        return str(self.root.suffixes())\n",
    "\n",
    "    \n",
    "    def pattern_search(self, pattern):\n",
    "        node = self.root\n",
    "\n",
    "        for c in pattern:\n",
    "            if c not in node.children:\n",
    "                return False\n",
    "\n",
    "            node = node.children[c]\n",
    "\n",
    "        return True"
   ]
  },
  {
   "cell_type": "markdown",
   "id": "262c53f4",
   "metadata": {},
   "source": [
    "## ad 3. Suffix tree"
   ]
  },
  {
   "cell_type": "code",
   "execution_count": 7,
   "id": "d25fad17",
   "metadata": {},
   "outputs": [],
   "source": [
    "class SuffixTreeNode: #to nie Ukkonen :((\n",
    "    def __init__(self, start, end):\n",
    "        self.start = start\n",
    "        self.end = end\n",
    "        self.children = dict()\n",
    "\n",
    "\n",
    "class SuffixTree:\n",
    "    def __init__(self, text):\n",
    "        start=timer()\n",
    "        self.root = SuffixTreeNode(0, len(text) - 1)\n",
    "        self.text = text\n",
    "        for i in range(len(text) - 1):\n",
    "            suffix = text[i:]\n",
    "            head, depth = self.find(suffix)\n",
    "            self.graft(head, depth, i)\n",
    "        end=timer()\n",
    "        self.time=end-start\n",
    "\n",
    "    def find(self, text, depth=0, node=None):\n",
    "        if node is None:\n",
    "            node = self.root\n",
    "        next_node = node.children.get(text[0])\n",
    "        if next_node is None:\n",
    "            return node, depth\n",
    "\n",
    "        next_node_text_len = next_node.end - next_node.start + 1\n",
    "        for i in range(1, next_node_text_len):\n",
    "            if self.text[next_node.start + i] != text[i]:\n",
    "                stop_node = SuffixTreeNode(next_node.start, next_node.start + i - 1)\n",
    "                next_node.start += i\n",
    "                node.children[self.text[stop_node.start]] = stop_node\n",
    "                stop_node.children[self.text[next_node.start]] = next_node\n",
    "                return stop_node, depth + i\n",
    "        return self.find(text[next_node_text_len:], next_node_text_len + depth, next_node)\n",
    "\n",
    "    def graft(self, head, depth, i):\n",
    "        new_node = SuffixTreeNode(depth + i, len(self.text) - 1)\n",
    "        head.children[self.text[new_node.start]] = new_node\n",
    "\n",
    "    def pattern_search(self, pattern, node=None):\n",
    "        if len(pattern) == 0:\n",
    "            return True\n",
    "        if node is None:\n",
    "            node = self.root\n",
    "        next_node = node.children.get(pattern[0])\n",
    "        if next_node is None:\n",
    "            return False\n",
    "\n",
    "        next_node_text_len = next_node.end - next_node.start + 1\n",
    "        for i in range(1, next_node_text_len):\n",
    "            if i == len(pattern):\n",
    "                return True\n",
    "            elif self.text[next_node.start + i] != pattern[i]:\n",
    "                return False\n",
    "        return self.pattern_search(pattern[next_node_text_len:], next_node)"
   ]
  },
  {
   "cell_type": "markdown",
   "id": "77fa4878",
   "metadata": {},
   "source": [
    "## ad 4. Poprawność struktur"
   ]
  },
  {
   "cell_type": "code",
   "execution_count": 8,
   "id": "70cc4b0f",
   "metadata": {},
   "outputs": [],
   "source": [
    "strieA=StaticTrie(dataA)\n",
    "dtrieA=DynamicTrie(dataA)\n",
    "treeA=SuffixTree(dataA)\n",
    "\n",
    "strieB=StaticTrie(dataB)\n",
    "dtrieB=DynamicTrie(dataB)\n",
    "treeB=SuffixTree(dataB)\n",
    "\n",
    "strieC=StaticTrie(dataC)\n",
    "dtrieC=DynamicTrie(dataC)\n",
    "treeC=SuffixTree(dataC)\n",
    "\n",
    "strieD=StaticTrie(dataD)\n",
    "dtrieD=DynamicTrie(dataD)\n",
    "treeD=SuffixTree(dataD)\n",
    "\n",
    "strieE=StaticTrie(dataE)\n",
    "dtrieE=DynamicTrie(dataE)\n",
    "treeE=SuffixTree(dataE)"
   ]
  },
  {
   "cell_type": "code",
   "execution_count": 9,
   "id": "e458c306",
   "metadata": {},
   "outputs": [],
   "source": [
    "strieF=StaticTrie(dataF)"
   ]
  },
  {
   "cell_type": "code",
   "execution_count": 10,
   "id": "4934e535",
   "metadata": {},
   "outputs": [],
   "source": [
    "dtrieF=DynamicTrie(dataF)"
   ]
  },
  {
   "cell_type": "code",
   "execution_count": 11,
   "id": "836f8508",
   "metadata": {},
   "outputs": [],
   "source": [
    "treeF=SuffixTree(dataF)"
   ]
  },
  {
   "cell_type": "code",
   "execution_count": 12,
   "id": "0f398a92",
   "metadata": {},
   "outputs": [],
   "source": [
    "def test(strie, dtrie, tree, testok, testnotok):\n",
    "    print(\"test StaticTrie:\", end=\"\\t\")\n",
    "    print(\"ok\") if strie.pattern_search(testok) and not strie.pattern_search(testnotok) else print(\"not ok!!!\")\n",
    "\n",
    "    print(\"test DynamicTrie:\", end=\"\\t\")\n",
    "    print(\"ok\") if dtrie.pattern_search(testok) and not dtrie.pattern_search(testnotok) else print(\"not ok!!!\")\n",
    "\n",
    "    print(\"test SuffixTree:\", end=\"\\t\")\n",
    "    print(\"ok\") if tree.pattern_search(testok) and not tree.pattern_search(testnotok) else print(\"not ok!!!\")"
   ]
  },
  {
   "cell_type": "code",
   "execution_count": 13,
   "id": "190e3f68",
   "metadata": {},
   "outputs": [
    {
     "name": "stdout",
     "output_type": "stream",
     "text": [
      "testing on data A\n",
      "test StaticTrie:\tok\n",
      "test DynamicTrie:\tok\n",
      "test SuffixTree:\tok\n"
     ]
    }
   ],
   "source": [
    "print(\"testing on data A\")\n",
    "test(strieA, dtrieA, treeA, \"bb\", \"abk\")"
   ]
  },
  {
   "cell_type": "code",
   "execution_count": 14,
   "id": "56dd32b2",
   "metadata": {},
   "outputs": [
    {
     "name": "stdout",
     "output_type": "stream",
     "text": [
      "testing on data B\n",
      "test StaticTrie:\tok\n",
      "test DynamicTrie:\tok\n",
      "test SuffixTree:\tok\n"
     ]
    }
   ],
   "source": [
    "print(\"testing on data B\")\n",
    "test(strieB, dtrieB, treeB, \"babd\", \"babdb\")"
   ]
  },
  {
   "cell_type": "code",
   "execution_count": 15,
   "id": "bffd0770",
   "metadata": {},
   "outputs": [
    {
     "name": "stdout",
     "output_type": "stream",
     "text": [
      "testing on data C\n",
      "test StaticTrie:\tok\n",
      "test DynamicTrie:\tok\n",
      "test SuffixTree:\tok\n"
     ]
    }
   ],
   "source": [
    "print(\"testing on data C\")\n",
    "test(strieC, dtrieC, treeC, \"abc\", \"abbbc\")"
   ]
  },
  {
   "cell_type": "code",
   "execution_count": 16,
   "id": "927d8030",
   "metadata": {},
   "outputs": [
    {
     "name": "stdout",
     "output_type": "stream",
     "text": [
      "testing on data D\n",
      "test StaticTrie:\tok\n",
      "test DynamicTrie:\tok\n",
      "test SuffixTree:\tok\n"
     ]
    }
   ],
   "source": [
    "print(\"testing on data D\")\n",
    "test(strieD, dtrieD, treeD, \"baababa\", \"baababaaaaa\")"
   ]
  },
  {
   "cell_type": "code",
   "execution_count": 17,
   "id": "59d060b6",
   "metadata": {},
   "outputs": [
    {
     "name": "stdout",
     "output_type": "stream",
     "text": [
      "testing on data E\n",
      "test StaticTrie:\tok\n",
      "test DynamicTrie:\tok\n",
      "test SuffixTree:\tok\n"
     ]
    }
   ],
   "source": [
    "print(\"testing on data E\")\n",
    "test(strieE, dtrieE, treeE, dataE[3:50], \"00\")"
   ]
  },
  {
   "cell_type": "code",
   "execution_count": 18,
   "id": "aad50123",
   "metadata": {},
   "outputs": [
    {
     "name": "stdout",
     "output_type": "stream",
     "text": [
      "testing on data F\n",
      "test StaticTrie:\tok\n",
      "test DynamicTrie:\tok\n",
      "test SuffixTree:\tok\n"
     ]
    }
   ],
   "source": [
    "print(\"testing on data F\")\n",
    "test(strieF, dtrieF, treeF, \"163, Nr 90, poz. 419, Nr 113, poz.\", \"poz. 419, Nr 113ala ma kota\")"
   ]
  },
  {
   "cell_type": "markdown",
   "id": "d7c264e0",
   "metadata": {},
   "source": [
    "## ad 5. Porównanie czasów"
   ]
  },
  {
   "cell_type": "code",
   "execution_count": 19,
   "id": "ec66064d",
   "metadata": {},
   "outputs": [],
   "source": [
    "times={'A': {\"trie (no links)\":dtrieA.time, \"trie (links)\":dtrieA.time, \"suffix tree\": treeA.time},\n",
    "                'B': {\"trie (no links)\":dtrieB.time, \"trie (links)\":dtrieB.time, \"suffix tree\": treeB.time},\n",
    "                'C': {\"trie (no links)\":dtrieC.time, \"trie (links)\":dtrieC.time, \"suffix tree\": treeC.time},\n",
    "                'D': {\"trie (no links)\":dtrieD.time, \"trie (links)\":dtrieD.time, \"suffix tree\": treeD.time},\n",
    "                'E': {\"trie (no links)\":dtrieE.time, \"trie (links)\":dtrieE.time, \"suffix tree\": treeE.time},\n",
    "                'F': {\"trie (no links)\":dtrieF.time, \"trie (links)\":dtrieF.time, \"suffix tree\": treeF.time}}"
   ]
  },
  {
   "cell_type": "code",
   "execution_count": 20,
   "id": "9687455e",
   "metadata": {},
   "outputs": [
    {
     "data": {
      "text/html": [
       "<div>\n",
       "<style scoped>\n",
       "    .dataframe tbody tr th:only-of-type {\n",
       "        vertical-align: middle;\n",
       "    }\n",
       "\n",
       "    .dataframe tbody tr th {\n",
       "        vertical-align: top;\n",
       "    }\n",
       "\n",
       "    .dataframe thead th {\n",
       "        text-align: right;\n",
       "    }\n",
       "</style>\n",
       "<table border=\"1\" class=\"dataframe\">\n",
       "  <thead>\n",
       "    <tr style=\"text-align: right;\">\n",
       "      <th></th>\n",
       "      <th>A</th>\n",
       "      <th>B</th>\n",
       "      <th>C</th>\n",
       "      <th>D</th>\n",
       "      <th>E</th>\n",
       "      <th>F</th>\n",
       "    </tr>\n",
       "  </thead>\n",
       "  <tbody>\n",
       "    <tr>\n",
       "      <th>trie (no links)</th>\n",
       "      <td>0.000048</td>\n",
       "      <td>0.000021</td>\n",
       "      <td>0.000015</td>\n",
       "      <td>0.000086</td>\n",
       "      <td>0.006526</td>\n",
       "      <td>14.445446</td>\n",
       "    </tr>\n",
       "    <tr>\n",
       "      <th>trie (links)</th>\n",
       "      <td>0.000048</td>\n",
       "      <td>0.000021</td>\n",
       "      <td>0.000015</td>\n",
       "      <td>0.000086</td>\n",
       "      <td>0.006526</td>\n",
       "      <td>14.445446</td>\n",
       "    </tr>\n",
       "    <tr>\n",
       "      <th>suffix tree</th>\n",
       "      <td>0.000013</td>\n",
       "      <td>0.000014</td>\n",
       "      <td>0.000010</td>\n",
       "      <td>0.000140</td>\n",
       "      <td>0.000188</td>\n",
       "      <td>0.042381</td>\n",
       "    </tr>\n",
       "  </tbody>\n",
       "</table>\n",
       "</div>"
      ],
      "text/plain": [
       "                        A         B         C         D         E          F\n",
       "trie (no links)  0.000048  0.000021  0.000015  0.000086  0.006526  14.445446\n",
       "trie (links)     0.000048  0.000021  0.000015  0.000086  0.006526  14.445446\n",
       "suffix tree      0.000013  0.000014  0.000010  0.000140  0.000188   0.042381"
      ]
     },
     "metadata": {},
     "output_type": "display_data"
    }
   ],
   "source": [
    "df_times=pd.DataFrame(times)\n",
    "display(df_times)"
   ]
  }
 ],
 "metadata": {
  "kernelspec": {
   "display_name": "Python 3 (ipykernel)",
   "language": "python",
   "name": "python3"
  },
  "language_info": {
   "codemirror_mode": {
    "name": "ipython",
    "version": 3
   },
   "file_extension": ".py",
   "mimetype": "text/x-python",
   "name": "python",
   "nbconvert_exporter": "python",
   "pygments_lexer": "ipython3",
   "version": "3.9.12"
  }
 },
 "nbformat": 4,
 "nbformat_minor": 5
}

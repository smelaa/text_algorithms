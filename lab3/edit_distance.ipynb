{
 "cells": [
  {
   "cell_type": "markdown",
   "id": "95be2693",
   "metadata": {},
   "source": [
    "# Odległość edycyjna"
   ]
  },
  {
   "cell_type": "code",
   "execution_count": 1,
   "id": "adddcb76",
   "metadata": {},
   "outputs": [],
   "source": [
    "import numpy as np\n",
    "from enum import Enum\n",
    "from spacy.tokenizer import Tokenizer\n",
    "from spacy.lang.pl import Polish"
   ]
  },
  {
   "cell_type": "markdown",
   "id": "308c455c",
   "metadata": {},
   "source": [
    "### Algorytm obliczania odległości edycyjnej"
   ]
  },
  {
   "cell_type": "markdown",
   "id": "22a29c79",
   "metadata": {},
   "source": [
    "1. Zaimplementuj algorytm obliczania odległości edycyjnej w taki sposób, aby możliwe było określenie przynajmniej jednej sekwencji edycji (dodanie, usunięcie, zmiana znaku), która pozwala w minimalnej liczbie kroków, przekształcić jeden łańcuch w drugi."
   ]
  },
  {
   "cell_type": "code",
   "execution_count": 2,
   "id": "2be5b2f9",
   "metadata": {},
   "outputs": [],
   "source": [
    "class Step(Enum):\n",
    "    INIT = 0\n",
    "    RIGHT = 1\n",
    "    DOWN = 2\n",
    "    RIGHT_DOWN = 3\n",
    "\n",
    "def delta(a,b):\n",
    "    return a!=b\n",
    "\n",
    "def edit_distance(x,y,delta):\n",
    "    edit_table=np.empty((len(x)+1, len(y)+1))\n",
    "    steps=np.empty((len(x)+1, len(y)+1))\n",
    "    for i in range(len(x)+1):\n",
    "        edit_table[i,0]=i\n",
    "        steps[i,0]=Step.DOWN.value\n",
    "    for j in range(len(y)+1):\n",
    "        edit_table[0,j]=j\n",
    "        steps[0,j]=Step.RIGHT.value\n",
    "    steps[0,0]=Step.INIT.value\n",
    "    for i in range(len(x)):\n",
    "        k=i+1\n",
    "        for j in range(len(y)):\n",
    "            l=j+1\n",
    "            min_val=min(edit_table[k-1,l]+1, edit_table[k,l-1]+1, edit_table[k-1,l-1]+delta(x[i], y[j]))\n",
    "            edit_table[k,l]=min_val\n",
    "            if min_val==edit_table[k-1,l]+1:\n",
    "                steps[k,l]=Step.DOWN.value\n",
    "            elif min_val==edit_table[k,l-1]+1:\n",
    "                steps[k,l]=Step.RIGHT.value\n",
    "            else:\n",
    "                steps[k,l]=Step.RIGHT_DOWN.value\n",
    "    return edit_table, steps"
   ]
  },
  {
   "cell_type": "code",
   "execution_count": 3,
   "id": "27947f39",
   "metadata": {},
   "outputs": [
    {
     "name": "stdout",
     "output_type": "stream",
     "text": [
      "[[0. 1. 2. 3. 4.]\n",
      " [1. 1. 1. 2. 3.]\n",
      " [2. 2. 2. 1. 2.]\n",
      " [3. 3. 3. 2. 2.]]\n"
     ]
    }
   ],
   "source": [
    "print(edit_distance(\"los\", \"kloc\", delta)[0])"
   ]
  },
  {
   "cell_type": "markdown",
   "id": "93814788",
   "metadata": {},
   "source": [
    "2. Na podstawie poprzedniego punktu zaimplementuj prostą wizualizację działania algorytmu, poprzez wskazanie kolejnych wersji pierwszego łańcucha, w których dokonywana jest określona zmiana. \"Wizualizacja\" może działać w trybie tekstowym. Np. zmiana łańcuch \"los\" w \"kloc\" może być zrealizowana następująco:\n",
    "* *k*los (dodanie litery k)\n",
    "* klo*c* (zamiana s->c)"
   ]
  },
  {
   "cell_type": "code",
   "execution_count": 4,
   "id": "3dffeabe",
   "metadata": {},
   "outputs": [],
   "source": [
    "def get_path(len_x,len_y, steps):\n",
    "    curr_pointer=[len_x, len_y]\n",
    "    prev_step=steps[curr_pointer[0], curr_pointer[1]]\n",
    "    recalled_steps=[]\n",
    "    while prev_step!=Step.INIT.value:\n",
    "        if prev_step==Step.RIGHT_DOWN.value:\n",
    "            curr_pointer[0]-=1\n",
    "            curr_pointer[1]-=1\n",
    "        elif prev_step==Step.RIGHT.value:\n",
    "            curr_pointer[1]-=1\n",
    "        else:\n",
    "            curr_pointer[0]-=1\n",
    "        recalled_steps=[prev_step]+recalled_steps\n",
    "        prev_step=steps[curr_pointer[0], curr_pointer[1]]\n",
    "    return recalled_steps\n",
    "\n",
    "def recall_steps(x,y):\n",
    "    if(len(y)<len(x)):x,y=y,x\n",
    "    edit_table, steps=edit_distance(x,y,delta)\n",
    "    dist=int(edit_table[len(x), len(y)])\n",
    "    \n",
    "    recalled_steps=get_path(len(x),len(y), steps)\n",
    "\n",
    "    print(\"1.\", \"START\\t\", x)\n",
    "    for i in range(len(recalled_steps)):\n",
    "        if recalled_steps[i]==Step.RIGHT.value:\n",
    "            x=x[:i]+y[i]+x[i:]\n",
    "            print(str(i+2)+\".\", \"ADD\\t\\t\", x[:i]+\"*\"+x[i]+\"*\"+x[i+1:])\n",
    "        elif recalled_steps[i]==Step.DOWN.value:\n",
    "            print(str(i+2)+\".\", \"REMOVE\\t\", x[:i]+\"*\"+x[i+1:])\n",
    "            x=x[:i]+x[i+1:]\n",
    "        elif i<len(x) and i<len(y) and x[i]==y[i]:\n",
    "            print(str(i+2)+\".\", \"OK\\t\\t\", x[:i]+\"*\"+x[i]+\"*\"+x[i+1:])\n",
    "        elif i<len(y):\n",
    "            x=x[:i]+y[i]+x[i+1:]\n",
    "            print(str(i+2)+\".\", \"CHANGE\\t\", x[:i]+\"*\"+x[i]+\"*\"+x[i+1:])\n",
    "    print(\"\\nEDIT DISTANCE =\", dist)"
   ]
  },
  {
   "cell_type": "markdown",
   "id": "fe0cef81",
   "metadata": {},
   "source": [
    "3. Przedstaw wynik działania algorytmu z p. 2 dla następujących par łańcuchów:\n",
    "* los - kloc\n",
    "* Łódź - Lodz\n",
    "* kwintesencja - quintessence\n",
    "* ATGAATCTTACCGCCTCG - ATGAGGCTCTGGCCCCTG"
   ]
  },
  {
   "cell_type": "code",
   "execution_count": 5,
   "id": "42184e8a",
   "metadata": {},
   "outputs": [
    {
     "name": "stdout",
     "output_type": "stream",
     "text": [
      "1. START\t los\n",
      "2. ADD\t\t *k*los\n",
      "3. OK\t\t k*l*os\n",
      "4. OK\t\t kl*o*s\n",
      "5. CHANGE\t klo*c*\n",
      "\n",
      "EDIT DISTANCE = 2\n"
     ]
    }
   ],
   "source": [
    "recall_steps(\"kloc\", \"los\")"
   ]
  },
  {
   "cell_type": "code",
   "execution_count": 6,
   "id": "c4da76ea",
   "metadata": {},
   "outputs": [
    {
     "name": "stdout",
     "output_type": "stream",
     "text": [
      "1. START\t Łódź\n",
      "2. CHANGE\t *L*ódź\n",
      "3. CHANGE\t L*o*dź\n",
      "4. OK\t\t Lo*d*ź\n",
      "5. CHANGE\t Lod*z*\n",
      "\n",
      "EDIT DISTANCE = 3\n"
     ]
    }
   ],
   "source": [
    "recall_steps(\"Łódź\", \"Lodz\")"
   ]
  },
  {
   "cell_type": "code",
   "execution_count": 7,
   "id": "a5f1be07",
   "metadata": {},
   "outputs": [
    {
     "name": "stdout",
     "output_type": "stream",
     "text": [
      "1. START\t kwintesencja\n",
      "2. CHANGE\t *q*wintesencja\n",
      "3. CHANGE\t q*u*intesencja\n",
      "4. OK\t\t qu*i*ntesencja\n",
      "5. OK\t\t qui*n*tesencja\n",
      "6. OK\t\t quin*t*esencja\n",
      "7. OK\t\t quint*e*sencja\n",
      "8. OK\t\t quinte*s*encja\n",
      "9. ADD\t\t quintes*s*encja\n",
      "10. OK\t\t quintess*e*ncja\n",
      "11. OK\t\t quintesse*n*cja\n",
      "12. OK\t\t quintessen*c*ja\n",
      "13. CHANGE\t quintessenc*e*a\n",
      "14. REMOVE\t quintessence*\n",
      "\n",
      "EDIT DISTANCE = 5\n"
     ]
    }
   ],
   "source": [
    "recall_steps(\"kwintesencja\", \"quintessence\")"
   ]
  },
  {
   "cell_type": "code",
   "execution_count": 8,
   "id": "d1151054",
   "metadata": {},
   "outputs": [
    {
     "name": "stdout",
     "output_type": "stream",
     "text": [
      "1. START\t ATGAATCTTACCGCCTCG\n",
      "2. OK\t\t *A*TGAATCTTACCGCCTCG\n",
      "3. OK\t\t A*T*GAATCTTACCGCCTCG\n",
      "4. OK\t\t AT*G*AATCTTACCGCCTCG\n",
      "5. OK\t\t ATG*A*ATCTTACCGCCTCG\n",
      "6. CHANGE\t ATGA*G*TCTTACCGCCTCG\n",
      "7. CHANGE\t ATGAG*G*CTTACCGCCTCG\n",
      "8. OK\t\t ATGAGG*C*TTACCGCCTCG\n",
      "9. OK\t\t ATGAGGC*T*TACCGCCTCG\n",
      "10. ADD\t\t ATGAGGCT*C*TACCGCCTCG\n",
      "11. OK\t\t ATGAGGCTC*T*ACCGCCTCG\n",
      "12. CHANGE\t ATGAGGCTCT*G*CCGCCTCG\n",
      "13. ADD\t\t ATGAGGCTCTG*G*CCGCCTCG\n",
      "14. OK\t\t ATGAGGCTCTGG*C*CGCCTCG\n",
      "15. OK\t\t ATGAGGCTCTGGC*C*GCCTCG\n",
      "16. REMOVE\t ATGAGGCTCTGGCC*CCTCG\n",
      "17. OK\t\t ATGAGGCTCTGGCCC*C*TCG\n",
      "18. OK\t\t ATGAGGCTCTGGCCCC*T*CG\n",
      "19. CHANGE\t ATGAGGCTCTGGCCCCT*G*G\n",
      "20. REMOVE\t ATGAGGCTCTGGCCCCTG*\n",
      "\n",
      "EDIT DISTANCE = 7\n"
     ]
    }
   ],
   "source": [
    "recall_steps(\"ATGAATCTTACCGCCTCG\", \"ATGAGGCTCTGGCCCCTG\")"
   ]
  },
  {
   "cell_type": "markdown",
   "id": "fcd3ace4",
   "metadata": {},
   "source": [
    "### Algorytm obliczania najdłuższego wspólnego podciągu dla pary ciągów elementów"
   ]
  },
  {
   "cell_type": "markdown",
   "id": "60fa18c0",
   "metadata": {},
   "source": [
    "4. Zaimplementuj algorytm obliczania najdłuższego wspólnego podciągu dla pary ciągów elementów."
   ]
  },
  {
   "cell_type": "code",
   "execution_count": 9,
   "id": "da4fe3c1",
   "metadata": {},
   "outputs": [],
   "source": [
    "def delta2(x,y):\n",
    "    if x==y: return 0\n",
    "    else: return 2"
   ]
  },
  {
   "cell_type": "code",
   "execution_count": 10,
   "id": "c0fdf3a9",
   "metadata": {},
   "outputs": [],
   "source": [
    "def lcs(x,y):\n",
    "    return int((len(x)+len(y)-edit_distance(x,y, delta2)[0][len(x)][len(y)])/2)"
   ]
  },
  {
   "cell_type": "code",
   "execution_count": 11,
   "id": "4c8d2121",
   "metadata": {},
   "outputs": [
    {
     "name": "stdout",
     "output_type": "stream",
     "text": [
      "AXXXBXXXCXDE \t YYAYBCYYYYYYYYDYYEYYYY\n",
      "Longest common subsequence:  5\n"
     ]
    }
   ],
   "source": [
    "A=\"AXXXBXXXCXDE\"\n",
    "B=\"YYAYBCYYYYYYYYDYYEYYYY\"\n",
    "print(A, \"\\t\", B)\n",
    "print(\"Longest common subsequence: \", lcs(A, B))"
   ]
  },
  {
   "cell_type": "markdown",
   "id": "ac4dcf7d",
   "metadata": {},
   "source": [
    "5. Korzystając z gotowego tokenizera (np. spaCy - https://spacy.io/api/tokenizer) dokonaj podziału załączonego tekstu na tokeny."
   ]
  },
  {
   "cell_type": "code",
   "execution_count": 12,
   "id": "44677351",
   "metadata": {},
   "outputs": [],
   "source": [
    "nlp=Polish()\n",
    "tokenizer=Tokenizer(nlp.vocab)\n",
    "with open(\"romeo-i-julia-700.txt\", \"r\", encoding=\"utf-8\") as f:\n",
    "    text = f.read()\n",
    "tokens = tokenizer(text)"
   ]
  },
  {
   "cell_type": "markdown",
   "id": "295a175a",
   "metadata": {},
   "source": [
    "6. Stwórz 2 wersje załączonego tekstu, w których usunięto 3% losowych tokenów."
   ]
  },
  {
   "cell_type": "code",
   "execution_count": 13,
   "id": "aa92fb5b",
   "metadata": {},
   "outputs": [],
   "source": [
    "def del_tok(tokens, percent=3):\n",
    "    result = []\n",
    "    for token in tokens:\n",
    "        if np.random.random() > percent/100:\n",
    "            result.append(token)\n",
    "    return result"
   ]
  },
  {
   "cell_type": "code",
   "execution_count": 14,
   "id": "9eba64e7",
   "metadata": {},
   "outputs": [],
   "source": [
    "tokens1=del_tok(tokens)\n",
    "tokens2=del_tok(tokens)"
   ]
  },
  {
   "cell_type": "code",
   "execution_count": 15,
   "id": "2e0ffd98",
   "metadata": {},
   "outputs": [],
   "source": [
    "with open(\"text1.txt\", \"w\", encoding=\"utf-8\") as f:\n",
    "    for token in tokens1:\n",
    "        f.write(token.text_with_ws)\n",
    "with open(\"text2.txt\", \"w\", encoding=\"utf-8\") as f:\n",
    "    for token in tokens2:\n",
    "        f.write(token.text_with_ws)"
   ]
  },
  {
   "cell_type": "markdown",
   "id": "cf2b4e12",
   "metadata": {},
   "source": [
    "7. Oblicz długość najdłuższego podciągu wspólnych tokenów dla tych tekstów. Traktujemy teraz token (wyraz) jako podstawową, niepodzielną jednostkę ciągu."
   ]
  },
  {
   "cell_type": "code",
   "execution_count": 16,
   "id": "760fe775",
   "metadata": {},
   "outputs": [
    {
     "name": "stdout",
     "output_type": "stream",
     "text": [
      "Text1 len:  2199\n",
      "Text2 len:  2203\n",
      "Longest common subsequence:  2133\n"
     ]
    }
   ],
   "source": [
    "print(\"Text1 len: \", len(tokens1))\n",
    "print(\"Text2 len: \", len(tokens2))\n",
    "print(\"Longest common subsequence: \", lcs(tokens1, tokens2))"
   ]
  },
  {
   "cell_type": "markdown",
   "id": "610c0a83",
   "metadata": {},
   "source": [
    "8. Korzystając z algorytmu z punktu 4 skonstruuj narzędzie, o działaniu podobnym do narzędzia diff, tzn. wskazującego w dwóch plikach linie, które się różnią. Na wyjściu narzędzia powinny znaleźć się elementy, które nie należą do najdłuższego wspólnego podciągu. Należy wskazać skąd dana linia pochodzi (< > - pierwszy/drugi plik) oraz numer linii w danym pliku. Traktujemy teraz całą linię jako podstawową, niepodzielną jednostkę ciągu."
   ]
  },
  {
   "cell_type": "code",
   "execution_count": 17,
   "id": "7dae6c2c",
   "metadata": {},
   "outputs": [],
   "source": [
    "def diff(x,y, unit_name=\"FILE\", element_name=\"LINE\"):\n",
    "    if(len(y)<len(x)):x,y=y,x\n",
    "        \n",
    "    edit_di, steps=edit_distance(x,y, delta2)\n",
    "    \n",
    "    recalled_steps=get_path(len(x),len(y), steps)\n",
    "    \n",
    "    currx_i=0\n",
    "    curry_i=0\n",
    "    \n",
    "    for i in range(len(recalled_steps)):\n",
    "        if recalled_steps[i]==Step.RIGHT_DOWN.value:\n",
    "            currx_i+=1\n",
    "            curry_i+=1\n",
    "        elif recalled_steps[i]==Step.DOWN.value:\n",
    "            print(unit_name, \"1 |\", element_name, currx_i, \"|\", x[currx_i])\n",
    "            currx_i+=1\n",
    "        else:\n",
    "            print(unit_name, \"2 |\", element_name, curry_i, \"|\", y[curry_i])\n",
    "            curry_i+=1"
   ]
  },
  {
   "cell_type": "code",
   "execution_count": 18,
   "id": "b85c8947",
   "metadata": {},
   "outputs": [
    {
     "name": "stdout",
     "output_type": "stream",
     "text": [
      "WORD 1 | LETTER 0 | X\n",
      "WORD 2 | LETTER 1 | Y\n",
      "WORD 2 | LETTER 4 | Z\n",
      "WORD 1 | LETTER 6 | Y\n",
      "WORD 2 | LETTER 8 | Z\n"
     ]
    }
   ],
   "source": [
    "diff(\"XABCDEYF\", \"AYBCZDEFZ\", \"WORD\", \"LETTER\")"
   ]
  },
  {
   "cell_type": "markdown",
   "id": "260a0157",
   "metadata": {},
   "source": [
    "9. Przedstaw wynik działania narzędzia na tekstach z punktu 6. Zwróć uwagę na dodanie znaków przejścia do nowej linii, które są usuwane w trakcie tokenizacji."
   ]
  },
  {
   "cell_type": "code",
   "execution_count": 19,
   "id": "bc5c42fb",
   "metadata": {},
   "outputs": [],
   "source": [
    "with open(\"text1.txt\", \"r\", encoding=\"utf-8\") as f:\n",
    "        text1 = f.read()\n",
    "\n",
    "with open(\"text2.txt\", \"r\", encoding=\"utf-8\") as f:\n",
    "    text2 = f.read()\n",
    "\n",
    "text1 = text1.split('\\n')\n",
    "text2 = text2.split('\\n')"
   ]
  },
  {
   "cell_type": "code",
   "execution_count": 20,
   "id": "5f806f33",
   "metadata": {},
   "outputs": [
    {
     "name": "stdout",
     "output_type": "stream",
     "text": [
      "FILE 2 | LINE 0 | William Romeo i Julia\n",
      "FILE 1 | LINE 0 | William Shakespeare\n",
      "FILE 1 | LINE 1 | \n",
      "FILE 1 | LINE 2 | Romeo i Julia\n",
      "FILE 2 | LINE 20 |  * ABRAHAM — służący \n",
      "FILE 1 | LINE 22 |  * ABRAHAM — służący Montekiego\n",
      "FILE 2 | LINE 24 |  PIOTR\n",
      "FILE 1 | LINE 26 |  * PIOTR\n",
      "FILE 2 | LINE 28 |  * JULIA córka Kapuletów\n",
      "FILE 1 | LINE 30 |  * JULIA — córka Kapuletów\n",
      "FILE 2 | LINE 30 |  * Obywatele weroneńscy, różne osoby płci obojej, liczący się przyjaciół obu domów, straż wojskowa i inne osoby.\n",
      "FILE 1 | LINE 32 |  * Obywatele weroneńscy, różne osoby płci obojej, liczący się do przyjaciół obu domów, maski, wojskowa i inne osoby.\n",
      "FILE 2 | LINE 35 | Rzecz odbywa się przez większą część sztuki w Weronie, przez część piątego aktu w Mantui.\n",
      "FILE 1 | LINE 37 | Rzecz odbywa się przez większą część sztuki w Weronie, przez część piątego aktu w Mantui.PROLOG\n",
      "FILE 1 | LINE 39 | Jan Kasprowicz\n",
      "FILE 2 | LINE 38 | \n",
      "FILE 2 | LINE 39 | PROLOG\n",
      "FILE 2 | LINE 40 | \n",
      "FILE 2 | LINE 41 | Przełożył Jan Kasprowicz\n",
      "FILE 2 | LINE 42 | \n",
      "FILE 2 | LINE 44 | Tam, gdzie się rzecz ta rozgrywa, w Weronie,\n",
      "FILE 1 | LINE 42 | gdzie się rzecz ta rozgrywa, w Weronie,\n",
      "FILE 2 | LINE 48 | Z łon tych wrogów wzięło bowiem życie,\n",
      "FILE 1 | LINE 46 | Z łon tych dwu wrogów wzięło bowiem życie,\n",
      "FILE 2 | LINE 55 | Aż ją zakończy dzieci zgon przedwczesny,\n",
      "FILE 1 | LINE 53 | ją zakończy dzieci zgon przedwczesny,\n",
      "FILE 2 | LINE 59 | Jest w nim co złego, my usuniem błędy…\n",
      "FILE 1 | LINE 57 | Jest nim co złego, my usuniem błędy…\n",
      "FILE 2 | LINE 70 | / Plac publiczny. Wchodzą Samson i uzbrojeni w tarcze i miecze. /\n",
      "FILE 1 | LINE 68 | / Plac publiczny. Wchodzą Samson Grzegorz uzbrojeni w tarcze i /\n",
      "FILE 2 | LINE 90 | Kto zechce zadrzeć z nami, będzie musiał zadrżeć.\n",
      "FILE 1 | LINE 88 | Kto zechce zadrzeć z będzie musiał zadrżeć.\n",
      "FILE 2 | LINE 95 | Mam zwyczaj drapać zaraz, jak mię kto rozrucha.\n",
      "FILE 1 | LINE 93 | zwyczaj drapać zaraz, jak mię kto rozrucha.\n",
      "FILE 2 | LINE 110 | Rozruchać się tyle znaczy co ruszyć z miejsca; być walecznym jest to stać nieporuszenie: pojmuję więc, że skutkiem rozruchania się twego będzie - drapnięcie.\n",
      "FILE 1 | LINE 108 | Rozruchać się tyle znaczy co ruszyć się z miejsca; być walecznym jest to stać nieporuszenie: pojmuję więc, że skutkiem rozruchania twego będzie - drapnięcie.\n",
      "FILE 2 | LINE 115 | Te psy z domu Montekich rozruchać mię mogą tylko do stania na miejscu. Będę jak mur dla każdego mężczyzny i każdej kobiety z tego domu.\n",
      "FILE 1 | LINE 113 | Te psy z domu Montekich rozruchać mię mogą tylko do na miejscu. Będę jak mur dla każdego mężczyzny i każdej kobiety z tego domu.\n",
      "FILE 1 | LINE 116 | GRZEGORZ\n",
      "FILE 1 | LINE 118 | To właśnie pokazuje twoją słabą stronę; mur dla nikogo niestraszny i tylko słabi go się trzymają.\n",
      "FILE 2 | LINE 120 | To właśnie pokazuje twoją słabą stronę; mur dla nikogo i tylko słabi go się trzymają.\n",
      "FILE 2 | LINE 122 | \n",
      "FILE 2 | LINE 125 | Prawda, dlatego to kobiety, najsłabsze, tulą się zawsze do muru. Ja też odtrącę od muru ludzi Montekich, a kobiety Montekich przyprę do muru.\n",
      "FILE 1 | LINE 123 | Prawda, dlatego to kobiety, jako najsłabsze, tulą się zawsze do muru. Ja odtrącę od muru ludzi Montekich, a kobiety Montekich przyprę do muru.\n",
      "FILE 2 | LINE 130 | Spór tylko między naszymi panami i nami, ich ludźmi.\n",
      "FILE 1 | LINE 128 | Spór jest tylko między naszymi panami i między nami, ich ludźmi.\n",
      "FILE 2 | LINE 135 | Mniejsza mi o to, będę nieubłagany. Pobiwszy ludzi, wywrę wściekłość na kobietach: rzeź między nimi sprawię.\n",
      "FILE 1 | LINE 133 | Mniejsza mi to, będę nieubłagany. Pobiwszy ludzi, wywrę wściekłość na kobietach: rzeź między nimi sprawię.\n",
      "FILE 2 | LINE 145 | Nie inaczej: wtłoczę miecz w każdą po kolei. Wiadomo, że się do liczę.\n",
      "FILE 1 | LINE 143 | Nie inaczej: wtłoczę miecz w każdą po kolei. Wiadomo, że się do lwów liczę.\n",
      "FILE 2 | LINE 150 | Tym lepiej, że się liczysz do zwierząt; bo gdybyś się liczył do ryb, to byłbyś pewnie sztokfiszem. Weź no się za instrument, bo oto nadchodzi dwóch domowników Montekiego./ Wchodzą Abraham i Baltazar. /\n",
      "FILE 1 | LINE 148 | Tym lepiej, że się liczysz do zwierząt; bo gdybyś się liczył do ryb, to byłbyś pewnie sztokfiszem. Weź no się za instrument, bo oto nadchodzi dwóch domowników Montekiego.\n",
      "FILE 1 | LINE 150 | / Wchodzą Abraham Baltazar. /\n",
      "FILE 1 | LINE 152 | \n",
      "FILE 2 | LINE 155 | giwer już zaczep ich, ja stanę z tyłu.\n",
      "FILE 1 | LINE 155 | Mój giwer już dobyty: zaczep ich, ja stanę z tyłu.\n",
      "FILE 2 | LINE 200 | Czy na nas się skrzywiłeś, mości panie?\n",
      "FILE 1 | LINE 200 | Czy na nas się skrzywiłeś, mości panie?SAMSON\n",
      "FILE 2 | LINE 202 | \n",
      "FILE 2 | LINE 203 | SAMSON\n",
      "FILE 2 | LINE 204 | \n",
      "FILE 2 | LINE 207 | Będziemy–ż mieli prawo za sobą, jak powiem: tak \n",
      "FILE 1 | LINE 204 | Będziemy–ż mieli prawo za sobą, jak powiem: tak jest?\n",
      "FILE 2 | LINE 217 | Nie, mości panie; nie skrzywiłem się na was, tylko skrzywiłem się tak sobie.\n",
      "FILE 1 | LINE 214 | Nie, mości panie; nie skrzywiłem się na skrzywiłem się tak sobie.\n",
      "FILE 2 | LINE 234 | Jeżeli jej szukasz, to jestem na waścine usługi. Mój pan tak dobry jak \n",
      "FILE 1 | LINE 231 | Jeżeli jej szukasz, to jestem na waścine usługi. Mój pan dobry jak i wasz.\n",
      "FILE 2 | LINE 244 | Niech i tak będzie.\n",
      "FILE 1 | LINE 241 | i tak będzie.\n",
      "FILE 2 | LINE 251 | na stronie do Samsona /\n",
      "FILE 1 | LINE 248 | / na stronie Samsona /\n",
      "FILE 2 | LINE 253 | Powiedz: lepszy. Oto nadchodzi jeden z mego pana.\n",
      "FILE 1 | LINE 250 | Powiedz: lepszy. Oto nadchodzi z krewnych mego pana.\n",
      "FILE 2 | LINE 263 | Kłamiesz.\n",
      "FILE 1 | LINE 262 | \n",
      "FILE 2 | LINE 294 | Z gołym pokój? Nienawidzę\n",
      "FILE 2 | LINE 295 | Tego wyrazu, tak jak nienawidzę\n",
      "FILE 1 | LINE 291 | Z gołym orężem pokój? Nienawidzę\n",
      "FILE 1 | LINE 292 | Tego wyrazu, tak jak \n",
      "FILE 2 | LINE 299 | / Walczą. Nadchodzi kilku przyjaciół obu partii i mieszają się do zwady; wkrótce potem wchodzą mieszczanie z pałkami. /\n",
      "FILE 1 | LINE 296 | / Walczą. Nadchodzi kilku przyjaciół obu partii i mieszają się do zwady; wkrótce potem mieszczanie z pałkami. /\n",
      "FILE 2 | LINE 304 | Hola! berdyszów! pałek! po nich!\n",
      "FILE 2 | LINE 305 | Precz z Montekimi, precz z Kapuletami!\n",
      "FILE 1 | LINE 301 | Hola! berdyszów! pałek! Dalej po nich!\n",
      "FILE 1 | LINE 302 | Precz z Montekimi, precz Kapuletami!\n",
      "FILE 2 | LINE 307 | / Wchodzą i Pani Kapulet /\n",
      "FILE 1 | LINE 304 | / Wchodzą Kapulet i Kapulet /KAPULET\n",
      "FILE 2 | LINE 309 | \n",
      "FILE 2 | LINE 310 | KAPULET\n",
      "FILE 2 | LINE 311 | \n",
      "FILE 2 | LINE 318 | Raczej co ci z miecza?\n",
      "FILE 1 | LINE 312 | Raczej kulę; co ci z miecza?\n",
      "FILE 2 | LINE 323 | mówię! Stary Monteki nadchodzi.\n",
      "FILE 2 | LINE 324 | I szydnie swoją klingą mi urąga.\n",
      "FILE 1 | LINE 317 | Miecz, Stary Monteki nadchodzi.\n",
      "FILE 1 | LINE 318 | I szydnie swoją klingą mi urąga./ Wchodzą Monteki i Pani /\n",
      "FILE 2 | LINE 326 | / Wchodzą Monteki i Pani Monteki. \n",
      "FILE 2 | LINE 328 | \n",
      "FILE 2 | LINE 340 | Nie puszczę cię krok, gdy wróg przed tobą.\n",
      "FILE 1 | LINE 332 | Nie puszczę cię na krok, gdy wróg przed tobą.\n",
      "FILE 2 | LINE 354 | I posłuchajcie tego, co niniejszym\n",
      "FILE 1 | LINE 346 | I posłuchajcie tego, co \n",
      "FILE 2 | LINE 359 | Tak że poważni wiekiem i Obywatele werońscy musieli\n",
      "FILE 1 | LINE 351 | Tak że poważni wiekiem i zasługą\n",
      "FILE 1 | LINE 352 | Obywatele werońscy musieli\n",
      "FILE 2 | LINE 361 | I w stare dłonie stare ująć miecze,\n",
      "FILE 2 | LINE 362 | By zardzewiałym zardzewiałe\n",
      "FILE 2 | LINE 363 | Niechęci wasze przecinać. \n",
      "FILE 2 | LINE 364 | Wzniecicie kiedyś waśń podobną,Zamęt pokoju opłacicie życiem.\n",
      "FILE 2 | LINE 365 | teraz wszyscy ustąpcie niezwłocznie.\n",
      "FILE 1 | LINE 354 | I w stare dłonie stare ująć \n",
      "FILE 1 | LINE 355 | By zardzewiałym ostrzem zardzewiałe\n",
      "FILE 1 | LINE 356 | Niechęci wasze przecinać. Jeżeli\n",
      "FILE 1 | LINE 357 | Wzniecicie kiedyś waśń podobną,\n",
      "FILE 1 | LINE 358 | Zamęt pokoju opłacicie \n",
      "FILE 1 | LINE 359 | A teraz wszyscy ustąpcie niezwłocznie.\n",
      "FILE 2 | LINE 373 | / Książę z orszakiem wychodzi. Podobnież Kapulet, Pani Kapulet, Tybalt, obywatele i słudzy. /\n",
      "FILE 1 | LINE 367 | / Książę z orszakiem wychodzi. Podobnież Kapulet, Pani Kapulet, Tybalt, obywatele i /\n",
      "FILE 2 | LINE 379 | Był żeś tu wtedy, gdy się to zaczęło?\n",
      "FILE 1 | LINE 373 | Był żeś tu wtedy, gdy się to \n",
      "FILE 2 | LINE 385 | I wasi się bili, kiedym nadszedł;\n",
      "FILE 2 | LINE 386 | Dobyłem broni, aby ich \n",
      "FILE 1 | LINE 379 | I wasi już się bili, kiedym nadszedł;\n",
      "FILE 1 | LINE 380 | Dobyłem broni, aby ich rozdzielić:\n",
      "FILE 2 | LINE 388 | I harde zionąc mi w uszy wyzwanie,\n",
      "FILE 2 | LINE 389 | Jął się wywijać nim i siec powietrze,Które świszczało tylko szydząc z marnych\n",
      "FILE 1 | LINE 382 | harde zionąc mi uszy wyzwanie,\n",
      "FILE 1 | LINE 383 | Jął się wywijać nim i siec powietrze,\n",
      "FILE 1 | LINE 384 | Które świszczało tylko szydząc z marnych\n",
      "FILE 2 | LINE 393 | Aż książę nadszedł i rozdzielił wszystkich.\n",
      "FILE 1 | LINE 388 | książę nadszedł i rozdzielił wszystkich.\n",
      "FILE 2 | LINE 399 | Jakże się cieszę, że nie był w tym starciu.\n",
      "FILE 1 | LINE 394 | Jakże się cieszę, że nie był w tym starciu.BENWOLIO\n",
      "FILE 2 | LINE 401 | \n",
      "FILE 2 | LINE 402 | BENWOLIO\n",
      "FILE 2 | LINE 403 | \n",
      "FILE 2 | LINE 407 | W sykomorowy ów gaj, co się \n",
      "FILE 1 | LINE 399 | W sykomorowy ów gaj, co się ciągnie\n",
      "FILE 2 | LINE 409 | Tam, już tak rano, syn wasz się przechadzał.\n",
      "FILE 1 | LINE 401 | Tam, już rano, syn wasz się przechadzał.\n",
      "FILE 2 | LINE 414 | Mierząc mym własnym (serce nasze bowiem\n",
      "FILE 1 | LINE 406 | Mierząc mym własnym nasze bowiem\n",
      "FILE 2 | LINE 417 | w inną się udałem, chętnie\n",
      "FILE 1 | LINE 409 | I w inną stronę się udałem, chętnie\n",
      "FILE 2 | LINE 424 | Łzami poranną mnożącego rosę,\n",
      "FILE 1 | LINE 416 | Łzami poranną mnożącego \n",
      "FILE 2 | LINE 430 | Co tchu zamykał się w swoim pokoju;\n",
      "FILE 2 | LINE 431 | Zasłaniał okna przed jasnym dnia blaskiemI sztuczną sobie ciemnicę utwarzał.\n",
      "FILE 1 | LINE 422 | Co tchu zamykał w swoim pokoju;\n",
      "FILE 1 | LINE 423 | Zasłaniał okna przed jasnym dnia blaskiem\n",
      "FILE 1 | LINE 424 | I sztuczną sobie ciemnicę utwarzał.\n",
      "FILE 2 | LINE 443 | Nie znam i niego wydobyć nie mogę.\n",
      "FILE 1 | LINE 436 | Nie znam i z niego wydobyć nie mogę.\n",
      "FILE 2 | LINE 453 | i sam, i przez \n",
      "FILE 1 | LINE 446 | Wybadywałem i sam, i drugich,\n",
      "FILE 2 | LINE 455 | Tak im jest wierny, tak zamknięty w \n",
      "FILE 2 | LINE 456 | Od otwartości wszelkiej tak dalekiJak pączek kwiatu, co go robak gryzie,\n",
      "FILE 1 | LINE 448 | Tak im jest wierny, tak zamknięty w sobie,\n",
      "FILE 1 | LINE 449 | otwartości wszelkiej tak daleki\n",
      "FILE 1 | LINE 450 | Jak pączek kwiatu, co go robak gryzie,\n",
      "FILE 2 | LINE 462 | / Romeo ukazuje w głębi. /\n",
      "FILE 1 | LINE 456 | / Romeo ukazuje się w głębi. /\n",
      "FILE 2 | LINE 467 | Oto nadchodzi. Odstąpcie na stronę;\n",
      "FILE 2 | LINE 468 | Wyrwę z piersi cierpienia tajone.\n",
      "FILE 1 | LINE 461 | Oto nadchodzi. Odstąpcie na stronę;Wyrwę mu z piersi cierpienia tajone.\n",
      "FILE 2 | LINE 473 | Obyś w tej sprawie, co nam serce rani,\n",
      "FILE 1 | LINE 466 | Obyś tej sprawie, co nam serce rani,\n",
      "FILE 2 | LINE 486 |                         Jeszcze–ż nie południe?\n",
      "FILE 1 | LINE 479 |                         Jeszcze–ż nie południe?BENWOLIO\n",
      "FILE 2 | LINE 488 | \n",
      "FILE 2 | LINE 489 | BENWOLIO\n",
      "FILE 2 | LINE 490 | \n",
      "FILE 2 | LINE 498 | Tak spiesznie w tamtą zboczyli ulicę?\n",
      "FILE 1 | LINE 488 | Tak spiesznie tamtą zboczyli ulicę?\n",
      "FILE 2 | LINE 508 | Nieposiadanie tego, co je \n",
      "FILE 1 | LINE 498 | Nieposiadanie tego, co je skraca.\n",
      "FILE 2 | LINE 528 | Brak jej tam, skąd bym wzajemności.\n",
      "FILE 1 | LINE 518 | Brak jej tam, skąd bym pragnął wzajemności.\n",
      "FILE 1 | LINE 527 | ROMEO\n",
      "FILE 2 | LINE 538 | \n",
      "FILE 2 | LINE 541 | Gdzież dziś jeść będziem? Był tu podobno\n",
      "FILE 2 | LINE 542 | Jakiś spór? Nie mów mi o nim, wiem wszystko.\n",
      "FILE 2 | LINE 543 | W grze tu nienawiść wielka, lecz i \n",
      "FILE 1 | LINE 531 | Gdzież dziś jeść będziem? Ach! Był tu podobno\n",
      "FILE 1 | LINE 532 | Jakiś spór? Nie mów mi nim, wiem wszystko.\n",
      "FILE 1 | LINE 533 | W grze tu nienawiść wielka, lecz i miłość.\n",
      "FILE 2 | LINE 555 | BENWOLIO\n",
      "FILE 2 | LINE 557 |                         Nie, płakałbym raczej.\n",
      "FILE 1 | LINE 547 |                         Nie, płakałbym raczej.ROMEONad czym, poczciwa duszo?\n",
      "FILE 2 | LINE 560 | ROMEO\n",
      "FILE 2 | LINE 562 | Nad czym, poczciwa duszo?\n",
      "FILE 2 | LINE 563 | \n",
      "FILE 2 | LINE 564 | \n",
      "FILE 2 | LINE 580 | To dym, co z parą westchnień się unosi;\n",
      "FILE 2 | LINE 581 | To żar, co oku szczęśliwego płonie;\n",
      "FILE 1 | LINE 565 | To dym, co z parą się unosi;żar, co w oku szczęśliwego płonie;\n",
      "FILE 2 | LINE 584 | Żółcią trawiącą i zbawczym \n",
      "FILE 1 | LINE 568 | Żółcią trawiącą i zbawczym balsamem.\n",
      "FILE 2 | LINE 592 |                         Zaczekaj! krzywdę byś mi \n",
      "FILE 2 | LINE 593 | Gdybyś przyjaźń z kwitkiem tak zostawił.\n",
      "FILE 1 | LINE 576 |                         Zaczekaj! krzywdę byś mi sprawił,\n",
      "FILE 1 | LINE 577 | Gdybyś mą przyjaźń z kwitkiem tak zostawił.\n",
      "FILE 2 | LINE 599 | To Romeo, co rozmawia z tobą.\n",
      "FILE 1 | LINE 583 | To nie Romeo, co rozmawia z tobą.\n",
      "FILE 2 | LINE 610 | Mam–że wraz jęczyć i mówić?\n",
      "FILE 1 | LINE 594 | Mam–że wraz jęczyć mówić?\n",
      "FILE 2 | LINE 617 | Kogóż to kochasz? Powiedz.\n",
      "FILE 1 | LINE 601 | Kogóż to Powiedz.\n",
      "FILE 2 | LINE 622 |                         Każ choremu\n",
      "FILE 2 | LINE 623 | Pisać testament: wezwanie\n",
      "FILE 1 | LINE 606 |                         choremu\n",
      "FILE 1 | LINE 607 | Pisać testament: będzie–ż to wezwanie\n",
      "FILE 2 | LINE 630 |                         mierzył,\n",
      "FILE 1 | LINE 614 |                         Celniem mierzył,\n",
      "FILE 2 | LINE 636 | celujesz. I ta, którą kocham,\n",
      "FILE 1 | LINE 620 | Biegle celujesz. I ta, którą kocham,\n",
      "FILE 2 | LINE 651 | Szydzi z nawału oblężniczych;\n",
      "FILE 1 | LINE 635 | Szydzi z nawału zaklęć oblężniczych;\n",
      "FILE 2 | LINE 655 | Że kiedy umrze, do grobu z nią zstąpi\n",
      "FILE 2 | LINE 656 | Całe bogactwo, którego tak skąpi.BENWOLIO\n",
      "FILE 1 | LINE 639 | Że kiedy do grobu z nią zstąpi\n",
      "FILE 1 | LINE 640 | Całe bogactwo, którego skąpi.\n",
      "FILE 1 | LINE 642 | \n",
      "FILE 1 | LINE 643 | BENWOLIO\n",
      "FILE 1 | LINE 644 | \n",
      "FILE 2 | LINE 664 | Bo piękność, którą własna srogość strawia,Całą potomność piękności pozbawia.\n",
      "FILE 1 | LINE 651 | Bo piękność, którą własna srogość strawia,\n",
      "FILE 1 | LINE 652 | potomność piękności pozbawia.\n",
      "FILE 2 | LINE 666 | Zbyt mądrze piękna: stąd istnym jest głazem.\n",
      "FILE 2 | LINE 667 | Przysięgła nigdy nie kochać i dzięki\n",
      "FILE 2 | LINE 668 | Temu skazanym - wieczne cierpieć \n",
      "FILE 1 | LINE 654 | Zbyt mądrze piękna: istnym jest głazem.\n",
      "FILE 1 | LINE 655 | Przysięgła nigdy nie kochać i dziękiTemu skazanym - wieczne cierpieć męki.\n",
      "FILE 2 | LINE 673 | Jest na to rada: przestań myśleć o niej.\n",
      "FILE 1 | LINE 660 | Jest na to rada: przestań myśleć o \n",
      "FILE 2 | LINE 684 |                         Dając oczom \n",
      "FILE 1 | LINE 671 |                         Dając oczom wolność\n"
     ]
    }
   ],
   "source": [
    "diff(text1,text2)"
   ]
  },
  {
   "cell_type": "code",
   "execution_count": null,
   "id": "9e7fce47",
   "metadata": {},
   "outputs": [],
   "source": []
  }
 ],
 "metadata": {
  "kernelspec": {
   "display_name": "Python 3 (ipykernel)",
   "language": "python",
   "name": "python3"
  },
  "language_info": {
   "codemirror_mode": {
    "name": "ipython",
    "version": 3
   },
   "file_extension": ".py",
   "mimetype": "text/x-python",
   "name": "python",
   "nbconvert_exporter": "python",
   "pygments_lexer": "ipython3",
   "version": "3.10.10"
  }
 },
 "nbformat": 4,
 "nbformat_minor": 5
}

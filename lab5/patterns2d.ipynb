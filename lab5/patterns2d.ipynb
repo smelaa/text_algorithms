{
 "cells": [
  {
   "cell_type": "markdown",
   "id": "687ea436",
   "metadata": {},
   "source": [
    "# Wzorce dwuwymiarowe"
   ]
  },
  {
   "cell_type": "markdown",
   "id": "d56873c6",
   "metadata": {},
   "source": [
    "Zadanie dotyczy wyszukiwania wzorców dwuwymiarowych.\n",
    "\n",
    "1. Zaimplementuj algorytm wyszukiwania wzorca 2-wymiarowego \n",
    "2. Znajdź w załączonym pliku \"haystack.txt\" wszyskie sytuacje, gdy taka sama litera występuje na tej samej pozycji w dwóch kolejnych linijkach. Zwróć uwagę, na nierówną długość linii w pliku. \n",
    "3. Znajdź wszystkie wystąpienia \"th\" oraz \"t h\" w dwóch kolejnych liniach na tej samej pozycji. \n",
    "4. Wybierz przynajmniej 4 litery (małe). Znajdź wszystkie wystąpienia tej litery w załączonym pliku \"haystack.png\" \n",
    "5. Znajdź wszystkie wystąpienia słowa \"p a t t e r n\" w haystack.png. \n",
    "6. Porównaj czas budowania automatu i czas wyszukiwania dla różnych rozmiarów wzorca \n",
    "7. Podziel plik na 2, 4 i 8 fragmentów (w poziomie) i porównaj czas przeszukiwania "
   ]
  },
  {
   "cell_type": "code",
   "execution_count": 1,
   "id": "7cc73e3e",
   "metadata": {},
   "outputs": [],
   "source": [
    "from collections import deque\n",
    "import numpy as np\n",
    "import pandas as pd\n",
    "from PIL import Image\n",
    "from time import perf_counter\n",
    "from random import choice\n",
    "import matplotlib.pyplot as plt"
   ]
  },
  {
   "cell_type": "markdown",
   "id": "0a394b0a",
   "metadata": {},
   "source": [
    "## ad 1. Wyszukiwanie wzorca 2d"
   ]
  },
  {
   "cell_type": "markdown",
   "id": "0f25fcdd",
   "metadata": {},
   "source": [
    "### Budowa drzewa trie"
   ]
  },
  {
   "cell_type": "code",
   "execution_count": 2,
   "id": "8cbb33b4",
   "metadata": {},
   "outputs": [],
   "source": [
    "class Node:\n",
    "    def __init__(self, parent=None, letter=None, terminal=False, idx=0):\n",
    "        self.parent=parent\n",
    "        self.letter=letter\n",
    "        self.children=dict()\n",
    "        self.id=idx\n",
    "        self.terminal=terminal\n",
    "        self.nodes=dict()\n",
    "    \n",
    "    def add_node(self, node):\n",
    "        self.nodes[node.id]=node\n",
    "        \n",
    "    def get_node(self, index):\n",
    "        return self.nodes[index]"
   ]
  },
  {
   "cell_type": "code",
   "execution_count": 3,
   "id": "b035d545",
   "metadata": {},
   "outputs": [],
   "source": [
    "def build_trie(patterns):\n",
    "    root=Node(idx=0)\n",
    "    root.add_node(root)\n",
    "    last_idx=0\n",
    "    for pattern in patterns:\n",
    "        node=root\n",
    "        for idx, letter in enumerate(pattern):\n",
    "            terminal=(idx==len(pattern)-1)\n",
    "            if letter in node.children:\n",
    "                node=node.children[letter]\n",
    "                if terminal:\n",
    "                    node.terminal=True\n",
    "            else:\n",
    "                last_idx+=1\n",
    "                new_node=Node(letter=letter, parent=node, terminal=terminal, idx=last_idx)\n",
    "                root.add_node(new_node)\n",
    "                node.children[letter]=new_node\n",
    "                node=new_node\n",
    "    return root"
   ]
  },
  {
   "cell_type": "markdown",
   "id": "ae672417",
   "metadata": {},
   "source": [
    "### Budowa automatu akceptującego wiele wzorców"
   ]
  },
  {
   "cell_type": "code",
   "execution_count": 4,
   "id": "cebd35d9",
   "metadata": {},
   "outputs": [],
   "source": [
    "def build_multi_sma(patterns, alphabet):\n",
    "    root=build_trie(patterns)\n",
    "\n",
    "    finals=[]\n",
    "        \n",
    "    if root.terminal: finals.append(root.id)\n",
    "    \n",
    "    transition=dict()\n",
    "    \n",
    "    for nid in root.nodes.keys():\n",
    "        transition[nid]=dict()\n",
    "        \n",
    "    for letter in alphabet:\n",
    "        transition[root.id][letter]=root.id\n",
    "    \n",
    "    queue=deque()\n",
    "    queue.extend(root.children.values())\n",
    "    while len(queue)>0:\n",
    "        node= queue.popleft()\n",
    "        parent=node.parent\n",
    "        letter=node.letter\n",
    "        \n",
    "        queue.extend(node.children.values())\n",
    "\n",
    "        prev_state=transition[parent.id][letter]\n",
    "        prev_node=root.get_node(index=prev_state)\n",
    "        transition[parent.id][letter] = node.id\n",
    "        \n",
    "        if node.terminal or prev_node.terminal: \n",
    "            finals.append(node.id)\n",
    "            \n",
    "        for alphabet_letter in alphabet:\n",
    "            if alphabet_letter in prev_node.children.keys():\n",
    "                transition[node.id][alphabet_letter]=prev_node.children[alphabet_letter].id\n",
    "            else:\n",
    "                transition[node.id][alphabet_letter]=transition[prev_node.id][alphabet_letter]\n",
    "    \n",
    "    return transition, finals"
   ]
  },
  {
   "cell_type": "markdown",
   "id": "7ecd9faa",
   "metadata": {},
   "source": [
    "### Wyszukiwanie wzorca 2d w tekście"
   ]
  },
  {
   "cell_type": "code",
   "execution_count": 5,
   "id": "709bf88b",
   "metadata": {},
   "outputs": [],
   "source": [
    "def get_alphabet(text):\n",
    "    alphabet=set()\n",
    "    for line in text:\n",
    "        alphabet=alphabet.union(set(line))\n",
    "    return alphabet"
   ]
  },
  {
   "cell_type": "code",
   "execution_count": 6,
   "id": "08c4a578",
   "metadata": {},
   "outputs": [],
   "source": [
    "def search_many_patterns_cols(text, transition, finals):\n",
    "    result=[]\n",
    "    \n",
    "    for c in range(len(text[0])):\n",
    "        state=0\n",
    "        for r in range(len(text)):\n",
    "            letter=text[r][c]\n",
    "            state=transition[state][letter]\n",
    "            if state in finals:\n",
    "                result.append((r,c))\n",
    "                \n",
    "    return result      "
   ]
  },
  {
   "cell_type": "code",
   "execution_count": 7,
   "id": "5399ca00",
   "metadata": {},
   "outputs": [],
   "source": [
    "def search2d(text, pattern, preprocess=True, times=False): #text and pattern are lists of strings (lines of text)\n",
    "    max_line_len=0\n",
    "    \n",
    "    for line in text:\n",
    "        max_line_len=max(len(line), max_line_len)\n",
    "    \n",
    "    alphabet=get_alphabet(text)\n",
    "    alphabet=alphabet.union(get_alphabet(pattern))\n",
    "    \n",
    "    start = perf_counter()\n",
    "        \n",
    "    transition, finals=build_multi_sma(pattern, alphabet)\n",
    "    \n",
    "    end = perf_counter()\n",
    "    aut_time=end-start\n",
    "    \n",
    "    if preprocess:\n",
    "        for i in range(len(text)):\n",
    "            text[i]=text[i]+'$'*(max_line_len-len(text[i]))\n",
    "            \n",
    "    start = perf_counter()\n",
    "    \n",
    "    if len(finals)==len(pattern): final_pattern=finals\n",
    "    else:\n",
    "        pattern_dict=dict()\n",
    "        curr_f=0\n",
    "        final_pattern=[]\n",
    "        for p in pattern:\n",
    "            if not p in pattern_dict.keys():\n",
    "                pattern_dict[p]=finals[curr_f]\n",
    "                curr_f+=1\n",
    "            final_pattern.append(pattern_dict[p])\n",
    "    \n",
    "    \n",
    "    state_array=[[-1 for i in range(max_line_len)] for j in range (len(text))]\n",
    "    \n",
    "    for r in range(len(text)):\n",
    "        state=0\n",
    "        for c in range(len(text[r])):\n",
    "            letter=text[r][c]\n",
    "            state=transition[state][letter]\n",
    "            state_array[r][c]=state\n",
    "    \n",
    "    for r in range(len(text)):\n",
    "        state=0\n",
    "        for c in range(len(text[r])):\n",
    "            letter=text[r][c]\n",
    "            state=transition[state][letter]\n",
    "            state_array[r][c]=state\n",
    "    \n",
    "    transition2, finals2=build_multi_sma([final_pattern], list(range(max(np.max(state_array), np.max(final_pattern))+1)))\n",
    "    \n",
    "    result=search_many_patterns_cols(state_array, transition2, finals2)\n",
    "    \n",
    "    end = perf_counter()\n",
    "    search_time=end-start\n",
    "    \n",
    "    if times: return aut_time, search_time\n",
    "    \n",
    "    return result #tablica krotek zawierających numer wiersza i kolumny ostateniego znaku wzorca"
   ]
  },
  {
   "cell_type": "markdown",
   "id": "eb7314fc",
   "metadata": {},
   "source": [
    "## ad 2. Wyszukiwanie wielu wzorców"
   ]
  },
  {
   "cell_type": "code",
   "execution_count": 8,
   "id": "a1d3d7cf",
   "metadata": {},
   "outputs": [],
   "source": [
    "def read_text(file):\n",
    "    with open(file, \"r\", encoding=\"UTF-8\") as f:\n",
    "        text = f.read().splitlines()\n",
    "    return text"
   ]
  },
  {
   "cell_type": "markdown",
   "id": "e1513239",
   "metadata": {},
   "source": [
    "### Wyszukiwanie wielu wzorców w tekście"
   ]
  },
  {
   "cell_type": "code",
   "execution_count": 9,
   "id": "bda6e2fd",
   "metadata": {},
   "outputs": [],
   "source": [
    "def search_many_patterns_cols_wpreprocessing(text, patterns, alphabet=None): #text and pattern are lists of strings (lines of text)\n",
    "    max_line_len=0\n",
    "    \n",
    "    for line in text:\n",
    "        max_line_len=max(len(line), max_line_len)\n",
    "    \n",
    "    if alphabet is None:\n",
    "        alphabet=get_alphabet(text)\n",
    "        alphabet=alphabet.union(get_alphabet(patterns))\n",
    "    alphabet.add('$')\n",
    "        \n",
    "    transition, finals=build_multi_sma(patterns, alphabet)\n",
    "    \n",
    "    for i in range(len(text)):\n",
    "        text[i]=text[i]+'$'*(max_line_len-len(text[i]))\n",
    "    \n",
    "    return search_many_patterns_cols(text, transition, finals) #tablica krotek zawierających numer wiersza i kolumny ostateniego znaku wzorca"
   ]
  },
  {
   "cell_type": "markdown",
   "id": "cd4e3018",
   "metadata": {},
   "source": [
    "Znajdź w załączonym pliku \"haystack.txt\" wszyskie sytuacje, gdy taka sama litera występuje na tej samej pozycji w dwóch kolejnych linijkach. Zwróć uwagę, na nierówną długość linii w pliku. "
   ]
  },
  {
   "cell_type": "code",
   "execution_count": 10,
   "id": "637c9689",
   "metadata": {},
   "outputs": [],
   "source": [
    "haystack=read_text(\"haystack.txt\")\n",
    "alphabet=get_alphabet(haystack)\n",
    "patterns=[]\n",
    "for a in alphabet:\n",
    "    patterns.append(a+a)\n",
    "res2=search_many_patterns_cols_wpreprocessing(haystack, patterns, alphabet)"
   ]
  },
  {
   "cell_type": "code",
   "execution_count": 11,
   "id": "3b45e81c",
   "metadata": {},
   "outputs": [
    {
     "name": "stdout",
     "output_type": "stream",
     "text": [
      "znaleziono w kolumnie 0:\tznak (31, 0):\t[i], \t\tznak (32, 0):\t[i]\n",
      "znaleziono w kolumnie 0:\tznak (37, 0):\t[t], \t\tznak (38, 0):\t[t]\n",
      "znaleziono w kolumnie 0:\tznak (41, 0):\t[c], \t\tznak (42, 0):\t[c]\n",
      "znaleziono w kolumnie 0:\tznak (44, 0):\t[m], \t\tznak (45, 0):\t[m]\n",
      "znaleziono w kolumnie 0:\tznak (50, 0):\t[t], \t\tznak (51, 0):\t[t]\n",
      "znaleziono w kolumnie 0:\tznak (54, 0):\t[s], \t\tznak (55, 0):\t[s]\n",
      "znaleziono w kolumnie 0:\tznak (68, 0):\t[c], \t\tznak (69, 0):\t[c]\n",
      "znaleziono w kolumnie 1:\tznak (10, 1):\t[e], \t\tznak (11, 1):\t[e]\n",
      "znaleziono w kolumnie 1:\tznak (27, 1):\t[ ], \t\tznak (28, 1):\t[ ]\n",
      "znaleziono w kolumnie 1:\tznak (31, 1):\t[n], \t\tznak (32, 1):\t[n]\n",
      "znaleziono w kolumnie 1:\tznak (37, 1):\t[ ], \t\tznak (38, 1):\t[ ]\n",
      "znaleziono w kolumnie 1:\tznak (41, 1):\t[o], \t\tznak (42, 1):\t[o]\n",
      "znaleziono w kolumnie 1:\tznak (53, 1):\t[o], \t\tznak (54, 1):\t[o]\n",
      "znaleziono w kolumnie 1:\tznak (62, 1):\t[ ], \t\tznak (63, 1):\t[ ]\n",
      "znaleziono w kolumnie 1:\tznak (77, 1):\t[f], \t\tznak (78, 1):\t[f]\n",
      "znaleziono w kolumnie 2:\tznak (1, 2):\t[ ], \t\tznak (2, 2):\t[ ]\n",
      "znaleziono w kolumnie 2:\tznak (2, 2):\t[ ], \t\tznak (3, 2):\t[ ]\n",
      "znaleziono w kolumnie 2:\tznak (14, 2):\t[e], \t\tznak (15, 2):\t[e]\n",
      "znaleziono w kolumnie 2:\tznak (27, 2):\t[h], \t\tznak (28, 2):\t[h]\n",
      "znaleziono w kolumnie 2:\tznak (37, 2):\t[h], \t\tznak (38, 2):\t[h]\n",
      "znaleziono w kolumnie 2:\tznak (50, 2):\t[o], \t\tznak (51, 2):\t[o]\n",
      "znaleziono w kolumnie 2:\tznak (59, 2):\t[ ], \t\tznak (60, 2):\t[ ]\n",
      "znaleziono w kolumnie 2:\tznak (60, 2):\t[ ], \t\tznak (61, 2):\t[ ]\n",
      "znaleziono w kolumnie 2:\tznak (64, 2):\t[a], \t\tznak (65, 2):\t[a]\n",
      "znaleziono w kolumnie 3:\tznak (1, 3):\t[w], \t\tznak (2, 3):\t[w]\n",
      "znaleziono w kolumnie 3:\tznak (16, 3):\t[t], \t\tznak (17, 3):\t[t]\n",
      "znaleziono w kolumnie 3:\tznak (19, 3):\t[ ], \t\tznak (20, 3):\t[ ]\n",
      "znaleziono w kolumnie 3:\tznak (20, 3):\t[ ], \t\tznak (21, 3):\t[ ]\n",
      "znaleziono w kolumnie 3:\tznak (24, 3):\t[e], \t\tznak (25, 3):\t[e]\n",
      "znaleziono w kolumnie 3:\tznak (27, 3):\t[ ], \t\tznak (28, 3):\t[ ]\n",
      "znaleziono w kolumnie 3:\tznak (28, 3):\t[ ], \t\tznak (29, 3):\t[ ]\n",
      "znaleziono w kolumnie 3:\tznak (37, 3):\t[ ], \t\tznak (38, 3):\t[ ]\n",
      "znaleziono w kolumnie 3:\tznak (71, 3):\t[t], \t\tznak (72, 3):\t[t]\n",
      "znaleziono w kolumnie 3:\tznak (72, 3):\t[t], \t\tznak (73, 3):\t[t]\n",
      "znaleziono w kolumnie 4:\tznak (1, 4):\t[r], \t\tznak (2, 4):\t[r]\n",
      "znaleziono w kolumnie 4:\tznak (23, 4):\t[t], \t\tznak (24, 4):\t[t]\n",
      "znaleziono w kolumnie 4:\tznak (24, 4):\t[t], \t\tznak (25, 4):\t[t]\n",
      "znaleziono w kolumnie 4:\tznak (37, 4):\t[a], \t\tznak (38, 4):\t[a]\n",
      "znaleziono w kolumnie 5:\tznak (1, 5):\t[i], \t\tznak (2, 5):\t[i]\n",
      "znaleziono w kolumnie 5:\tznak (16, 5):\t[m], \t\tznak (17, 5):\t[m]\n",
      "znaleziono w kolumnie 5:\tznak (27, 5):\t[ ], \t\tznak (28, 5):\t[ ]\n",
      "znaleziono w kolumnie 5:\tznak (37, 5):\t[ ], \t\tznak (38, 5):\t[ ]\n",
      "znaleziono w kolumnie 5:\tznak (44, 5):\t[y], \t\tznak (45, 5):\t[y]\n",
      "znaleziono w kolumnie 5:\tznak (52, 5):\t[r], \t\tznak (53, 5):\t[r]\n",
      "znaleziono w kolumnie 5:\tznak (69, 5):\t[t], \t\tznak (70, 5):\t[t]\n",
      "znaleziono w kolumnie 6:\tznak (1, 6):\t[t], \t\tznak (2, 6):\t[t]\n",
      "znaleziono w kolumnie 6:\tznak (17, 6):\t[e], \t\tznak (18, 6):\t[e]\n",
      "znaleziono w kolumnie 6:\tznak (20, 6):\t[a], \t\tznak (21, 6):\t[a]\n",
      "znaleziono w kolumnie 6:\tznak (76, 6):\t[e], \t\tznak (77, 6):\t[e]\n",
      "znaleziono w kolumnie 6:\tznak (77, 6):\t[e], \t\tznak (78, 6):\t[e]\n",
      "znaleziono w kolumnie 6:\tznak (80, 6):\t[e], \t\tznak (81, 6):\t[e]\n",
      "znaleziono w kolumnie 7:\tznak (0, 7):\t[t], \t\tznak (1, 7):\t[t]\n",
      "znaleziono w kolumnie 7:\tznak (1, 7):\t[t], \t\tznak (2, 7):\t[t]\n",
      "znaleziono w kolumnie 7:\tznak (4, 7):\t[ ], \t\tznak (5, 7):\t[ ]\n",
      "znaleziono w kolumnie 7:\tznak (5, 7):\t[ ], \t\tznak (6, 7):\t[ ]\n",
      "znaleziono w kolumnie 7:\tznak (10, 7):\t[ ], \t\tznak (11, 7):\t[ ]\n",
      "znaleziono w kolumnie 7:\tznak (37, 7):\t[ ], \t\tznak (38, 7):\t[ ]\n",
      "znaleziono w kolumnie 7:\tznak (38, 7):\t[ ], \t\tznak (39, 7):\t[ ]\n",
      "znaleziono w kolumnie 7:\tznak (57, 7):\t[ ], \t\tznak (58, 7):\t[ ]\n",
      "znaleziono w kolumnie 8:\tznak (1, 8):\t[e], \t\tznak (2, 8):\t[e]\n",
      "znaleziono w kolumnie 8:\tznak (22, 8):\t[t], \t\tznak (23, 8):\t[t]\n",
      "znaleziono w kolumnie 8:\tznak (24, 8):\t[ ], \t\tznak (25, 8):\t[ ]\n",
      "znaleziono w kolumnie 8:\tznak (33, 8):\t[ ], \t\tznak (34, 8):\t[ ]\n",
      "znaleziono w kolumnie 8:\tznak (40, 8):\t[ ], \t\tznak (41, 8):\t[ ]\n",
      "znaleziono w kolumnie 8:\tznak (52, 8):\t[o], \t\tznak (53, 8):\t[o]\n",
      "znaleziono w kolumnie 8:\tznak (55, 8):\t[ ], \t\tznak (56, 8):\t[ ]\n",
      "znaleziono w kolumnie 9:\tznak (1, 9):\t[n], \t\tznak (2, 9):\t[n]\n",
      "znaleziono w kolumnie 9:\tznak (5, 9):\t[ ], \t\tznak (6, 9):\t[ ]\n",
      "znaleziono w kolumnie 10:\tznak (0, 10):\t[ ], \t\tznak (1, 10):\t[ ]\n",
      "znaleziono w kolumnie 10:\tznak (1, 10):\t[ ], \t\tznak (2, 10):\t[ ]\n",
      "znaleziono w kolumnie 10:\tznak (13, 10):\t[c], \t\tznak (14, 10):\t[c]\n",
      "znaleziono w kolumnie 10:\tznak (20, 10):\t[e], \t\tznak (21, 10):\t[e]\n",
      "znaleziono w kolumnie 10:\tznak (33, 10):\t[r], \t\tznak (34, 10):\t[r]\n",
      "znaleziono w kolumnie 10:\tznak (35, 10):\t[t], \t\tznak (36, 10):\t[t]\n",
      "znaleziono w kolumnie 10:\tznak (52, 10):\t[ ], \t\tznak (53, 10):\t[ ]\n",
      "znaleziono w kolumnie 10:\tznak (72, 10):\t[t], \t\tznak (73, 10):\t[t]\n",
      "znaleziono w kolumnie 10:\tznak (79, 10):\t[o], \t\tznak (80, 10):\t[o]\n",
      "znaleziono w kolumnie 11:\tznak (10, 11):\t[ ], \t\tznak (11, 11):\t[ ]\n",
      "znaleziono w kolumnie 11:\tznak (15, 11):\t[ ], \t\tznak (16, 11):\t[ ]\n",
      "znaleziono w kolumnie 11:\tznak (20, 11):\t[ ], \t\tznak (21, 11):\t[ ]\n",
      "znaleziono w kolumnie 11:\tznak (33, 11):\t[o], \t\tznak (34, 11):\t[o]\n",
      "znaleziono w kolumnie 11:\tznak (40, 11):\t[e], \t\tznak (41, 11):\t[e]\n",
      "znaleziono w kolumnie 11:\tznak (54, 11):\t[t], \t\tznak (55, 11):\t[t]\n",
      "znaleziono w kolumnie 11:\tznak (56, 11):\t[a], \t\tznak (57, 11):\t[a]\n",
      "znaleziono w kolumnie 12:\tznak (15, 12):\t[t], \t\tznak (16, 12):\t[t]\n",
      "znaleziono w kolumnie 12:\tznak (46, 12):\t[ ], \t\tznak (47, 12):\t[ ]\n",
      "znaleziono w kolumnie 12:\tznak (52, 12):\t[a], \t\tznak (53, 12):\t[a]\n",
      "znaleziono w kolumnie 12:\tznak (53, 12):\t[a], \t\tznak (54, 12):\t[a]\n",
      "znaleziono w kolumnie 12:\tznak (57, 12):\t[ ], \t\tznak (58, 12):\t[ ]\n",
      "znaleziono w kolumnie 12:\tznak (73, 12):\t[h], \t\tznak (74, 12):\t[h]\n",
      "znaleziono w kolumnie 13:\tznak (7, 13):\t[r], \t\tznak (8, 13):\t[r]\n",
      "znaleziono w kolumnie 13:\tznak (22, 13):\t[ ], \t\tznak (23, 13):\t[ ]\n",
      "znaleziono w kolumnie 13:\tznak (44, 13):\t[ ], \t\tznak (45, 13):\t[ ]\n",
      "znaleziono w kolumnie 13:\tznak (56, 13):\t[n], \t\tznak (57, 13):\t[n]\n",
      "znaleziono w kolumnie 13:\tznak (63, 13):\t[ ], \t\tznak (64, 13):\t[ ]\n",
      "znaleziono w kolumnie 13:\tznak (73, 13):\t[i], \t\tznak (74, 13):\t[i]\n",
      "znaleziono w kolumnie 13:\tznak (77, 13):\t[i], \t\tznak (78, 13):\t[i]\n",
      "znaleziono w kolumnie 14:\tznak (4, 14):\t[t], \t\tznak (5, 14):\t[t]\n",
      "znaleziono w kolumnie 14:\tznak (17, 14):\t[r], \t\tznak (18, 14):\t[r]\n",
      "znaleziono w kolumnie 14:\tznak (49, 14):\t[s], \t\tznak (50, 14):\t[s]\n",
      "znaleziono w kolumnie 14:\tznak (59, 14):\t[ ], \t\tznak (60, 14):\t[ ]\n",
      "znaleziono w kolumnie 14:\tznak (64, 14):\t[a], \t\tznak (65, 14):\t[a]\n",
      "znaleziono w kolumnie 14:\tznak (81, 14):\t[e], \t\tznak (82, 14):\t[e]\n",
      "znaleziono w kolumnie 15:\tznak (31, 15):\t[ ], \t\tznak (32, 15):\t[ ]\n",
      "znaleziono w kolumnie 15:\tznak (32, 15):\t[ ], \t\tznak (33, 15):\t[ ]\n",
      "znaleziono w kolumnie 15:\tznak (40, 15):\t[ ], \t\tznak (41, 15):\t[ ]\n",
      "znaleziono w kolumnie 15:\tznak (41, 15):\t[ ], \t\tznak (42, 15):\t[ ]\n",
      "znaleziono w kolumnie 15:\tznak (61, 15):\t[ ], \t\tznak (62, 15):\t[ ]\n",
      "znaleziono w kolumnie 15:\tznak (69, 15):\t[e], \t\tznak (70, 15):\t[e]\n",
      "znaleziono w kolumnie 16:\tznak (24, 16):\t[ ], \t\tznak (25, 16):\t[ ]\n",
      "znaleziono w kolumnie 16:\tznak (30, 16):\t[t], \t\tznak (31, 16):\t[t]\n",
      "znaleziono w kolumnie 16:\tznak (68, 16):\t[ ], \t\tznak (69, 16):\t[ ]\n",
      "znaleziono w kolumnie 16:\tznak (69, 16):\t[ ], \t\tznak (70, 16):\t[ ]\n",
      "znaleziono w kolumnie 17:\tznak (27, 17):\t[o], \t\tznak (28, 17):\t[o]\n",
      "znaleziono w kolumnie 17:\tznak (28, 17):\t[o], \t\tznak (29, 17):\t[o]\n",
      "znaleziono w kolumnie 17:\tznak (32, 17):\t[ ], \t\tznak (33, 17):\t[ ]\n",
      "znaleziono w kolumnie 17:\tznak (55, 17):\t[i], \t\tznak (56, 17):\t[i]\n",
      "znaleziono w kolumnie 17:\tznak (67, 17):\t[e], \t\tznak (68, 17):\t[e]\n",
      "znaleziono w kolumnie 18:\tznak (15, 18):\t[r], \t\tznak (16, 18):\t[r]\n",
      "znaleziono w kolumnie 18:\tznak (35, 18):\t[n], \t\tznak (36, 18):\t[n]\n",
      "znaleziono w kolumnie 18:\tznak (41, 18):\t[p], \t\tznak (42, 18):\t[p]\n",
      "znaleziono w kolumnie 18:\tznak (60, 18):\t[ ], \t\tznak (61, 18):\t[ ]\n",
      "znaleziono w kolumnie 19:\tznak (32, 19):\t[ ], \t\tznak (33, 19):\t[ ]\n",
      "znaleziono w kolumnie 19:\tznak (37, 19):\t[d], \t\tznak (38, 19):\t[d]\n",
      "znaleziono w kolumnie 20:\tznak (22, 20):\t[ ], \t\tznak (23, 20):\t[ ]\n",
      "znaleziono w kolumnie 20:\tznak (23, 20):\t[ ], \t\tznak (24, 20):\t[ ]\n",
      "znaleziono w kolumnie 20:\tznak (24, 20):\t[ ], \t\tznak (25, 20):\t[ ]\n",
      "znaleziono w kolumnie 20:\tznak (45, 20):\t[ ], \t\tznak (46, 20):\t[ ]\n",
      "znaleziono w kolumnie 20:\tznak (58, 20):\t[ ], \t\tznak (59, 20):\t[ ]\n",
      "znaleziono w kolumnie 21:\tznak (8, 21):\t[s], \t\tznak (9, 21):\t[s]\n",
      "znaleziono w kolumnie 21:\tznak (51, 21):\t[ ], \t\tznak (52, 21):\t[ ]\n",
      "znaleziono w kolumnie 21:\tznak (56, 21):\t[ ], \t\tznak (57, 21):\t[ ]\n",
      "znaleziono w kolumnie 21:\tznak (76, 21):\t[a], \t\tznak (77, 21):\t[a]\n",
      "znaleziono w kolumnie 22:\tznak (22, 22):\t[ ], \t\tznak (23, 22):\t[ ]\n",
      "znaleziono w kolumnie 22:\tznak (64, 22):\t[a], \t\tznak (65, 22):\t[a]\n",
      "znaleziono w kolumnie 22:\tznak (69, 22):\t[r], \t\tznak (70, 22):\t[r]\n",
      "znaleziono w kolumnie 22:\tznak (77, 22):\t[t], \t\tznak (78, 22):\t[t]\n",
      "znaleziono w kolumnie 22:\tznak (80, 22):\t[ ], \t\tznak (81, 22):\t[ ]\n",
      "znaleziono w kolumnie 23:\tznak (4, 23):\t[t], \t\tznak (5, 23):\t[t]\n",
      "znaleziono w kolumnie 23:\tznak (28, 23):\t[t], \t\tznak (29, 23):\t[t]\n",
      "znaleziono w kolumnie 23:\tznak (30, 23):\t[ ], \t\tznak (31, 23):\t[ ]\n",
      "znaleziono w kolumnie 23:\tznak (47, 23):\t[ ], \t\tznak (48, 23):\t[ ]\n",
      "znaleziono w kolumnie 23:\tznak (48, 23):\t[ ], \t\tznak (49, 23):\t[ ]\n",
      "znaleziono w kolumnie 23:\tznak (72, 23):\t[e], \t\tznak (73, 23):\t[e]\n",
      "znaleziono w kolumnie 24:\tznak (23, 24):\t[ ], \t\tznak (24, 24):\t[ ]\n",
      "znaleziono w kolumnie 24:\tznak (24, 24):\t[ ], \t\tznak (25, 24):\t[ ]\n",
      "znaleziono w kolumnie 24:\tznak (46, 24):\t[t], \t\tznak (47, 24):\t[t]\n",
      "znaleziono w kolumnie 24:\tznak (59, 24):\t[a], \t\tznak (60, 24):\t[a]\n",
      "znaleziono w kolumnie 24:\tznak (71, 24):\t[s], \t\tznak (72, 24):\t[s]\n",
      "znaleziono w kolumnie 24:\tznak (76, 24):\t[ ], \t\tznak (77, 24):\t[ ]\n",
      "znaleziono w kolumnie 24:\tznak (79, 24):\t[s], \t\tznak (80, 24):\t[s]\n",
      "znaleziono w kolumnie 25:\tznak (8, 25):\t[ ], \t\tznak (9, 25):\t[ ]\n",
      "znaleziono w kolumnie 25:\tznak (43, 25):\t[r], \t\tznak (44, 25):\t[r]\n",
      "znaleziono w kolumnie 26:\tznak (33, 26):\t[o], \t\tznak (34, 26):\t[o]\n",
      "znaleziono w kolumnie 26:\tznak (37, 26):\t[ ], \t\tznak (38, 26):\t[ ]\n",
      "znaleziono w kolumnie 26:\tznak (40, 26):\t[e], \t\tznak (41, 26):\t[e]\n",
      "znaleziono w kolumnie 26:\tznak (47, 26):\t[ ], \t\tznak (48, 26):\t[ ]\n",
      "znaleziono w kolumnie 26:\tznak (70, 26):\t[ ], \t\tznak (71, 26):\t[ ]\n",
      "znaleziono w kolumnie 26:\tznak (79, 26):\t[ ], \t\tznak (80, 26):\t[ ]\n",
      "znaleziono w kolumnie 27:\tznak (0, 27):\t[ ], \t\tznak (1, 27):\t[ ]\n",
      "znaleziono w kolumnie 27:\tznak (10, 27):\t[o], \t\tznak (11, 27):\t[o]\n",
      "znaleziono w kolumnie 27:\tznak (18, 27):\t[e], \t\tznak (19, 27):\t[e]\n",
      "znaleziono w kolumnie 27:\tznak (73, 27):\t[e], \t\tznak (74, 27):\t[e]\n",
      "znaleziono w kolumnie 27:\tznak (81, 27):\t[ ], \t\tznak (82, 27):\t[ ]\n",
      "znaleziono w kolumnie 29:\tznak (7, 29):\t[t], \t\tznak (8, 29):\t[t]\n",
      "znaleziono w kolumnie 29:\tznak (30, 29):\t[ ], \t\tznak (31, 29):\t[ ]\n",
      "znaleziono w kolumnie 29:\tznak (53, 29):\t[ ], \t\tznak (54, 29):\t[ ]\n",
      "znaleziono w kolumnie 29:\tznak (56, 29):\t[ ], \t\tznak (57, 29):\t[ ]\n",
      "znaleziono w kolumnie 29:\tznak (62, 29):\t[ ], \t\tznak (63, 29):\t[ ]\n",
      "znaleziono w kolumnie 29:\tznak (64, 29):\t[n], \t\tznak (65, 29):\t[n]\n",
      "znaleziono w kolumnie 29:\tznak (67, 29):\t[r], \t\tznak (68, 29):\t[r]\n",
      "znaleziono w kolumnie 29:\tznak (79, 29):\t[ ], \t\tznak (80, 29):\t[ ]\n",
      "znaleziono w kolumnie 30:\tznak (3, 30):\t[a], \t\tznak (4, 30):\t[a]\n",
      "znaleziono w kolumnie 30:\tznak (22, 30):\t[ ], \t\tznak (23, 30):\t[ ]\n",
      "znaleziono w kolumnie 30:\tznak (60, 30):\t[r], \t\tznak (61, 30):\t[r]\n",
      "znaleziono w kolumnie 31:\tznak (27, 31):\t[t], \t\tznak (28, 31):\t[t]\n",
      "znaleziono w kolumnie 31:\tznak (31, 31):\t[i], \t\tznak (32, 31):\t[i]\n",
      "znaleziono w kolumnie 31:\tznak (51, 31):\t[e], \t\tznak (52, 31):\t[e]\n",
      "znaleziono w kolumnie 31:\tznak (56, 31):\t[h], \t\tznak (57, 31):\t[h]\n",
      "znaleziono w kolumnie 31:\tznak (63, 31):\t[ ], \t\tznak (64, 31):\t[ ]\n",
      "znaleziono w kolumnie 32:\tznak (18, 32):\t[ ], \t\tznak (19, 32):\t[ ]\n",
      "znaleziono w kolumnie 32:\tznak (45, 32):\t[ ], \t\tznak (46, 32):\t[ ]\n",
      "znaleziono w kolumnie 32:\tznak (46, 32):\t[ ], \t\tznak (47, 32):\t[ ]\n",
      "znaleziono w kolumnie 32:\tznak (51, 32):\t[n], \t\tznak (52, 32):\t[n]\n",
      "znaleziono w kolumnie 32:\tznak (54, 32):\t[ ], \t\tznak (55, 32):\t[ ]\n",
      "znaleziono w kolumnie 32:\tznak (71, 32):\t[ ], \t\tznak (72, 32):\t[ ]\n",
      "znaleziono w kolumnie 33:\tznak (19, 33):\t[t], \t\tznak (20, 33):\t[t]\n",
      "znaleziono w kolumnie 33:\tznak (35, 33):\t[ ], \t\tznak (36, 33):\t[ ]\n",
      "znaleziono w kolumnie 33:\tznak (41, 33):\t[ ], \t\tznak (42, 33):\t[ ]\n",
      "znaleziono w kolumnie 33:\tznak (42, 33):\t[ ], \t\tznak (43, 33):\t[ ]\n",
      "znaleziono w kolumnie 33:\tznak (44, 33):\t[i], \t\tznak (45, 33):\t[i]\n",
      "znaleziono w kolumnie 33:\tznak (51, 33):\t[t], \t\tznak (52, 33):\t[t]\n",
      "znaleziono w kolumnie 33:\tznak (54, 33):\t[n], \t\tznak (55, 33):\t[n]\n",
      "znaleziono w kolumnie 33:\tznak (57, 33):\t[ ], \t\tznak (58, 33):\t[ ]\n",
      "znaleziono w kolumnie 33:\tznak (59, 33):\t[t], \t\tznak (60, 33):\t[t]\n",
      "znaleziono w kolumnie 34:\tznak (1, 34):\t[ ], \t\tznak (2, 34):\t[ ]\n",
      "znaleziono w kolumnie 34:\tznak (32, 34):\t[o], \t\tznak (33, 34):\t[o]\n",
      "znaleziono w kolumnie 34:\tznak (37, 34):\t[s], \t\tznak (38, 34):\t[s]\n",
      "znaleziono w kolumnie 34:\tznak (45, 34):\t[s], \t\tznak (46, 34):\t[s]\n",
      "znaleziono w kolumnie 34:\tznak (54, 34):\t[ ], \t\tznak (55, 34):\t[ ]\n",
      "znaleziono w kolumnie 35:\tznak (43, 35):\t[ ], \t\tznak (44, 35):\t[ ]\n",
      "znaleziono w kolumnie 35:\tznak (44, 35):\t[ ], \t\tznak (45, 35):\t[ ]\n",
      "znaleziono w kolumnie 35:\tznak (48, 35):\t[ ], \t\tznak (49, 35):\t[ ]\n",
      "znaleziono w kolumnie 35:\tznak (65, 35):\t[a], \t\tznak (66, 35):\t[a]\n",
      "znaleziono w kolumnie 35:\tznak (67, 35):\t[n], \t\tznak (68, 35):\t[n]\n",
      "znaleziono w kolumnie 35:\tznak (69, 35):\t[a], \t\tznak (70, 35):\t[a]\n",
      "znaleziono w kolumnie 36:\tznak (42, 36):\t[e], \t\tznak (43, 36):\t[e]\n",
      "znaleziono w kolumnie 36:\tznak (54, 36):\t[ ], \t\tznak (55, 36):\t[ ]\n",
      "znaleziono w kolumnie 36:\tznak (57, 36):\t[a], \t\tznak (58, 36):\t[a]\n",
      "znaleziono w kolumnie 36:\tznak (58, 36):\t[a], \t\tznak (59, 36):\t[a]\n",
      "znaleziono w kolumnie 37:\tznak (3, 37):\t[t], \t\tznak (4, 37):\t[t]\n",
      "znaleziono w kolumnie 37:\tznak (8, 37):\t[i], \t\tznak (9, 37):\t[i]\n",
      "znaleziono w kolumnie 37:\tznak (19, 37):\t[n], \t\tznak (20, 37):\t[n]\n",
      "znaleziono w kolumnie 37:\tznak (33, 37):\t[r], \t\tznak (34, 37):\t[r]\n",
      "znaleziono w kolumnie 37:\tznak (47, 37):\t[r], \t\tznak (48, 37):\t[r]\n",
      "znaleziono w kolumnie 37:\tznak (67, 37):\t[s], \t\tznak (68, 37):\t[s]\n",
      "znaleziono w kolumnie 37:\tznak (79, 37):\t[a], \t\tznak (80, 37):\t[a]\n",
      "znaleziono w kolumnie 38:\tznak (6, 38):\t[o], \t\tznak (7, 38):\t[o]\n",
      "znaleziono w kolumnie 38:\tznak (7, 38):\t[o], \t\tznak (8, 38):\t[o]\n",
      "znaleziono w kolumnie 38:\tznak (23, 38):\t[ ], \t\tznak (24, 38):\t[ ]\n",
      "znaleziono w kolumnie 38:\tznak (29, 38):\t[e], \t\tznak (30, 38):\t[e]\n",
      "znaleziono w kolumnie 38:\tznak (71, 38):\t[e], \t\tznak (72, 38):\t[e]\n",
      "znaleziono w kolumnie 39:\tznak (6, 39):\t[r], \t\tznak (7, 39):\t[r]\n",
      "znaleziono w kolumnie 39:\tznak (20, 39):\t[ ], \t\tznak (21, 39):\t[ ]\n",
      "znaleziono w kolumnie 39:\tznak (62, 39):\t[r], \t\tznak (63, 39):\t[r]\n",
      "znaleziono w kolumnie 40:\tznak (34, 40):\t[m], \t\tznak (35, 40):\t[m]\n",
      "znaleziono w kolumnie 40:\tznak (55, 40):\t[r], \t\tznak (56, 40):\t[r]\n",
      "znaleziono w kolumnie 40:\tznak (67, 40):\t[n], \t\tznak (68, 40):\t[n]\n",
      "znaleziono w kolumnie 40:\tznak (71, 40):\t[ ], \t\tznak (72, 40):\t[ ]\n",
      "znaleziono w kolumnie 41:\tznak (3, 41):\t[ ], \t\tznak (4, 41):\t[ ]\n",
      "znaleziono w kolumnie 41:\tznak (70, 41):\t[s], \t\tznak (71, 41):\t[s]\n",
      "znaleziono w kolumnie 41:\tznak (82, 41):\t[c], \t\tznak (83, 41):\t[c]\n",
      "znaleziono w kolumnie 42:\tznak (22, 42):\t[ ], \t\tznak (23, 42):\t[ ]\n",
      "znaleziono w kolumnie 42:\tznak (46, 42):\t[r], \t\tznak (47, 42):\t[r]\n",
      "znaleziono w kolumnie 42:\tznak (56, 42):\t[ ], \t\tznak (57, 42):\t[ ]\n",
      "znaleziono w kolumnie 42:\tznak (71, 42):\t[o], \t\tznak (72, 42):\t[o]\n",
      "znaleziono w kolumnie 42:\tznak (77, 42):\t[a], \t\tznak (78, 42):\t[a]\n",
      "znaleziono w kolumnie 43:\tznak (15, 43):\t[e], \t\tznak (16, 43):\t[e]\n",
      "znaleziono w kolumnie 43:\tznak (29, 43):\t[e], \t\tznak (30, 43):\t[e]\n",
      "znaleziono w kolumnie 43:\tznak (58, 43):\t[ ], \t\tznak (59, 43):\t[ ]\n",
      "znaleziono w kolumnie 44:\tznak (3, 44):\t[ ], \t\tznak (4, 44):\t[ ]\n",
      "znaleziono w kolumnie 44:\tznak (24, 44):\t[ ], \t\tznak (25, 44):\t[ ]\n",
      "znaleziono w kolumnie 44:\tznak (33, 44):\t[ ], \t\tznak (34, 44):\t[ ]\n",
      "znaleziono w kolumnie 44:\tznak (46, 44):\t[s], \t\tznak (47, 44):\t[s]\n",
      "znaleziono w kolumnie 44:\tznak (68, 44):\t[ ], \t\tznak (69, 44):\t[ ]\n",
      "znaleziono w kolumnie 45:\tznak (5, 45):\t[ ], \t\tznak (6, 45):\t[ ]\n",
      "znaleziono w kolumnie 45:\tznak (6, 45):\t[ ], \t\tznak (7, 45):\t[ ]\n",
      "znaleziono w kolumnie 45:\tznak (10, 45):\t[c], \t\tznak (11, 45):\t[c]\n",
      "znaleziono w kolumnie 45:\tznak (28, 45):\t[s], \t\tznak (29, 45):\t[s]\n",
      "znaleziono w kolumnie 45:\tznak (33, 45):\t[l], \t\tznak (34, 45):\t[l]\n",
      "znaleziono w kolumnie 45:\tznak (41, 45):\t[t], \t\tznak (42, 45):\t[t]\n",
      "znaleziono w kolumnie 45:\tznak (53, 45):\t[l], \t\tznak (54, 45):\t[l]\n",
      "znaleziono w kolumnie 45:\tznak (58, 45):\t[o], \t\tznak (59, 45):\t[o]\n",
      "znaleziono w kolumnie 45:\tznak (60, 45):\t[i], \t\tznak (61, 45):\t[i]\n",
      "znaleziono w kolumnie 46:\tznak (40, 46):\t[ ], \t\tznak (41, 46):\t[ ]\n",
      "znaleziono w kolumnie 46:\tznak (54, 46):\t[ ], \t\tznak (55, 46):\t[ ]\n",
      "znaleziono w kolumnie 46:\tznak (68, 46):\t[e], \t\tznak (69, 46):\t[e]\n",
      "znaleziono w kolumnie 46:\tznak (78, 46):\t[ ], \t\tznak (79, 46):\t[ ]\n",
      "znaleziono w kolumnie 47:\tznak (82, 47):\t[e], \t\tznak (83, 47):\t[e]\n",
      "znaleziono w kolumnie 48:\tznak (9, 48):\t[ ], \t\tznak (10, 48):\t[ ]\n",
      "znaleziono w kolumnie 48:\tznak (37, 48):\t[e], \t\tznak (38, 48):\t[e]\n",
      "znaleziono w kolumnie 48:\tznak (42, 48):\t[e], \t\tznak (43, 48):\t[e]\n",
      "znaleziono w kolumnie 48:\tznak (53, 48):\t[a], \t\tznak (54, 48):\t[a]\n",
      "znaleziono w kolumnie 48:\tznak (60, 48):\t[ ], \t\tznak (61, 48):\t[ ]\n",
      "znaleziono w kolumnie 48:\tznak (63, 48):\t[ ], \t\tznak (64, 48):\t[ ]\n",
      "znaleziono w kolumnie 49:\tznak (4, 49):\t[s], \t\tznak (5, 49):\t[s]\n",
      "znaleziono w kolumnie 49:\tznak (21, 49):\t[ ], \t\tznak (22, 49):\t[ ]\n",
      "znaleziono w kolumnie 49:\tznak (58, 49):\t[t], \t\tznak (59, 49):\t[t]\n",
      "znaleziono w kolumnie 49:\tznak (70, 49):\t[e], \t\tznak (71, 49):\t[e]\n",
      "znaleziono w kolumnie 50:\tznak (6, 50):\t[r], \t\tznak (7, 50):\t[r]\n",
      "znaleziono w kolumnie 50:\tznak (31, 50):\t[a], \t\tznak (32, 50):\t[a]\n",
      "znaleziono w kolumnie 50:\tznak (47, 50):\t[e], \t\tznak (48, 50):\t[e]\n",
      "znaleziono w kolumnie 50:\tznak (58, 50):\t[e], \t\tznak (59, 50):\t[e]\n",
      "znaleziono w kolumnie 50:\tznak (81, 50):\t[ ], \t\tznak (82, 50):\t[ ]\n",
      "znaleziono w kolumnie 51:\tznak (20, 51):\t[ ], \t\tznak (21, 51):\t[ ]\n",
      "znaleziono w kolumnie 51:\tznak (21, 51):\t[ ], \t\tznak (22, 51):\t[ ]\n",
      "znaleziono w kolumnie 51:\tznak (30, 51):\t[ ], \t\tznak (31, 51):\t[ ]\n",
      "znaleziono w kolumnie 51:\tznak (62, 51):\t[ ], \t\tznak (63, 51):\t[ ]\n",
      "znaleziono w kolumnie 51:\tznak (68, 51):\t[i], \t\tznak (69, 51):\t[i]\n",
      "znaleziono w kolumnie 52:\tznak (28, 52):\t[t], \t\tznak (29, 52):\t[t]\n",
      "znaleziono w kolumnie 52:\tznak (46, 52):\t[e], \t\tznak (47, 52):\t[e]\n",
      "znaleziono w kolumnie 52:\tznak (59, 52):\t[ ], \t\tznak (60, 52):\t[ ]\n",
      "znaleziono w kolumnie 52:\tznak (60, 52):\t[ ], \t\tznak (61, 52):\t[ ]\n",
      "znaleziono w kolumnie 52:\tznak (81, 52):\t[o], \t\tznak (82, 52):\t[o]\n",
      "znaleziono w kolumnie 53:\tznak (22, 53):\t[e], \t\tznak (23, 53):\t[e]\n",
      "znaleziono w kolumnie 53:\tznak (52, 53):\t[s], \t\tznak (53, 53):\t[s]\n",
      "znaleziono w kolumnie 54:\tznak (3, 54):\t[c], \t\tznak (4, 54):\t[c]\n",
      "znaleziono w kolumnie 54:\tznak (14, 54):\t[n], \t\tznak (15, 54):\t[n]\n",
      "znaleziono w kolumnie 54:\tznak (19, 54):\t[r], \t\tznak (20, 54):\t[r]\n",
      "znaleziono w kolumnie 54:\tznak (20, 54):\t[r], \t\tznak (21, 54):\t[r]\n",
      "znaleziono w kolumnie 54:\tznak (55, 54):\t[t], \t\tznak (56, 54):\t[t]\n",
      "znaleziono w kolumnie 54:\tznak (57, 54):\t[e], \t\tznak (58, 54):\t[e]\n",
      "znaleziono w kolumnie 54:\tznak (58, 54):\t[e], \t\tznak (59, 54):\t[e]\n",
      "znaleziono w kolumnie 55:\tznak (13, 55):\t[t], \t\tznak (14, 55):\t[t]\n",
      "znaleziono w kolumnie 55:\tznak (19, 55):\t[i], \t\tznak (20, 55):\t[i]\n",
      "znaleziono w kolumnie 55:\tznak (31, 55):\t[ ], \t\tznak (32, 55):\t[ ]\n",
      "znaleziono w kolumnie 55:\tznak (44, 55):\t[o], \t\tznak (45, 55):\t[o]\n",
      "znaleziono w kolumnie 55:\tznak (48, 55):\t[ ], \t\tznak (49, 55):\t[ ]\n",
      "znaleziono w kolumnie 56:\tznak (20, 56):\t[n], \t\tznak (21, 56):\t[n]\n",
      "znaleziono w kolumnie 56:\tznak (29, 56):\t[s], \t\tznak (30, 56):\t[s]\n",
      "znaleziono w kolumnie 56:\tznak (30, 56):\t[s], \t\tznak (31, 56):\t[s]\n",
      "znaleziono w kolumnie 56:\tznak (61, 56):\t[t], \t\tznak (62, 56):\t[t]\n",
      "znaleziono w kolumnie 57:\tznak (3, 57):\t[s], \t\tznak (4, 57):\t[s]\n",
      "znaleziono w kolumnie 57:\tznak (30, 57):\t[ ], \t\tznak (31, 57):\t[ ]\n",
      "znaleziono w kolumnie 57:\tznak (41, 57):\t[e], \t\tznak (42, 57):\t[e]\n",
      "znaleziono w kolumnie 57:\tznak (63, 57):\t[ ], \t\tznak (64, 57):\t[ ]\n",
      "znaleziono w kolumnie 57:\tznak (67, 57):\t[n], \t\tznak (68, 57):\t[n]\n",
      "znaleziono w kolumnie 58:\tznak (0, 58):\t[ ], \t\tznak (1, 58):\t[ ]\n",
      "znaleziono w kolumnie 58:\tznak (9, 58):\t[s], \t\tznak (10, 58):\t[s]\n",
      "znaleziono w kolumnie 58:\tznak (14, 58):\t[ ], \t\tznak (15, 58):\t[ ]\n",
      "znaleziono w kolumnie 58:\tznak (15, 58):\t[ ], \t\tznak (16, 58):\t[ ]\n",
      "znaleziono w kolumnie 58:\tznak (23, 58):\t[ ], \t\tznak (24, 58):\t[ ]\n",
      "znaleziono w kolumnie 58:\tznak (30, 58):\t[o], \t\tznak (31, 58):\t[o]\n",
      "znaleziono w kolumnie 58:\tznak (46, 58):\t[ ], \t\tznak (47, 58):\t[ ]\n",
      "znaleziono w kolumnie 59:\tznak (21, 59):\t[ ], \t\tznak (22, 59):\t[ ]\n",
      "znaleziono w kolumnie 59:\tznak (30, 59):\t[f], \t\tznak (31, 59):\t[f]\n",
      "znaleziono w kolumnie 59:\tznak (48, 59):\t[ ], \t\tznak (49, 59):\t[ ]\n",
      "znaleziono w kolumnie 59:\tznak (70, 59):\t[ ], \t\tznak (71, 59):\t[ ]\n",
      "znaleziono w kolumnie 59:\tznak (72, 59):\t[t], \t\tznak (73, 59):\t[t]\n",
      "znaleziono w kolumnie 59:\tznak (78, 59):\t[a], \t\tznak (79, 59):\t[a]\n",
      "znaleziono w kolumnie 60:\tznak (5, 60):\t[a], \t\tznak (6, 60):\t[a]\n",
      "znaleziono w kolumnie 60:\tznak (9, 60):\t[i], \t\tznak (10, 60):\t[i]\n",
      "znaleziono w kolumnie 60:\tznak (13, 60):\t[ ], \t\tznak (14, 60):\t[ ]\n",
      "znaleziono w kolumnie 60:\tznak (15, 60):\t[o], \t\tznak (16, 60):\t[o]\n",
      "znaleziono w kolumnie 60:\tznak (23, 60):\t[ ], \t\tznak (24, 60):\t[ ]\n",
      "znaleziono w kolumnie 60:\tznak (34, 60):\t[m], \t\tznak (35, 60):\t[m]\n",
      "znaleziono w kolumnie 60:\tznak (60, 60):\t[ ], \t\tznak (61, 60):\t[ ]\n",
      "znaleziono w kolumnie 60:\tznak (61, 60):\t[ ], \t\tznak (62, 60):\t[ ]\n",
      "znaleziono w kolumnie 60:\tznak (62, 60):\t[ ], \t\tznak (63, 60):\t[ ]\n",
      "znaleziono w kolumnie 61:\tznak (21, 61):\t[e], \t\tznak (22, 61):\t[e]\n",
      "znaleziono w kolumnie 61:\tznak (44, 61):\t[ ], \t\tznak (45, 61):\t[ ]\n",
      "znaleziono w kolumnie 61:\tznak (46, 61):\t[l], \t\tznak (47, 61):\t[l]\n",
      "znaleziono w kolumnie 61:\tznak (52, 61):\t[t], \t\tznak (53, 61):\t[t]\n",
      "znaleziono w kolumnie 61:\tznak (77, 61):\t[a], \t\tznak (78, 61):\t[a]\n",
      "znaleziono w kolumnie 62:\tznak (21, 62):\t[n], \t\tznak (22, 62):\t[n]\n",
      "znaleziono w kolumnie 62:\tznak (41, 62):\t[ ], \t\tznak (42, 62):\t[ ]\n",
      "znaleziono w kolumnie 62:\tznak (53, 62):\t[ ], \t\tznak (54, 62):\t[ ]\n",
      "znaleziono w kolumnie 62:\tznak (69, 62):\t[ ], \t\tznak (70, 62):\t[ ]\n",
      "znaleziono w kolumnie 62:\tznak (70, 62):\t[ ], \t\tznak (71, 62):\t[ ]\n",
      "znaleziono w kolumnie 63:\tznak (0, 63):\t[e], \t\tznak (1, 63):\t[e]\n",
      "znaleziono w kolumnie 63:\tznak (3, 63):\t[s], \t\tznak (4, 63):\t[s]\n",
      "znaleziono w kolumnie 63:\tznak (6, 63):\t[a], \t\tznak (7, 63):\t[a]\n",
      "znaleziono w kolumnie 63:\tznak (24, 63):\t[ ], \t\tznak (25, 63):\t[ ]\n",
      "znaleziono w kolumnie 63:\tznak (37, 63):\t[ ], \t\tznak (38, 63):\t[ ]\n",
      "znaleziono w kolumnie 63:\tznak (40, 63):\t[s], \t\tznak (41, 63):\t[s]\n",
      "znaleziono w kolumnie 63:\tznak (80, 63):\t[ ], \t\tznak (81, 63):\t[ ]\n",
      "znaleziono w kolumnie 64:\tznak (4, 64):\t[ ], \t\tznak (5, 64):\t[ ]\n",
      "znaleziono w kolumnie 64:\tznak (10, 64):\t[e], \t\tznak (11, 64):\t[e]\n",
      "znaleziono w kolumnie 64:\tznak (35, 64):\t[ ], \t\tznak (36, 64):\t[ ]\n",
      "znaleziono w kolumnie 65:\tznak (7, 65):\t[e], \t\tznak (8, 65):\t[e]\n",
      "znaleziono w kolumnie 65:\tznak (24, 65):\t[e], \t\tznak (25, 65):\t[e]\n",
      "znaleziono w kolumnie 65:\tznak (28, 65):\t[r], \t\tznak (29, 65):\t[r]\n",
      "znaleziono w kolumnie 65:\tznak (78, 65):\t[e], \t\tznak (79, 65):\t[e]\n",
      "znaleziono w kolumnie 66:\tznak (5, 66):\t[o], \t\tznak (6, 66):\t[o]\n",
      "znaleziono w kolumnie 66:\tznak (28, 66):\t[ ], \t\tznak (29, 66):\t[ ]\n",
      "znaleziono w kolumnie 66:\tznak (33, 66):\t[a], \t\tznak (34, 66):\t[a]\n",
      "znaleziono w kolumnie 66:\tznak (63, 66):\t[e], \t\tznak (64, 66):\t[e]\n",
      "znaleziono w kolumnie 67:\tznak (28, 67):\t[e], \t\tznak (29, 67):\t[e]\n",
      "znaleziono w kolumnie 67:\tznak (58, 67):\t[ ], \t\tznak (59, 67):\t[ ]\n",
      "znaleziono w kolumnie 68:\tznak (28, 68):\t[x], \t\tznak (29, 68):\t[x]\n",
      "znaleziono w kolumnie 68:\tznak (42, 68):\t[ ], \t\tznak (43, 68):\t[ ]\n",
      "znaleziono w kolumnie 69:\tznak (21, 69):\t[ ], \t\tznak (22, 69):\t[ ]\n",
      "znaleziono w kolumnie 69:\tznak (28, 69):\t[a], \t\tznak (29, 69):\t[a]\n",
      "znaleziono w kolumnie 69:\tznak (34, 69):\t[ ], \t\tznak (35, 69):\t[ ]\n",
      "znaleziono w kolumnie 69:\tznak (40, 69):\t[ ], \t\tznak (41, 69):\t[ ]\n",
      "znaleziono w kolumnie 69:\tznak (52, 69):\t[i], \t\tznak (53, 69):\t[i]\n",
      "znaleziono w kolumnie 69:\tznak (65, 69):\t[e], \t\tznak (66, 69):\t[e]\n",
      "znaleziono w kolumnie 70:\tznak (21, 70):\t[w], \t\tznak (22, 70):\t[w]\n",
      "znaleziono w kolumnie 70:\tznak (28, 70):\t[m], \t\tznak (29, 70):\t[m]\n",
      "znaleziono w kolumnie 70:\tznak (31, 70):\t[r], \t\tznak (32, 70):\t[r]\n",
      "znaleziono w kolumnie 71:\tznak (28, 71):\t[p], \t\tznak (29, 71):\t[p]\n",
      "znaleziono w kolumnie 71:\tznak (67, 71):\t[t], \t\tznak (68, 71):\t[t]\n",
      "znaleziono w kolumnie 72:\tznak (28, 72):\t[l], \t\tznak (29, 72):\t[l]\n",
      "znaleziono w kolumnie 72:\tznak (32, 72):\t[ ], \t\tznak (33, 72):\t[ ]\n",
      "znaleziono w kolumnie 72:\tznak (66, 72):\t[e], \t\tznak (67, 72):\t[e]\n",
      "znaleziono w kolumnie 73:\tznak (0, 73):\t[ ], \t\tznak (1, 73):\t[ ]\n",
      "znaleziono w kolumnie 73:\tznak (28, 73):\t[e], \t\tznak (29, 73):\t[e]\n",
      "znaleziono w kolumnie 73:\tznak (31, 73):\t[a], \t\tznak (32, 73):\t[a]\n",
      "znaleziono w kolumnie 73:\tznak (41, 73):\t[t], \t\tznak (42, 73):\t[t]\n",
      "znaleziono w kolumnie 73:\tznak (59, 73):\t[e], \t\tznak (60, 73):\t[e]\n",
      "znaleziono w kolumnie 74:\tznak (76, 74):\t[a], \t\tznak (77, 74):\t[a]\n",
      "znaleziono w kolumnie 75:\tznak (4, 75):\t[o], \t\tznak (5, 75):\t[o]\n",
      "znaleziono w kolumnie 75:\tznak (8, 75):\t[t], \t\tznak (9, 75):\t[t]\n",
      "znaleziono w kolumnie 75:\tznak (46, 75):\t[ ], \t\tznak (47, 75):\t[ ]\n",
      "znaleziono w kolumnie 75:\tznak (59, 75):\t[t], \t\tznak (60, 75):\t[t]\n",
      "znaleziono w kolumnie 76:\tznak (20, 76):\t[ ], \t\tznak (21, 76):\t[ ]\n",
      "znaleziono w kolumnie 76:\tznak (60, 76):\t[ ], \t\tznak (61, 76):\t[ ]\n",
      "znaleziono w kolumnie 77:\tznak (4, 77):\t[e], \t\tznak (5, 77):\t[e]\n",
      "znaleziono w kolumnie 77:\tznak (22, 77):\t[ ], \t\tznak (23, 77):\t[ ]\n",
      "znaleziono w kolumnie 77:\tznak (41, 77):\t[l], \t\tznak (42, 77):\t[l]\n",
      "znaleziono w kolumnie 78:\tznak (58, 78):\t[t], \t\tznak (59, 78):\t[t]\n",
      "znaleziono w kolumnie 82:\tznak (0, 82):\t[a], \t\tznak (1, 82):\t[a]\n",
      "znaleziono w kolumnie 83:\tznak (0, 83):\t[n], \t\tznak (1, 83):\t[n]\n"
     ]
    }
   ],
   "source": [
    "for i,j in(res2):\n",
    "    print(\"znaleziono w kolumnie {c}:\\tznak ({r1}, {c}):\\t[{z1}], \\t\\tznak ({r2}, {c}):\\t[{z2}]\".format( \n",
    "          r1=i-1, r2=i, c=j, z2=haystack[i][j], z1=haystack[i-1][j]))"
   ]
  },
  {
   "cell_type": "markdown",
   "id": "51293d00",
   "metadata": {},
   "source": [
    "## ad 3. Wyszukiwanie wielu wzorców 2d"
   ]
  },
  {
   "cell_type": "markdown",
   "id": "19145c14",
   "metadata": {},
   "source": [
    "Znajdź wszystkie wystąpienia \"th\" oraz \"t h\" w dwóch kolejnych liniach na tej samej pozycji. "
   ]
  },
  {
   "cell_type": "code",
   "execution_count": 12,
   "id": "a54c9e7b",
   "metadata": {},
   "outputs": [],
   "source": [
    "haystack_rev=[]\n",
    "for line in haystack:\n",
    "    haystack_rev.append(line[::-1])"
   ]
  },
  {
   "cell_type": "markdown",
   "id": "3bc3eb00",
   "metadata": {},
   "source": [
    "Ze względu na sposób implementacji algorytmu i to, że został przewidziany do wyszukiwania prostokątnych wzorców zastosowałam pewien myk polegający na odwróceniu lustrzanym na poziomej osi. Alogrytm oprócz wzorców prostokątnych znajduje wzorce wyrównane do prawej."
   ]
  },
  {
   "cell_type": "code",
   "execution_count": 13,
   "id": "97bda75a",
   "metadata": {},
   "outputs": [],
   "source": [
    "patterns=[\"h t\",\"ht\"]\n",
    "res3a=search2d(haystack_rev, patterns)"
   ]
  },
  {
   "cell_type": "code",
   "execution_count": 14,
   "id": "cededd29",
   "metadata": {},
   "outputs": [
    {
     "name": "stdout",
     "output_type": "stream",
     "text": [
      "[]\n"
     ]
    }
   ],
   "source": [
    "print(res3a)"
   ]
  },
  {
   "cell_type": "code",
   "execution_count": 15,
   "id": "8d7c7966",
   "metadata": {},
   "outputs": [],
   "source": [
    "patterns=[\"th\",\"th\"]\n",
    "res3b=search2d(haystack, patterns)"
   ]
  },
  {
   "cell_type": "code",
   "execution_count": 16,
   "id": "7bdec061",
   "metadata": {},
   "outputs": [
    {
     "name": "stdout",
     "output_type": "stream",
     "text": [
      "[]\n"
     ]
    }
   ],
   "source": [
    "print(res3b)"
   ]
  },
  {
   "cell_type": "code",
   "execution_count": 17,
   "id": "fbe9a1ae",
   "metadata": {},
   "outputs": [],
   "source": [
    "patterns=[\"t h\",\"t h\"]\n",
    "res3c=search2d(haystack, patterns)"
   ]
  },
  {
   "cell_type": "code",
   "execution_count": 18,
   "id": "81b8e7f0",
   "metadata": {},
   "outputs": [
    {
     "name": "stdout",
     "output_type": "stream",
     "text": [
      "[(38, 2)]\n"
     ]
    }
   ],
   "source": [
    "print(res3c) #uwaga! są to współrzędne ostatniego znaku we wzorcu"
   ]
  },
  {
   "cell_type": "markdown",
   "id": "1cd2a5cb",
   "metadata": {},
   "source": [
    "## ad 4. Wyszukiwanie wzorca w obrazie"
   ]
  },
  {
   "cell_type": "markdown",
   "id": "56260396",
   "metadata": {},
   "source": [
    "Wybierz przynajmniej 4 litery (małe). Znajdź wszystkie wystąpienia tej litery w załączonym pliku \"haystack.png\""
   ]
  },
  {
   "cell_type": "code",
   "execution_count": 19,
   "id": "59ba815d",
   "metadata": {},
   "outputs": [],
   "source": [
    "def convert_image(file_name):\n",
    "    image = Image.open(file_name)\n",
    "    pixels = list(image.getdata())\n",
    "    width, height = image.size\n",
    "    text = []\n",
    "    line=[]\n",
    "    i = 0\n",
    "    for pixel in pixels:\n",
    "        if i == width:\n",
    "            i = 0\n",
    "            text.append(tuple(line))\n",
    "            line=[]\n",
    "        line.append(pixel[0])\n",
    "        i += 1\n",
    "    return tuple(text)"
   ]
  },
  {
   "cell_type": "code",
   "execution_count": 20,
   "id": "a0207dda",
   "metadata": {},
   "outputs": [],
   "source": [
    "haystack_img = convert_image(\"haystack.png\")"
   ]
  },
  {
   "cell_type": "code",
   "execution_count": 21,
   "id": "6446906f",
   "metadata": {},
   "outputs": [],
   "source": [
    "l=convert_image(\"l.png\")\n",
    "w=convert_image(\"w.png\")\n",
    "i=convert_image(\"i.png\")\n",
    "s=convert_image(\"s.png\")"
   ]
  },
  {
   "cell_type": "code",
   "execution_count": 22,
   "id": "a891ecf9",
   "metadata": {},
   "outputs": [],
   "source": [
    "res4l=search2d(haystack_img, l, False)\n",
    "res4w=search2d(haystack_img, w, False)\n",
    "res4i=search2d(haystack_img, i, False)\n",
    "res4s=search2d(haystack_img, s, False)"
   ]
  },
  {
   "cell_type": "code",
   "execution_count": 23,
   "id": "2f0d99b6",
   "metadata": {},
   "outputs": [
    {
     "name": "stdout",
     "output_type": "stream",
     "text": [
      "Liczba wystąpień 'l' to:  169\n"
     ]
    }
   ],
   "source": [
    "print(\"Liczba wystąpień 'l' to: \", len(res4l))"
   ]
  },
  {
   "cell_type": "code",
   "execution_count": 24,
   "id": "6eebcf3b",
   "metadata": {},
   "outputs": [
    {
     "name": "stdout",
     "output_type": "stream",
     "text": [
      "Liczba wystąpień 'w' to:  38\n"
     ]
    }
   ],
   "source": [
    "print(\"Liczba wystąpień 'w' to: \", len(res4w))"
   ]
  },
  {
   "cell_type": "code",
   "execution_count": 25,
   "id": "7576fda5",
   "metadata": {},
   "outputs": [
    {
     "name": "stdout",
     "output_type": "stream",
     "text": [
      "Liczba wystąpień 'i' to:  308\n"
     ]
    }
   ],
   "source": [
    "print(\"Liczba wystąpień 'i' to: \", len(res4i))"
   ]
  },
  {
   "cell_type": "code",
   "execution_count": 26,
   "id": "e6732b70",
   "metadata": {},
   "outputs": [
    {
     "name": "stdout",
     "output_type": "stream",
     "text": [
      "Liczba wystąpień 's' to:  314\n"
     ]
    }
   ],
   "source": [
    "print(\"Liczba wystąpień 's' to: \", len(res4s))"
   ]
  },
  {
   "cell_type": "markdown",
   "id": "b50535fe",
   "metadata": {},
   "source": [
    "## ad 5. Wyszukiwanie wzorca w obrazie cd."
   ]
  },
  {
   "cell_type": "markdown",
   "id": "f1657d7f",
   "metadata": {},
   "source": [
    "Znajdź wszystkie wystąpienia słowa \"p a t t e r n\" w haystack.png."
   ]
  },
  {
   "cell_type": "code",
   "execution_count": 27,
   "id": "fdf6c504",
   "metadata": {},
   "outputs": [],
   "source": [
    "pattern=convert_image(\"pattern.png\")\n",
    "res5=search2d(haystack_img, pattern, False)"
   ]
  },
  {
   "cell_type": "code",
   "execution_count": 29,
   "id": "4cfde478",
   "metadata": {},
   "outputs": [
    {
     "name": "stdout",
     "output_type": "stream",
     "text": [
      "Liczba wystąpień 'p a t t e r n' to:  0\n"
     ]
    }
   ],
   "source": [
    "print(\"Liczba wystąpień 'p a t t e r n' to: \", len(res5))"
   ]
  },
  {
   "cell_type": "markdown",
   "id": "01adf5f4",
   "metadata": {},
   "source": [
    "## ad 6. Porównanie czasów"
   ]
  },
  {
   "cell_type": "markdown",
   "id": "c7c1d34a",
   "metadata": {},
   "source": [
    "Porównaj czas budowania automatu i czas wyszukiwania dla różnych rozmiarów wzorca"
   ]
  },
  {
   "cell_type": "code",
   "execution_count": 30,
   "id": "eca209e6",
   "metadata": {},
   "outputs": [],
   "source": [
    "def times(text_sizes, text):\n",
    "    search_times = []\n",
    "    aut_times = []\n",
    "    total_times = []\n",
    "    alphabet=list(get_alphabet(text))\n",
    "    for n in text_sizes:\n",
    "        pattern = ''.join([choice(text) for _ in range(n)])\n",
    "        aut_time, search_time = search2d(text, pattern, times=True)\n",
    "        aut_times.append(aut_time)\n",
    "        search_times.append(search_time)\n",
    "        total_times.append(search_time+aut_time)\n",
    "    df = pd.DataFrame(data={\"text size\": text_sizes,\n",
    "                            \"building time [s]\": aut_times,\n",
    "                            \"search time [s]\": search_times,\n",
    "                            \"time total [s]\": total_times,\n",
    "                           })\n",
    "    return df"
   ]
  },
  {
   "cell_type": "code",
   "execution_count": 31,
   "id": "fcdb1e97",
   "metadata": {},
   "outputs": [
    {
     "data": {
      "text/html": [
       "<div>\n",
       "<style scoped>\n",
       "    .dataframe tbody tr th:only-of-type {\n",
       "        vertical-align: middle;\n",
       "    }\n",
       "\n",
       "    .dataframe tbody tr th {\n",
       "        vertical-align: top;\n",
       "    }\n",
       "\n",
       "    .dataframe thead th {\n",
       "        text-align: right;\n",
       "    }\n",
       "</style>\n",
       "<table border=\"1\" class=\"dataframe\">\n",
       "  <thead>\n",
       "    <tr style=\"text-align: right;\">\n",
       "      <th></th>\n",
       "      <th>text size</th>\n",
       "      <th>building time [s]</th>\n",
       "      <th>search time [s]</th>\n",
       "      <th>time total [s]</th>\n",
       "    </tr>\n",
       "  </thead>\n",
       "  <tbody>\n",
       "    <tr>\n",
       "      <th>0</th>\n",
       "      <td>10</td>\n",
       "      <td>0.000957</td>\n",
       "      <td>0.014270</td>\n",
       "      <td>0.015227</td>\n",
       "    </tr>\n",
       "    <tr>\n",
       "      <th>1</th>\n",
       "      <td>40</td>\n",
       "      <td>0.002086</td>\n",
       "      <td>0.053749</td>\n",
       "      <td>0.055835</td>\n",
       "    </tr>\n",
       "    <tr>\n",
       "      <th>2</th>\n",
       "      <td>70</td>\n",
       "      <td>0.003211</td>\n",
       "      <td>0.140707</td>\n",
       "      <td>0.143919</td>\n",
       "    </tr>\n",
       "    <tr>\n",
       "      <th>3</th>\n",
       "      <td>100</td>\n",
       "      <td>0.004310</td>\n",
       "      <td>0.147349</td>\n",
       "      <td>0.151659</td>\n",
       "    </tr>\n",
       "    <tr>\n",
       "      <th>4</th>\n",
       "      <td>130</td>\n",
       "      <td>0.005291</td>\n",
       "      <td>0.243794</td>\n",
       "      <td>0.249085</td>\n",
       "    </tr>\n",
       "    <tr>\n",
       "      <th>5</th>\n",
       "      <td>160</td>\n",
       "      <td>0.006188</td>\n",
       "      <td>0.280821</td>\n",
       "      <td>0.287009</td>\n",
       "    </tr>\n",
       "    <tr>\n",
       "      <th>6</th>\n",
       "      <td>190</td>\n",
       "      <td>0.007486</td>\n",
       "      <td>0.341245</td>\n",
       "      <td>0.348731</td>\n",
       "    </tr>\n",
       "    <tr>\n",
       "      <th>7</th>\n",
       "      <td>220</td>\n",
       "      <td>0.008284</td>\n",
       "      <td>0.378923</td>\n",
       "      <td>0.387207</td>\n",
       "    </tr>\n",
       "    <tr>\n",
       "      <th>8</th>\n",
       "      <td>250</td>\n",
       "      <td>0.009105</td>\n",
       "      <td>0.468995</td>\n",
       "      <td>0.478100</td>\n",
       "    </tr>\n",
       "    <tr>\n",
       "      <th>9</th>\n",
       "      <td>280</td>\n",
       "      <td>0.010458</td>\n",
       "      <td>0.478563</td>\n",
       "      <td>0.489021</td>\n",
       "    </tr>\n",
       "  </tbody>\n",
       "</table>\n",
       "</div>"
      ],
      "text/plain": [
       "   text size  building time [s]  search time [s]  time total [s]\n",
       "0         10           0.000957         0.014270        0.015227\n",
       "1         40           0.002086         0.053749        0.055835\n",
       "2         70           0.003211         0.140707        0.143919\n",
       "3        100           0.004310         0.147349        0.151659\n",
       "4        130           0.005291         0.243794        0.249085\n",
       "5        160           0.006188         0.280821        0.287009\n",
       "6        190           0.007486         0.341245        0.348731\n",
       "7        220           0.008284         0.378923        0.387207\n",
       "8        250           0.009105         0.468995        0.478100\n",
       "9        280           0.010458         0.478563        0.489021"
      ]
     },
     "metadata": {},
     "output_type": "display_data"
    }
   ],
   "source": [
    "text_sizes = [i for i in range(10, 300, 30)]\n",
    "df = times(text_sizes, haystack)\n",
    "display(df)"
   ]
  },
  {
   "cell_type": "code",
   "execution_count": 32,
   "id": "6aba817c",
   "metadata": {},
   "outputs": [
    {
     "data": {
      "image/png": "[encoded data removed]",
      "text/plain": [
       "<Figure size 640x480 with 1 Axes>"
      ]
     },
     "metadata": {},
     "output_type": "display_data"
    }
   ],
   "source": [
    "df.plot(x='text size', y=['building time [s]', 'search time [s]', 'time total [s]'], kind='bar')\n",
    "plt.title(\"Czasy wyszukiwania wzorca w stosunku do jego długości\")\n",
    "plt.show()"
   ]
  },
  {
   "cell_type": "markdown",
   "id": "f6fe8f46",
   "metadata": {},
   "source": [
    "## ad 7. Porównanie czasów cd."
   ]
  },
  {
   "cell_type": "markdown",
   "id": "2ff86873",
   "metadata": {},
   "source": [
    "Podziel plik na 2, 4 i 8 fragmentów (w poziomie) i porównaj czas przeszukiwania "
   ]
  },
  {
   "cell_type": "code",
   "execution_count": 33,
   "id": "ba06fdb2",
   "metadata": {},
   "outputs": [],
   "source": [
    "part2=convert_image(\"part2.png\")\n",
    "part4=convert_image(\"part4.png\")\n",
    "part8=convert_image(\"part8.png\")"
   ]
  },
  {
   "cell_type": "code",
   "execution_count": 34,
   "id": "c6183998",
   "metadata": {},
   "outputs": [],
   "source": [
    "aut_time72, search_time72=search2d(haystack_img, part2, False, True)\n",
    "aut_time74, search_time74=search2d(haystack_img, part4, False, True)\n",
    "aut_time78, search_time78=search2d(haystack_img, part8, False, True)"
   ]
  },
  {
   "cell_type": "code",
   "execution_count": 35,
   "id": "0c902f30",
   "metadata": {},
   "outputs": [],
   "source": [
    "total_time72=aut_time72+search_time72\n",
    "total_time74=aut_time74+search_time74\n",
    "total_time78=aut_time78+search_time78"
   ]
  },
  {
   "cell_type": "code",
   "execution_count": 36,
   "id": "4b298494",
   "metadata": {},
   "outputs": [],
   "source": [
    "sizes=[1/2, 1/4, 1/8]\n",
    "search_times7 = [search_time72, search_time74, search_time78]\n",
    "aut_times7 = [aut_time72, aut_time74, aut_time78]\n",
    "total_times7 = [total_time72, total_time74, total_time78]\n",
    "df7 = pd.DataFrame(data={\"size\": sizes,\n",
    "                        \"building time [s]\": aut_times7,\n",
    "                        \"search time [s]\": search_times7,\n",
    "                        \"time total [s]\": total_times7,\n",
    "                       })"
   ]
  },
  {
   "cell_type": "code",
   "execution_count": 37,
   "id": "b5ff7ec4",
   "metadata": {},
   "outputs": [
    {
     "data": {
      "text/html": [
       "<div>\n",
       "<style scoped>\n",
       "    .dataframe tbody tr th:only-of-type {\n",
       "        vertical-align: middle;\n",
       "    }\n",
       "\n",
       "    .dataframe tbody tr th {\n",
       "        vertical-align: top;\n",
       "    }\n",
       "\n",
       "    .dataframe thead th {\n",
       "        text-align: right;\n",
       "    }\n",
       "</style>\n",
       "<table border=\"1\" class=\"dataframe\">\n",
       "  <thead>\n",
       "    <tr style=\"text-align: right;\">\n",
       "      <th></th>\n",
       "      <th>size</th>\n",
       "      <th>building time [s]</th>\n",
       "      <th>search time [s]</th>\n",
       "      <th>time total [s]</th>\n",
       "    </tr>\n",
       "  </thead>\n",
       "  <tbody>\n",
       "    <tr>\n",
       "      <th>0</th>\n",
       "      <td>0.500</td>\n",
       "      <td>31.630576</td>\n",
       "      <td>101.257723</td>\n",
       "      <td>132.888299</td>\n",
       "    </tr>\n",
       "    <tr>\n",
       "      <th>1</th>\n",
       "      <td>0.250</td>\n",
       "      <td>16.938828</td>\n",
       "      <td>27.497939</td>\n",
       "      <td>44.436767</td>\n",
       "    </tr>\n",
       "    <tr>\n",
       "      <th>2</th>\n",
       "      <td>0.125</td>\n",
       "      <td>7.986828</td>\n",
       "      <td>7.174273</td>\n",
       "      <td>15.161101</td>\n",
       "    </tr>\n",
       "  </tbody>\n",
       "</table>\n",
       "</div>"
      ],
      "text/plain": [
       "    size  building time [s]  search time [s]  time total [s]\n",
       "0  0.500          31.630576       101.257723      132.888299\n",
       "1  0.250          16.938828        27.497939       44.436767\n",
       "2  0.125           7.986828         7.174273       15.161101"
      ]
     },
     "metadata": {},
     "output_type": "display_data"
    }
   ],
   "source": [
    "display(df7)"
   ]
  },
  {
   "cell_type": "code",
   "execution_count": 38,
   "id": "2f7f14e3",
   "metadata": {},
   "outputs": [
    {
     "data": {
      "image/png": "[encoded data removed]",
      "text/plain": [
       "<Figure size 640x480 with 1 Axes>"
      ]
     },
     "metadata": {},
     "output_type": "display_data"
    }
   ],
   "source": [
    "df7.plot(x='size', y=['building time [s]', 'search time [s]', 'time total [s]'], kind='bar')\n",
    "plt.title(\"Czasy wyszukiwania wzorca w stosunku do jego długości\")\n",
    "plt.show()"
   ]
  }
 ],
 "metadata": {
  "kernelspec": {
   "display_name": "Python 3 (ipykernel)",
   "language": "python",
   "name": "python3"
  },
  "language_info": {
   "codemirror_mode": {
    "name": "ipython",
    "version": 3
   },
   "file_extension": ".py",
   "mimetype": "text/x-python",
   "name": "python",
   "nbconvert_exporter": "python",
   "pygments_lexer": "ipython3",
   "version": "3.10.10"
  }
 },
 "nbformat": 4,
 "nbformat_minor": 5
}

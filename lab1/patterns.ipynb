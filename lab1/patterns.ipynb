{
 "cells": [
  {
   "cell_type": "markdown",
   "id": "a701eae0",
   "metadata": {},
   "source": [
    "# Znajdowanie wzorców w tekście"
   ]
  },
  {
   "cell_type": "code",
   "execution_count": 1,
   "id": "56108a7e",
   "metadata": {},
   "outputs": [],
   "source": [
    "from time import time\n",
    "import pandas as pd\n",
    "import matplotlib.pyplot as plt"
   ]
  },
  {
   "cell_type": "markdown",
   "id": "8a72a237",
   "metadata": {},
   "source": [
    "### Implementacja algorytmów wyszukiwania wzorców"
   ]
  },
  {
   "cell_type": "markdown",
   "id": "f087dc9c",
   "metadata": {},
   "source": [
    "#### Algorytm naiwny"
   ]
  },
  {
   "cell_type": "code",
   "execution_count": 2,
   "id": "d78ae65b",
   "metadata": {},
   "outputs": [],
   "source": [
    "def find_naive(T,P):\n",
    "    result=[]\n",
    "    for i in range (len(T)-len(P)+1):\n",
    "        if T[i:i+len(P)]==P: result.append(i)\n",
    "    return result"
   ]
  },
  {
   "cell_type": "markdown",
   "id": "3a7e8cef",
   "metadata": {},
   "source": [
    "#### Automat skończony"
   ]
  },
  {
   "cell_type": "markdown",
   "id": "710192e5",
   "metadata": {},
   "source": [
    "Preprocessing"
   ]
  },
  {
   "cell_type": "code",
   "execution_count": 3,
   "id": "ac77c9b6",
   "metadata": {},
   "outputs": [],
   "source": [
    "def transition_table(text, pattern):\n",
    "    result=[]\n",
    "    alphabet=list(set(text+pattern))\n",
    "    for q in range(len(pattern)+1):\n",
    "        result.append({})\n",
    "        for a in alphabet:\n",
    "            k=min(len(pattern)+1,q+2)\n",
    "            while True:\n",
    "                k-=1\n",
    "                # [:k] - prefiks o długości k\n",
    "                # [-k:] - sufiks o długości k\n",
    "                if k==0 or pattern[:k] == (pattern[:q]+a)[-k:]:\n",
    "                    break\n",
    "            result[q][a]=k\n",
    "    return result"
   ]
  },
  {
   "cell_type": "markdown",
   "id": "f83c2b79",
   "metadata": {},
   "source": [
    "Algorytm bez preprocessingu"
   ]
  },
  {
   "cell_type": "code",
   "execution_count": 4,
   "id": "8c529dce",
   "metadata": {},
   "outputs": [],
   "source": [
    "def string_matching_FA(T, delta):\n",
    "    result=[]\n",
    "    q=0\n",
    "    length=len(delta)-1\n",
    "    for i in range(len(T)):\n",
    "        q=delta[q][T[i]]\n",
    "        if(q==length):\n",
    "            result.append(i+1-q)\n",
    "    return result"
   ]
  },
  {
   "cell_type": "markdown",
   "id": "34e264ee",
   "metadata": {},
   "source": [
    "Algorytm z preprocessingiem"
   ]
  },
  {
   "cell_type": "code",
   "execution_count": 5,
   "id": "6f58183e",
   "metadata": {},
   "outputs": [],
   "source": [
    "def find_FA(T,P):\n",
    "    delta=transition_table(T,P)\n",
    "    return string_matching_FA(T,delta)"
   ]
  },
  {
   "cell_type": "markdown",
   "id": "e6ef8405",
   "metadata": {},
   "source": [
    "#### Algorytm Knutha-Morrisa-Pratta"
   ]
  },
  {
   "cell_type": "markdown",
   "id": "f5405c3b",
   "metadata": {},
   "source": [
    "Preprocessing"
   ]
  },
  {
   "cell_type": "code",
   "execution_count": 6,
   "id": "e1a085fe",
   "metadata": {},
   "outputs": [],
   "source": [
    "def prefix_fun(pattern):\n",
    "    pi=[0]\n",
    "    k=0\n",
    "    for q in range(1, len(pattern)):\n",
    "        while(k>0 and pattern[k]!=pattern[q]):\n",
    "            k=pi[k-1]\n",
    "        if(pattern[k]==pattern[q]):\n",
    "            k+=1\n",
    "        pi.append(k)\n",
    "    return pi"
   ]
  },
  {
   "cell_type": "markdown",
   "id": "70c92a8d",
   "metadata": {},
   "source": [
    "Algorytm bez preprocessingu"
   ]
  },
  {
   "cell_type": "code",
   "execution_count": 7,
   "id": "ab7e9d45",
   "metadata": {},
   "outputs": [],
   "source": [
    "def string_matching_KMP(T, P, pi):\n",
    "    result=[]\n",
    "    q=0\n",
    "    for i in range(len(T)):\n",
    "        while(q>0 and P[q]!=T[i]):\n",
    "            q=pi[q-1]\n",
    "        if P[q]==T[i]:\n",
    "            q+=1\n",
    "        if q==len(P):\n",
    "            result.append(i+1-q)\n",
    "            q=pi[q-1]\n",
    "    return result"
   ]
  },
  {
   "cell_type": "markdown",
   "id": "27f63976",
   "metadata": {},
   "source": [
    "Algorytm z preprocessingiem"
   ]
  },
  {
   "cell_type": "code",
   "execution_count": 8,
   "id": "cdadbabc",
   "metadata": {},
   "outputs": [],
   "source": [
    "def find_KMP(T,P):\n",
    "    pi=prefix_fun(P)\n",
    "    return string_matching_KMP(T,P,pi)"
   ]
  },
  {
   "cell_type": "markdown",
   "id": "d41aecff",
   "metadata": {},
   "source": [
    "### Funkcje do mierzenia czasów i testów"
   ]
  },
  {
   "cell_type": "code",
   "execution_count": 9,
   "id": "ff5fca90",
   "metadata": {},
   "outputs": [],
   "source": [
    "def times_and_results(T,P):\n",
    "    times={'naive':0, 'FA_preprocessing':0, 'FA_no_preprocessing':0, 'FA_with_preprocessing':0, 'KMP_preprocessing':0, 'KMP_no_preprocessing':0, 'KMP_with_preprocessing':0}\n",
    "    results={'naive':None, 'FA':None, 'KMP': None}\n",
    "    \n",
    "    start=time()\n",
    "    res=find_naive(T,P)\n",
    "    end=time()\n",
    "    times['naive']=end-start\n",
    "    results['naive']=res\n",
    "    \n",
    "    start=time()\n",
    "    res=find_FA(T,P)\n",
    "    end=time()\n",
    "    times['FA_with_preprocessing']=end-start\n",
    "    results['FA']=res\n",
    "    \n",
    "    start=time()\n",
    "    res=find_KMP(T,P)\n",
    "    end=time()\n",
    "    times['KMP_with_preprocessing']=end-start\n",
    "    results['KMP']=res\n",
    "    \n",
    "    start=time()\n",
    "    delta=transition_table(T,P)\n",
    "    end=time()\n",
    "    times['FA_preprocessing']=end-start\n",
    "    \n",
    "    start=time()\n",
    "    res=string_matching_FA(T,delta)\n",
    "    end=time()\n",
    "    times['FA_no_preprocessing']=end-start\n",
    "    \n",
    "    start=time()\n",
    "    pi=prefix_fun(P)\n",
    "    end=time()\n",
    "    times['KMP_preprocessing']=end-start\n",
    "    \n",
    "    start=time()\n",
    "    res=string_matching_KMP(T,P, pi)\n",
    "    end=time()\n",
    "    times['KMP_no_preprocessing']=end-start\n",
    "    \n",
    "    return results, times"
   ]
  },
  {
   "cell_type": "code",
   "execution_count": 10,
   "id": "2a257008",
   "metadata": {},
   "outputs": [],
   "source": [
    "def reorganise_times_dict(given):\n",
    "    times=dict()\n",
    "    for key in given[0].keys():\n",
    "        times[key]=[]\n",
    "        for i in range(len(given)):\n",
    "            times[key].append(given[i][key])\n",
    "        times[key].append(sum(times[key])/len(times[key]))\n",
    "        times[key].append(min(times[key]))\n",
    "        times[key].append(max(times[key]))\n",
    "    return times"
   ]
  },
  {
   "cell_type": "code",
   "execution_count": 11,
   "id": "8f3ddb75",
   "metadata": {},
   "outputs": [],
   "source": [
    "def return_data_frame(T,P, n):\n",
    "    times=[]\n",
    "    for i in range (n):\n",
    "        times.append(times_and_results(T,P)[1])\n",
    "    times=reorganise_times_dict(times)\n",
    "    ixs=[\"pom. \"+str(i) for i in range(n)]\n",
    "    ixs.extend([\"średni\", \"min\", \"max\"])\n",
    "    data={'czas': ixs,\n",
    "    'naiwny: preprocessing':[0 for _ in range(n+3)],\n",
    "      'AS: preprocessing': times['FA_preprocessing'],\n",
    "      'KMP: preprocessing': times['KMP_preprocessing'],\n",
    "     'naiwny: bez preprocessingu':times['naive'],\n",
    "      'AS: bez preprocessingu': times['FA_no_preprocessing'],\n",
    "      'KMP: bez preprocessingu': times['KMP_no_preprocessing'],\n",
    "     'naiwny: w sumie':times['naive'],\n",
    "      'AS: w sumie': times['FA_with_preprocessing'],\n",
    "      'KMP: w sumie': times['KMP_with_preprocessing']}\n",
    "    return data"
   ]
  },
  {
   "cell_type": "markdown",
   "id": "fe11998f",
   "metadata": {},
   "source": [
    "### Testy porównujące szybkość działania algorytmów"
   ]
  },
  {
   "cell_type": "code",
   "execution_count": 12,
   "id": "25a5bebb",
   "metadata": {},
   "outputs": [
    {
     "name": "stdout",
     "output_type": "stream",
     "text": [
      "Tekst: ababba*100000\n",
      "Wzorzec:  aba\n"
     ]
    },
    {
     "data": {
      "text/html": [
       "<style type=\"text/css\">\n",
       "</style>\n",
       "<table id=\"T_b371b\">\n",
       "  <caption>Czasy wyszukiwania wzorca w sek.</caption>\n",
       "  <thead>\n",
       "    <tr>\n",
       "      <th class=\"blank level0\" >&nbsp;</th>\n",
       "      <th id=\"T_b371b_level0_col0\" class=\"col_heading level0 col0\" >czas</th>\n",
       "      <th id=\"T_b371b_level0_col1\" class=\"col_heading level0 col1\" >naiwny: preprocessing</th>\n",
       "      <th id=\"T_b371b_level0_col2\" class=\"col_heading level0 col2\" >AS: preprocessing</th>\n",
       "      <th id=\"T_b371b_level0_col3\" class=\"col_heading level0 col3\" >KMP: preprocessing</th>\n",
       "      <th id=\"T_b371b_level0_col4\" class=\"col_heading level0 col4\" >naiwny: bez preprocessingu</th>\n",
       "      <th id=\"T_b371b_level0_col5\" class=\"col_heading level0 col5\" >AS: bez preprocessingu</th>\n",
       "      <th id=\"T_b371b_level0_col6\" class=\"col_heading level0 col6\" >KMP: bez preprocessingu</th>\n",
       "      <th id=\"T_b371b_level0_col7\" class=\"col_heading level0 col7\" >naiwny: w sumie</th>\n",
       "      <th id=\"T_b371b_level0_col8\" class=\"col_heading level0 col8\" >AS: w sumie</th>\n",
       "      <th id=\"T_b371b_level0_col9\" class=\"col_heading level0 col9\" >KMP: w sumie</th>\n",
       "    </tr>\n",
       "  </thead>\n",
       "  <tbody>\n",
       "    <tr>\n",
       "      <th id=\"T_b371b_level0_row0\" class=\"row_heading level0 row0\" >0</th>\n",
       "      <td id=\"T_b371b_row0_col0\" class=\"data row0 col0\" >pom. 0</td>\n",
       "      <td id=\"T_b371b_row0_col1\" class=\"data row0 col1\" >0</td>\n",
       "      <td id=\"T_b371b_row0_col2\" class=\"data row0 col2\" >0.010453</td>\n",
       "      <td id=\"T_b371b_row0_col3\" class=\"data row0 col3\" >0.000000</td>\n",
       "      <td id=\"T_b371b_row0_col4\" class=\"data row0 col4\" >0.120820</td>\n",
       "      <td id=\"T_b371b_row0_col5\" class=\"data row0 col5\" >0.049254</td>\n",
       "      <td id=\"T_b371b_row0_col6\" class=\"data row0 col6\" >0.148847</td>\n",
       "      <td id=\"T_b371b_row0_col7\" class=\"data row0 col7\" >0.120820</td>\n",
       "      <td id=\"T_b371b_row0_col8\" class=\"data row0 col8\" >0.060177</td>\n",
       "      <td id=\"T_b371b_row0_col9\" class=\"data row0 col9\" >0.138469</td>\n",
       "    </tr>\n",
       "    <tr>\n",
       "      <th id=\"T_b371b_level0_row1\" class=\"row_heading level0 row1\" >1</th>\n",
       "      <td id=\"T_b371b_row1_col0\" class=\"data row1 col0\" >pom. 1</td>\n",
       "      <td id=\"T_b371b_row1_col1\" class=\"data row1 col1\" >0</td>\n",
       "      <td id=\"T_b371b_row1_col2\" class=\"data row1 col2\" >0.000000</td>\n",
       "      <td id=\"T_b371b_row1_col3\" class=\"data row1 col3\" >0.000000</td>\n",
       "      <td id=\"T_b371b_row1_col4\" class=\"data row1 col4\" >0.110791</td>\n",
       "      <td id=\"T_b371b_row1_col5\" class=\"data row1 col5\" >0.066280</td>\n",
       "      <td id=\"T_b371b_row1_col6\" class=\"data row1 col6\" >0.136458</td>\n",
       "      <td id=\"T_b371b_row1_col7\" class=\"data row1 col7\" >0.110791</td>\n",
       "      <td id=\"T_b371b_row1_col8\" class=\"data row1 col8\" >0.061188</td>\n",
       "      <td id=\"T_b371b_row1_col9\" class=\"data row1 col9\" >0.149441</td>\n",
       "    </tr>\n",
       "    <tr>\n",
       "      <th id=\"T_b371b_level0_row2\" class=\"row_heading level0 row2\" >2</th>\n",
       "      <td id=\"T_b371b_row2_col0\" class=\"data row2 col0\" >pom. 2</td>\n",
       "      <td id=\"T_b371b_row2_col1\" class=\"data row2 col1\" >0</td>\n",
       "      <td id=\"T_b371b_row2_col2\" class=\"data row2 col2\" >0.010191</td>\n",
       "      <td id=\"T_b371b_row2_col3\" class=\"data row2 col3\" >0.000000</td>\n",
       "      <td id=\"T_b371b_row2_col4\" class=\"data row2 col4\" >0.112845</td>\n",
       "      <td id=\"T_b371b_row2_col5\" class=\"data row2 col5\" >0.062166</td>\n",
       "      <td id=\"T_b371b_row2_col6\" class=\"data row2 col6\" >0.156412</td>\n",
       "      <td id=\"T_b371b_row2_col7\" class=\"data row2 col7\" >0.112845</td>\n",
       "      <td id=\"T_b371b_row2_col8\" class=\"data row2 col8\" >0.066125</td>\n",
       "      <td id=\"T_b371b_row2_col9\" class=\"data row2 col9\" >0.148511</td>\n",
       "    </tr>\n",
       "    <tr>\n",
       "      <th id=\"T_b371b_level0_row3\" class=\"row_heading level0 row3\" >3</th>\n",
       "      <td id=\"T_b371b_row3_col0\" class=\"data row3 col0\" >pom. 3</td>\n",
       "      <td id=\"T_b371b_row3_col1\" class=\"data row3 col1\" >0</td>\n",
       "      <td id=\"T_b371b_row3_col2\" class=\"data row3 col2\" >0.010317</td>\n",
       "      <td id=\"T_b371b_row3_col3\" class=\"data row3 col3\" >0.000000</td>\n",
       "      <td id=\"T_b371b_row3_col4\" class=\"data row3 col4\" >0.106410</td>\n",
       "      <td id=\"T_b371b_row3_col5\" class=\"data row3 col5\" >0.053578</td>\n",
       "      <td id=\"T_b371b_row3_col6\" class=\"data row3 col6\" >0.137901</td>\n",
       "      <td id=\"T_b371b_row3_col7\" class=\"data row3 col7\" >0.106410</td>\n",
       "      <td id=\"T_b371b_row3_col8\" class=\"data row3 col8\" >0.055677</td>\n",
       "      <td id=\"T_b371b_row3_col9\" class=\"data row3 col9\" >0.142207</td>\n",
       "    </tr>\n",
       "    <tr>\n",
       "      <th id=\"T_b371b_level0_row4\" class=\"row_heading level0 row4\" >4</th>\n",
       "      <td id=\"T_b371b_row4_col0\" class=\"data row4 col0\" >pom. 4</td>\n",
       "      <td id=\"T_b371b_row4_col1\" class=\"data row4 col1\" >0</td>\n",
       "      <td id=\"T_b371b_row4_col2\" class=\"data row4 col2\" >0.007849</td>\n",
       "      <td id=\"T_b371b_row4_col3\" class=\"data row4 col3\" >0.000000</td>\n",
       "      <td id=\"T_b371b_row4_col4\" class=\"data row4 col4\" >0.099608</td>\n",
       "      <td id=\"T_b371b_row4_col5\" class=\"data row4 col5\" >0.060181</td>\n",
       "      <td id=\"T_b371b_row4_col6\" class=\"data row4 col6\" >0.154516</td>\n",
       "      <td id=\"T_b371b_row4_col7\" class=\"data row4 col7\" >0.099608</td>\n",
       "      <td id=\"T_b371b_row4_col8\" class=\"data row4 col8\" >0.058720</td>\n",
       "      <td id=\"T_b371b_row4_col9\" class=\"data row4 col9\" >0.146282</td>\n",
       "    </tr>\n",
       "    <tr>\n",
       "      <th id=\"T_b371b_level0_row5\" class=\"row_heading level0 row5\" >5</th>\n",
       "      <td id=\"T_b371b_row5_col0\" class=\"data row5 col0\" >średni</td>\n",
       "      <td id=\"T_b371b_row5_col1\" class=\"data row5 col1\" >0</td>\n",
       "      <td id=\"T_b371b_row5_col2\" class=\"data row5 col2\" >0.007762</td>\n",
       "      <td id=\"T_b371b_row5_col3\" class=\"data row5 col3\" >0.000000</td>\n",
       "      <td id=\"T_b371b_row5_col4\" class=\"data row5 col4\" >0.110095</td>\n",
       "      <td id=\"T_b371b_row5_col5\" class=\"data row5 col5\" >0.058292</td>\n",
       "      <td id=\"T_b371b_row5_col6\" class=\"data row5 col6\" >0.146827</td>\n",
       "      <td id=\"T_b371b_row5_col7\" class=\"data row5 col7\" >0.110095</td>\n",
       "      <td id=\"T_b371b_row5_col8\" class=\"data row5 col8\" >0.060377</td>\n",
       "      <td id=\"T_b371b_row5_col9\" class=\"data row5 col9\" >0.144982</td>\n",
       "    </tr>\n",
       "    <tr>\n",
       "      <th id=\"T_b371b_level0_row6\" class=\"row_heading level0 row6\" >6</th>\n",
       "      <td id=\"T_b371b_row6_col0\" class=\"data row6 col0\" >min</td>\n",
       "      <td id=\"T_b371b_row6_col1\" class=\"data row6 col1\" >0</td>\n",
       "      <td id=\"T_b371b_row6_col2\" class=\"data row6 col2\" >0.000000</td>\n",
       "      <td id=\"T_b371b_row6_col3\" class=\"data row6 col3\" >0.000000</td>\n",
       "      <td id=\"T_b371b_row6_col4\" class=\"data row6 col4\" >0.099608</td>\n",
       "      <td id=\"T_b371b_row6_col5\" class=\"data row6 col5\" >0.049254</td>\n",
       "      <td id=\"T_b371b_row6_col6\" class=\"data row6 col6\" >0.136458</td>\n",
       "      <td id=\"T_b371b_row6_col7\" class=\"data row6 col7\" >0.099608</td>\n",
       "      <td id=\"T_b371b_row6_col8\" class=\"data row6 col8\" >0.055677</td>\n",
       "      <td id=\"T_b371b_row6_col9\" class=\"data row6 col9\" >0.138469</td>\n",
       "    </tr>\n",
       "    <tr>\n",
       "      <th id=\"T_b371b_level0_row7\" class=\"row_heading level0 row7\" >7</th>\n",
       "      <td id=\"T_b371b_row7_col0\" class=\"data row7 col0\" >max</td>\n",
       "      <td id=\"T_b371b_row7_col1\" class=\"data row7 col1\" >0</td>\n",
       "      <td id=\"T_b371b_row7_col2\" class=\"data row7 col2\" >0.010453</td>\n",
       "      <td id=\"T_b371b_row7_col3\" class=\"data row7 col3\" >0.000000</td>\n",
       "      <td id=\"T_b371b_row7_col4\" class=\"data row7 col4\" >0.120820</td>\n",
       "      <td id=\"T_b371b_row7_col5\" class=\"data row7 col5\" >0.066280</td>\n",
       "      <td id=\"T_b371b_row7_col6\" class=\"data row7 col6\" >0.156412</td>\n",
       "      <td id=\"T_b371b_row7_col7\" class=\"data row7 col7\" >0.120820</td>\n",
       "      <td id=\"T_b371b_row7_col8\" class=\"data row7 col8\" >0.066125</td>\n",
       "      <td id=\"T_b371b_row7_col9\" class=\"data row7 col9\" >0.149441</td>\n",
       "    </tr>\n",
       "  </tbody>\n",
       "</table>\n"
      ],
      "text/plain": [
       "<pandas.io.formats.style.Styler at 0x19b265870a0>"
      ]
     },
     "metadata": {},
     "output_type": "display_data"
    }
   ],
   "source": [
    "T1=\"ababba\"*100000\n",
    "P1=\"aba\"\n",
    "data1=return_data_frame(T1,P1, 5)\n",
    "data_frame1=pd.DataFrame(data1)\n",
    "print(\"Tekst: ababba*100000\")\n",
    "print(\"Wzorzec: \", P1)\n",
    "t1=data_frame1.style.set_caption(\"Czasy wyszukiwania wzorca w sek.\")\n",
    "display(t1)"
   ]
  },
  {
   "cell_type": "code",
   "execution_count": 13,
   "id": "feef056c",
   "metadata": {},
   "outputs": [
    {
     "name": "stdout",
     "output_type": "stream",
     "text": [
      "Tekst:  ghjjfejwavbaewvvewkvgfwajaeio;erhberghjjfejwavbaewvvewkvhjalbwbeahlweghjjfejwavbaewvvewkjhkgewvkghevffffffffffffffffgaaaaaasdkhggggggggggggggggggggggeagiweyrtfaglafcvsvzx,dncfgaefjsteuawor\n",
      "Wzorzec:  ghjjfejwavbaewvvewkv\n"
     ]
    },
    {
     "data": {
      "text/html": [
       "<style type=\"text/css\">\n",
       "</style>\n",
       "<table id=\"T_7bef4\">\n",
       "  <caption>Czasy wyszukiwania wzorca w sek.</caption>\n",
       "  <thead>\n",
       "    <tr>\n",
       "      <th class=\"blank level0\" >&nbsp;</th>\n",
       "      <th id=\"T_7bef4_level0_col0\" class=\"col_heading level0 col0\" >czas</th>\n",
       "      <th id=\"T_7bef4_level0_col1\" class=\"col_heading level0 col1\" >naiwny: preprocessing</th>\n",
       "      <th id=\"T_7bef4_level0_col2\" class=\"col_heading level0 col2\" >AS: preprocessing</th>\n",
       "      <th id=\"T_7bef4_level0_col3\" class=\"col_heading level0 col3\" >KMP: preprocessing</th>\n",
       "      <th id=\"T_7bef4_level0_col4\" class=\"col_heading level0 col4\" >naiwny: bez preprocessingu</th>\n",
       "      <th id=\"T_7bef4_level0_col5\" class=\"col_heading level0 col5\" >AS: bez preprocessingu</th>\n",
       "      <th id=\"T_7bef4_level0_col6\" class=\"col_heading level0 col6\" >KMP: bez preprocessingu</th>\n",
       "      <th id=\"T_7bef4_level0_col7\" class=\"col_heading level0 col7\" >naiwny: w sumie</th>\n",
       "      <th id=\"T_7bef4_level0_col8\" class=\"col_heading level0 col8\" >AS: w sumie</th>\n",
       "      <th id=\"T_7bef4_level0_col9\" class=\"col_heading level0 col9\" >KMP: w sumie</th>\n",
       "    </tr>\n",
       "  </thead>\n",
       "  <tbody>\n",
       "    <tr>\n",
       "      <th id=\"T_7bef4_level0_row0\" class=\"row_heading level0 row0\" >0</th>\n",
       "      <td id=\"T_7bef4_row0_col0\" class=\"data row0 col0\" >pom. 0</td>\n",
       "      <td id=\"T_7bef4_row0_col1\" class=\"data row0 col1\" >0</td>\n",
       "      <td id=\"T_7bef4_row0_col2\" class=\"data row0 col2\" >0.009165</td>\n",
       "      <td id=\"T_7bef4_row0_col3\" class=\"data row0 col3\" >0.000000</td>\n",
       "      <td id=\"T_7bef4_row0_col4\" class=\"data row0 col4\" >0.000000</td>\n",
       "      <td id=\"T_7bef4_row0_col5\" class=\"data row0 col5\" >0.000000</td>\n",
       "      <td id=\"T_7bef4_row0_col6\" class=\"data row0 col6\" >0.000000</td>\n",
       "      <td id=\"T_7bef4_row0_col7\" class=\"data row0 col7\" >0.000000</td>\n",
       "      <td id=\"T_7bef4_row0_col8\" class=\"data row0 col8\" >0.000518</td>\n",
       "      <td id=\"T_7bef4_row0_col9\" class=\"data row0 col9\" >0.000000</td>\n",
       "    </tr>\n",
       "    <tr>\n",
       "      <th id=\"T_7bef4_level0_row1\" class=\"row_heading level0 row1\" >1</th>\n",
       "      <td id=\"T_7bef4_row1_col0\" class=\"data row1 col0\" >pom. 1</td>\n",
       "      <td id=\"T_7bef4_row1_col1\" class=\"data row1 col1\" >0</td>\n",
       "      <td id=\"T_7bef4_row1_col2\" class=\"data row1 col2\" >0.008068</td>\n",
       "      <td id=\"T_7bef4_row1_col3\" class=\"data row1 col3\" >0.000000</td>\n",
       "      <td id=\"T_7bef4_row1_col4\" class=\"data row1 col4\" >0.000000</td>\n",
       "      <td id=\"T_7bef4_row1_col5\" class=\"data row1 col5\" >0.000000</td>\n",
       "      <td id=\"T_7bef4_row1_col6\" class=\"data row1 col6\" >0.000000</td>\n",
       "      <td id=\"T_7bef4_row1_col7\" class=\"data row1 col7\" >0.000000</td>\n",
       "      <td id=\"T_7bef4_row1_col8\" class=\"data row1 col8\" >0.000000</td>\n",
       "      <td id=\"T_7bef4_row1_col9\" class=\"data row1 col9\" >0.000000</td>\n",
       "    </tr>\n",
       "    <tr>\n",
       "      <th id=\"T_7bef4_level0_row2\" class=\"row_heading level0 row2\" >2</th>\n",
       "      <td id=\"T_7bef4_row2_col0\" class=\"data row2 col0\" >pom. 2</td>\n",
       "      <td id=\"T_7bef4_row2_col1\" class=\"data row2 col1\" >0</td>\n",
       "      <td id=\"T_7bef4_row2_col2\" class=\"data row2 col2\" >0.008013</td>\n",
       "      <td id=\"T_7bef4_row2_col3\" class=\"data row2 col3\" >0.000000</td>\n",
       "      <td id=\"T_7bef4_row2_col4\" class=\"data row2 col4\" >0.000000</td>\n",
       "      <td id=\"T_7bef4_row2_col5\" class=\"data row2 col5\" >0.000000</td>\n",
       "      <td id=\"T_7bef4_row2_col6\" class=\"data row2 col6\" >0.000000</td>\n",
       "      <td id=\"T_7bef4_row2_col7\" class=\"data row2 col7\" >0.000000</td>\n",
       "      <td id=\"T_7bef4_row2_col8\" class=\"data row2 col8\" >0.000000</td>\n",
       "      <td id=\"T_7bef4_row2_col9\" class=\"data row2 col9\" >0.000000</td>\n",
       "    </tr>\n",
       "    <tr>\n",
       "      <th id=\"T_7bef4_level0_row3\" class=\"row_heading level0 row3\" >3</th>\n",
       "      <td id=\"T_7bef4_row3_col0\" class=\"data row3 col0\" >pom. 3</td>\n",
       "      <td id=\"T_7bef4_row3_col1\" class=\"data row3 col1\" >0</td>\n",
       "      <td id=\"T_7bef4_row3_col2\" class=\"data row3 col2\" >0.000000</td>\n",
       "      <td id=\"T_7bef4_row3_col3\" class=\"data row3 col3\" >0.000000</td>\n",
       "      <td id=\"T_7bef4_row3_col4\" class=\"data row3 col4\" >0.000000</td>\n",
       "      <td id=\"T_7bef4_row3_col5\" class=\"data row3 col5\" >0.000000</td>\n",
       "      <td id=\"T_7bef4_row3_col6\" class=\"data row3 col6\" >0.000000</td>\n",
       "      <td id=\"T_7bef4_row3_col7\" class=\"data row3 col7\" >0.000000</td>\n",
       "      <td id=\"T_7bef4_row3_col8\" class=\"data row3 col8\" >0.000000</td>\n",
       "      <td id=\"T_7bef4_row3_col9\" class=\"data row3 col9\" >0.000000</td>\n",
       "    </tr>\n",
       "    <tr>\n",
       "      <th id=\"T_7bef4_level0_row4\" class=\"row_heading level0 row4\" >4</th>\n",
       "      <td id=\"T_7bef4_row4_col0\" class=\"data row4 col0\" >pom. 4</td>\n",
       "      <td id=\"T_7bef4_row4_col1\" class=\"data row4 col1\" >0</td>\n",
       "      <td id=\"T_7bef4_row4_col2\" class=\"data row4 col2\" >0.000000</td>\n",
       "      <td id=\"T_7bef4_row4_col3\" class=\"data row4 col3\" >0.000000</td>\n",
       "      <td id=\"T_7bef4_row4_col4\" class=\"data row4 col4\" >0.000000</td>\n",
       "      <td id=\"T_7bef4_row4_col5\" class=\"data row4 col5\" >0.000000</td>\n",
       "      <td id=\"T_7bef4_row4_col6\" class=\"data row4 col6\" >0.000000</td>\n",
       "      <td id=\"T_7bef4_row4_col7\" class=\"data row4 col7\" >0.000000</td>\n",
       "      <td id=\"T_7bef4_row4_col8\" class=\"data row4 col8\" >0.009279</td>\n",
       "      <td id=\"T_7bef4_row4_col9\" class=\"data row4 col9\" >0.000000</td>\n",
       "    </tr>\n",
       "    <tr>\n",
       "      <th id=\"T_7bef4_level0_row5\" class=\"row_heading level0 row5\" >5</th>\n",
       "      <td id=\"T_7bef4_row5_col0\" class=\"data row5 col0\" >średni</td>\n",
       "      <td id=\"T_7bef4_row5_col1\" class=\"data row5 col1\" >0</td>\n",
       "      <td id=\"T_7bef4_row5_col2\" class=\"data row5 col2\" >0.005049</td>\n",
       "      <td id=\"T_7bef4_row5_col3\" class=\"data row5 col3\" >0.000000</td>\n",
       "      <td id=\"T_7bef4_row5_col4\" class=\"data row5 col4\" >0.000000</td>\n",
       "      <td id=\"T_7bef4_row5_col5\" class=\"data row5 col5\" >0.000000</td>\n",
       "      <td id=\"T_7bef4_row5_col6\" class=\"data row5 col6\" >0.000000</td>\n",
       "      <td id=\"T_7bef4_row5_col7\" class=\"data row5 col7\" >0.000000</td>\n",
       "      <td id=\"T_7bef4_row5_col8\" class=\"data row5 col8\" >0.001959</td>\n",
       "      <td id=\"T_7bef4_row5_col9\" class=\"data row5 col9\" >0.000000</td>\n",
       "    </tr>\n",
       "    <tr>\n",
       "      <th id=\"T_7bef4_level0_row6\" class=\"row_heading level0 row6\" >6</th>\n",
       "      <td id=\"T_7bef4_row6_col0\" class=\"data row6 col0\" >min</td>\n",
       "      <td id=\"T_7bef4_row6_col1\" class=\"data row6 col1\" >0</td>\n",
       "      <td id=\"T_7bef4_row6_col2\" class=\"data row6 col2\" >0.000000</td>\n",
       "      <td id=\"T_7bef4_row6_col3\" class=\"data row6 col3\" >0.000000</td>\n",
       "      <td id=\"T_7bef4_row6_col4\" class=\"data row6 col4\" >0.000000</td>\n",
       "      <td id=\"T_7bef4_row6_col5\" class=\"data row6 col5\" >0.000000</td>\n",
       "      <td id=\"T_7bef4_row6_col6\" class=\"data row6 col6\" >0.000000</td>\n",
       "      <td id=\"T_7bef4_row6_col7\" class=\"data row6 col7\" >0.000000</td>\n",
       "      <td id=\"T_7bef4_row6_col8\" class=\"data row6 col8\" >0.000000</td>\n",
       "      <td id=\"T_7bef4_row6_col9\" class=\"data row6 col9\" >0.000000</td>\n",
       "    </tr>\n",
       "    <tr>\n",
       "      <th id=\"T_7bef4_level0_row7\" class=\"row_heading level0 row7\" >7</th>\n",
       "      <td id=\"T_7bef4_row7_col0\" class=\"data row7 col0\" >max</td>\n",
       "      <td id=\"T_7bef4_row7_col1\" class=\"data row7 col1\" >0</td>\n",
       "      <td id=\"T_7bef4_row7_col2\" class=\"data row7 col2\" >0.009165</td>\n",
       "      <td id=\"T_7bef4_row7_col3\" class=\"data row7 col3\" >0.000000</td>\n",
       "      <td id=\"T_7bef4_row7_col4\" class=\"data row7 col4\" >0.000000</td>\n",
       "      <td id=\"T_7bef4_row7_col5\" class=\"data row7 col5\" >0.000000</td>\n",
       "      <td id=\"T_7bef4_row7_col6\" class=\"data row7 col6\" >0.000000</td>\n",
       "      <td id=\"T_7bef4_row7_col7\" class=\"data row7 col7\" >0.000000</td>\n",
       "      <td id=\"T_7bef4_row7_col8\" class=\"data row7 col8\" >0.009279</td>\n",
       "      <td id=\"T_7bef4_row7_col9\" class=\"data row7 col9\" >0.000000</td>\n",
       "    </tr>\n",
       "  </tbody>\n",
       "</table>\n"
      ],
      "text/plain": [
       "<pandas.io.formats.style.Styler at 0x19b26719970>"
      ]
     },
     "metadata": {},
     "output_type": "display_data"
    }
   ],
   "source": [
    "T2=\"ghjjfejwavbaewvvewkvgfwajaeio;erhberghjjfejwavbaewvvewkvhjalbwbeahlweghjjfejwavbaewvvewkjhkgewvkghevffffffffffffffffgaaaaaasdkhggggggggggggggggggggggeagiweyrtfaglafcvsvzx,dncfgaefjsteuawor\"\n",
    "P2=\"ghjjfejwavbaewvvewkv\"\n",
    "data2=return_data_frame(T2,P2, 5)\n",
    "data_frame2=pd.DataFrame(data2)\n",
    "print(\"Tekst: \", T2)\n",
    "print(\"Wzorzec: \", P2)\n",
    "t1=data_frame2.style.set_caption(\"Czasy wyszukiwania wzorca w sek.\")\n",
    "display(t1)"
   ]
  },
  {
   "cell_type": "markdown",
   "id": "eaca4dcf",
   "metadata": {},
   "source": [
    "### Zliczenie wzorców \"pan\" i \"pani\" w pliku pan-tadeusz.txt"
   ]
  },
  {
   "cell_type": "code",
   "execution_count": 14,
   "id": "a01467ae",
   "metadata": {},
   "outputs": [],
   "source": [
    "with open('pan-tadeusz.txt', 'r',encoding='UTF-8') as file:\n",
    "    T = file.read()"
   ]
  },
  {
   "cell_type": "code",
   "execution_count": 15,
   "id": "182967e2",
   "metadata": {},
   "outputs": [],
   "source": [
    "results_pan, times_pan=times_and_results(T,'pan')\n",
    "results_pani, times_pani=times_and_results(T,'pani')"
   ]
  },
  {
   "cell_type": "code",
   "execution_count": 16,
   "id": "8b903d21",
   "metadata": {},
   "outputs": [
    {
     "name": "stdout",
     "output_type": "stream",
     "text": [
      "Wyszukiwanie wzorca 'pan':\n",
      "Algorytm naiwny:  401\n",
      "Automat skończony:  401\n",
      "Algorytm KMP:  401\n",
      "Każdy algorytm zwrócił tyle samo dopasowań!\n",
      "Zwrócone dopasowania są takie same!\n",
      "\n",
      "Wyszukiwanie wzorca 'pani':\n",
      "Algorytm naiwny:  100\n",
      "Automat skończony:  100\n",
      "Algorytm KMP:  100\n",
      "Każdy algorytm zwrócił tyle samo dopasowań!\n",
      "Zwrócone dopasowania są takie same!\n"
     ]
    }
   ],
   "source": [
    "print(\"Wyszukiwanie wzorca 'pan':\")\n",
    "print(\"Algorytm naiwny: \", len(results_pan['naive']))\n",
    "print(\"Automat skończony: \", len(results_pan['FA']))\n",
    "print(\"Algorytm KMP: \", len(results_pan['KMP']))\n",
    "if(len(results_pan['naive'])==len(results_pan['FA'])==len(results_pan['KMP'])):\n",
    "    print(\"Każdy algorytm zwrócił tyle samo dopasowań!\")\n",
    "else:\n",
    "    print(\"Oj! Algorytmy nie zwróciły tej samej liczby dopasowań!\")\n",
    "\n",
    "if(sorted(results_pani['naive'])==sorted(results_pani['FA'])==sorted(results_pani['KMP'])):\n",
    "    print(\"Zwrócone dopasowania są takie same!\")\n",
    "    \n",
    "print(\"\\nWyszukiwanie wzorca 'pani':\")\n",
    "print(\"Algorytm naiwny: \", len(results_pani['naive']))\n",
    "print(\"Automat skończony: \", len(results_pani['FA']))\n",
    "print(\"Algorytm KMP: \", len(results_pani['KMP']))\n",
    "if(len(results_pani['naive'])==len(results_pani['FA'])==len(results_pani['KMP'])):\n",
    "    print(\"Każdy algorytm zwrócił tyle samo dopasowań!\")\n",
    "else:\n",
    "    print(\"Oj! Algorytmy nie zwróciły tej samej liczby dopasowań!\")\n",
    "\n",
    "if(sorted(results_pani['naive'])==sorted(results_pani['FA'])==sorted(results_pani['KMP'])):\n",
    "    print(\"Zwrócone dopasowania są takie same!\")"
   ]
  },
  {
   "cell_type": "markdown",
   "id": "63b674fc",
   "metadata": {},
   "source": [
    "### Pomiary czasów"
   ]
  },
  {
   "cell_type": "markdown",
   "id": "14332297",
   "metadata": {},
   "source": [
    "#### Tabelki i wykresy"
   ]
  },
  {
   "cell_type": "code",
   "execution_count": 29,
   "id": "488feeac",
   "metadata": {},
   "outputs": [],
   "source": [
    "data_pan=return_data_frame(T,\"pan\", 10)\n",
    "data_pani=return_data_frame(T,\"pani\", 10)"
   ]
  },
  {
   "cell_type": "code",
   "execution_count": 30,
   "id": "69da370a",
   "metadata": {},
   "outputs": [
    {
     "data": {
      "text/html": [
       "<style type=\"text/css\">\n",
       "</style>\n",
       "<table id=\"T_8bf95\">\n",
       "  <caption>Czasy wyszukiwania wzorca 'pan' w sek.</caption>\n",
       "  <thead>\n",
       "    <tr>\n",
       "      <th class=\"blank level0\" >&nbsp;</th>\n",
       "      <th id=\"T_8bf95_level0_col0\" class=\"col_heading level0 col0\" >czas</th>\n",
       "      <th id=\"T_8bf95_level0_col1\" class=\"col_heading level0 col1\" >naiwny: preprocessing</th>\n",
       "      <th id=\"T_8bf95_level0_col2\" class=\"col_heading level0 col2\" >AS: preprocessing</th>\n",
       "      <th id=\"T_8bf95_level0_col3\" class=\"col_heading level0 col3\" >KMP: preprocessing</th>\n",
       "      <th id=\"T_8bf95_level0_col4\" class=\"col_heading level0 col4\" >naiwny: bez preprocessingu</th>\n",
       "      <th id=\"T_8bf95_level0_col5\" class=\"col_heading level0 col5\" >AS: bez preprocessingu</th>\n",
       "      <th id=\"T_8bf95_level0_col6\" class=\"col_heading level0 col6\" >KMP: bez preprocessingu</th>\n",
       "      <th id=\"T_8bf95_level0_col7\" class=\"col_heading level0 col7\" >naiwny: w sumie</th>\n",
       "      <th id=\"T_8bf95_level0_col8\" class=\"col_heading level0 col8\" >AS: w sumie</th>\n",
       "      <th id=\"T_8bf95_level0_col9\" class=\"col_heading level0 col9\" >KMP: w sumie</th>\n",
       "    </tr>\n",
       "  </thead>\n",
       "  <tbody>\n",
       "    <tr>\n",
       "      <th id=\"T_8bf95_level0_row0\" class=\"row_heading level0 row0\" >0</th>\n",
       "      <td id=\"T_8bf95_row0_col0\" class=\"data row0 col0\" >pom. 0</td>\n",
       "      <td id=\"T_8bf95_row0_col1\" class=\"data row0 col1\" >0</td>\n",
       "      <td id=\"T_8bf95_row0_col2\" class=\"data row0 col2\" >0.026967</td>\n",
       "      <td id=\"T_8bf95_row0_col3\" class=\"data row0 col3\" >0.000000</td>\n",
       "      <td id=\"T_8bf95_row0_col4\" class=\"data row0 col4\" >0.272228</td>\n",
       "      <td id=\"T_8bf95_row0_col5\" class=\"data row0 col5\" >0.122424</td>\n",
       "      <td id=\"T_8bf95_row0_col6\" class=\"data row0 col6\" >0.213098</td>\n",
       "      <td id=\"T_8bf95_row0_col7\" class=\"data row0 col7\" >0.272228</td>\n",
       "      <td id=\"T_8bf95_row0_col8\" class=\"data row0 col8\" >0.145173</td>\n",
       "      <td id=\"T_8bf95_row0_col9\" class=\"data row0 col9\" >0.205143</td>\n",
       "    </tr>\n",
       "    <tr>\n",
       "      <th id=\"T_8bf95_level0_row1\" class=\"row_heading level0 row1\" >1</th>\n",
       "      <td id=\"T_8bf95_row1_col0\" class=\"data row1 col0\" >pom. 1</td>\n",
       "      <td id=\"T_8bf95_row1_col1\" class=\"data row1 col1\" >0</td>\n",
       "      <td id=\"T_8bf95_row1_col2\" class=\"data row1 col2\" >0.024214</td>\n",
       "      <td id=\"T_8bf95_row1_col3\" class=\"data row1 col3\" >0.000000</td>\n",
       "      <td id=\"T_8bf95_row1_col4\" class=\"data row1 col4\" >0.256489</td>\n",
       "      <td id=\"T_8bf95_row1_col5\" class=\"data row1 col5\" >0.129960</td>\n",
       "      <td id=\"T_8bf95_row1_col6\" class=\"data row1 col6\" >0.216509</td>\n",
       "      <td id=\"T_8bf95_row1_col7\" class=\"data row1 col7\" >0.256489</td>\n",
       "      <td id=\"T_8bf95_row1_col8\" class=\"data row1 col8\" >0.149434</td>\n",
       "      <td id=\"T_8bf95_row1_col9\" class=\"data row1 col9\" >0.214365</td>\n",
       "    </tr>\n",
       "    <tr>\n",
       "      <th id=\"T_8bf95_level0_row2\" class=\"row_heading level0 row2\" >2</th>\n",
       "      <td id=\"T_8bf95_row2_col0\" class=\"data row2 col0\" >pom. 2</td>\n",
       "      <td id=\"T_8bf95_row2_col1\" class=\"data row2 col1\" >0</td>\n",
       "      <td id=\"T_8bf95_row2_col2\" class=\"data row2 col2\" >0.025116</td>\n",
       "      <td id=\"T_8bf95_row2_col3\" class=\"data row2 col3\" >0.000000</td>\n",
       "      <td id=\"T_8bf95_row2_col4\" class=\"data row2 col4\" >0.262002</td>\n",
       "      <td id=\"T_8bf95_row2_col5\" class=\"data row2 col5\" >0.128919</td>\n",
       "      <td id=\"T_8bf95_row2_col6\" class=\"data row2 col6\" >0.201473</td>\n",
       "      <td id=\"T_8bf95_row2_col7\" class=\"data row2 col7\" >0.262002</td>\n",
       "      <td id=\"T_8bf95_row2_col8\" class=\"data row2 col8\" >0.155937</td>\n",
       "      <td id=\"T_8bf95_row2_col9\" class=\"data row2 col9\" >0.200013</td>\n",
       "    </tr>\n",
       "    <tr>\n",
       "      <th id=\"T_8bf95_level0_row3\" class=\"row_heading level0 row3\" >3</th>\n",
       "      <td id=\"T_8bf95_row3_col0\" class=\"data row3 col0\" >pom. 3</td>\n",
       "      <td id=\"T_8bf95_row3_col1\" class=\"data row3 col1\" >0</td>\n",
       "      <td id=\"T_8bf95_row3_col2\" class=\"data row3 col2\" >0.020793</td>\n",
       "      <td id=\"T_8bf95_row3_col3\" class=\"data row3 col3\" >0.000000</td>\n",
       "      <td id=\"T_8bf95_row3_col4\" class=\"data row3 col4\" >0.277511</td>\n",
       "      <td id=\"T_8bf95_row3_col5\" class=\"data row3 col5\" >0.128336</td>\n",
       "      <td id=\"T_8bf95_row3_col6\" class=\"data row3 col6\" >0.199175</td>\n",
       "      <td id=\"T_8bf95_row3_col7\" class=\"data row3 col7\" >0.277511</td>\n",
       "      <td id=\"T_8bf95_row3_col8\" class=\"data row3 col8\" >0.143135</td>\n",
       "      <td id=\"T_8bf95_row3_col9\" class=\"data row3 col9\" >0.209675</td>\n",
       "    </tr>\n",
       "    <tr>\n",
       "      <th id=\"T_8bf95_level0_row4\" class=\"row_heading level0 row4\" >4</th>\n",
       "      <td id=\"T_8bf95_row4_col0\" class=\"data row4 col0\" >pom. 4</td>\n",
       "      <td id=\"T_8bf95_row4_col1\" class=\"data row4 col1\" >0</td>\n",
       "      <td id=\"T_8bf95_row4_col2\" class=\"data row4 col2\" >0.020674</td>\n",
       "      <td id=\"T_8bf95_row4_col3\" class=\"data row4 col3\" >0.000000</td>\n",
       "      <td id=\"T_8bf95_row4_col4\" class=\"data row4 col4\" >0.269818</td>\n",
       "      <td id=\"T_8bf95_row4_col5\" class=\"data row4 col5\" >0.124505</td>\n",
       "      <td id=\"T_8bf95_row4_col6\" class=\"data row4 col6\" >0.218215</td>\n",
       "      <td id=\"T_8bf95_row4_col7\" class=\"data row4 col7\" >0.269818</td>\n",
       "      <td id=\"T_8bf95_row4_col8\" class=\"data row4 col8\" >0.146679</td>\n",
       "      <td id=\"T_8bf95_row4_col9\" class=\"data row4 col9\" >0.207277</td>\n",
       "    </tr>\n",
       "    <tr>\n",
       "      <th id=\"T_8bf95_level0_row5\" class=\"row_heading level0 row5\" >5</th>\n",
       "      <td id=\"T_8bf95_row5_col0\" class=\"data row5 col0\" >pom. 5</td>\n",
       "      <td id=\"T_8bf95_row5_col1\" class=\"data row5 col1\" >0</td>\n",
       "      <td id=\"T_8bf95_row5_col2\" class=\"data row5 col2\" >0.016020</td>\n",
       "      <td id=\"T_8bf95_row5_col3\" class=\"data row5 col3\" >0.000000</td>\n",
       "      <td id=\"T_8bf95_row5_col4\" class=\"data row5 col4\" >0.290059</td>\n",
       "      <td id=\"T_8bf95_row5_col5\" class=\"data row5 col5\" >0.129181</td>\n",
       "      <td id=\"T_8bf95_row5_col6\" class=\"data row5 col6\" >0.204400</td>\n",
       "      <td id=\"T_8bf95_row5_col7\" class=\"data row5 col7\" >0.290059</td>\n",
       "      <td id=\"T_8bf95_row5_col8\" class=\"data row5 col8\" >0.156012</td>\n",
       "      <td id=\"T_8bf95_row5_col9\" class=\"data row5 col9\" >0.208109</td>\n",
       "    </tr>\n",
       "    <tr>\n",
       "      <th id=\"T_8bf95_level0_row6\" class=\"row_heading level0 row6\" >6</th>\n",
       "      <td id=\"T_8bf95_row6_col0\" class=\"data row6 col0\" >pom. 6</td>\n",
       "      <td id=\"T_8bf95_row6_col1\" class=\"data row6 col1\" >0</td>\n",
       "      <td id=\"T_8bf95_row6_col2\" class=\"data row6 col2\" >0.024853</td>\n",
       "      <td id=\"T_8bf95_row6_col3\" class=\"data row6 col3\" >0.000000</td>\n",
       "      <td id=\"T_8bf95_row6_col4\" class=\"data row6 col4\" >0.267602</td>\n",
       "      <td id=\"T_8bf95_row6_col5\" class=\"data row6 col5\" >0.122803</td>\n",
       "      <td id=\"T_8bf95_row6_col6\" class=\"data row6 col6\" >0.195464</td>\n",
       "      <td id=\"T_8bf95_row6_col7\" class=\"data row6 col7\" >0.267602</td>\n",
       "      <td id=\"T_8bf95_row6_col8\" class=\"data row6 col8\" >0.151318</td>\n",
       "      <td id=\"T_8bf95_row6_col9\" class=\"data row6 col9\" >0.200159</td>\n",
       "    </tr>\n",
       "    <tr>\n",
       "      <th id=\"T_8bf95_level0_row7\" class=\"row_heading level0 row7\" >7</th>\n",
       "      <td id=\"T_8bf95_row7_col0\" class=\"data row7 col0\" >pom. 7</td>\n",
       "      <td id=\"T_8bf95_row7_col1\" class=\"data row7 col1\" >0</td>\n",
       "      <td id=\"T_8bf95_row7_col2\" class=\"data row7 col2\" >0.025141</td>\n",
       "      <td id=\"T_8bf95_row7_col3\" class=\"data row7 col3\" >0.000000</td>\n",
       "      <td id=\"T_8bf95_row7_col4\" class=\"data row7 col4\" >0.263125</td>\n",
       "      <td id=\"T_8bf95_row7_col5\" class=\"data row7 col5\" >0.128343</td>\n",
       "      <td id=\"T_8bf95_row7_col6\" class=\"data row7 col6\" >0.222244</td>\n",
       "      <td id=\"T_8bf95_row7_col7\" class=\"data row7 col7\" >0.263125</td>\n",
       "      <td id=\"T_8bf95_row7_col8\" class=\"data row7 col8\" >0.151863</td>\n",
       "      <td id=\"T_8bf95_row7_col9\" class=\"data row7 col9\" >0.208288</td>\n",
       "    </tr>\n",
       "    <tr>\n",
       "      <th id=\"T_8bf95_level0_row8\" class=\"row_heading level0 row8\" >8</th>\n",
       "      <td id=\"T_8bf95_row8_col0\" class=\"data row8 col0\" >pom. 8</td>\n",
       "      <td id=\"T_8bf95_row8_col1\" class=\"data row8 col1\" >0</td>\n",
       "      <td id=\"T_8bf95_row8_col2\" class=\"data row8 col2\" >0.023992</td>\n",
       "      <td id=\"T_8bf95_row8_col3\" class=\"data row8 col3\" >0.000000</td>\n",
       "      <td id=\"T_8bf95_row8_col4\" class=\"data row8 col4\" >0.249682</td>\n",
       "      <td id=\"T_8bf95_row8_col5\" class=\"data row8 col5\" >0.119034</td>\n",
       "      <td id=\"T_8bf95_row8_col6\" class=\"data row8 col6\" >0.210793</td>\n",
       "      <td id=\"T_8bf95_row8_col7\" class=\"data row8 col7\" >0.249682</td>\n",
       "      <td id=\"T_8bf95_row8_col8\" class=\"data row8 col8\" >0.148804</td>\n",
       "      <td id=\"T_8bf95_row8_col9\" class=\"data row8 col9\" >0.202338</td>\n",
       "    </tr>\n",
       "    <tr>\n",
       "      <th id=\"T_8bf95_level0_row9\" class=\"row_heading level0 row9\" >9</th>\n",
       "      <td id=\"T_8bf95_row9_col0\" class=\"data row9 col0\" >pom. 9</td>\n",
       "      <td id=\"T_8bf95_row9_col1\" class=\"data row9 col1\" >0</td>\n",
       "      <td id=\"T_8bf95_row9_col2\" class=\"data row9 col2\" >0.024814</td>\n",
       "      <td id=\"T_8bf95_row9_col3\" class=\"data row9 col3\" >0.000000</td>\n",
       "      <td id=\"T_8bf95_row9_col4\" class=\"data row9 col4\" >0.271085</td>\n",
       "      <td id=\"T_8bf95_row9_col5\" class=\"data row9 col5\" >0.125169</td>\n",
       "      <td id=\"T_8bf95_row9_col6\" class=\"data row9 col6\" >0.205958</td>\n",
       "      <td id=\"T_8bf95_row9_col7\" class=\"data row9 col7\" >0.271085</td>\n",
       "      <td id=\"T_8bf95_row9_col8\" class=\"data row9 col8\" >0.152086</td>\n",
       "      <td id=\"T_8bf95_row9_col9\" class=\"data row9 col9\" >0.201324</td>\n",
       "    </tr>\n",
       "    <tr>\n",
       "      <th id=\"T_8bf95_level0_row10\" class=\"row_heading level0 row10\" >10</th>\n",
       "      <td id=\"T_8bf95_row10_col0\" class=\"data row10 col0\" >średni</td>\n",
       "      <td id=\"T_8bf95_row10_col1\" class=\"data row10 col1\" >0</td>\n",
       "      <td id=\"T_8bf95_row10_col2\" class=\"data row10 col2\" >0.023258</td>\n",
       "      <td id=\"T_8bf95_row10_col3\" class=\"data row10 col3\" >0.000000</td>\n",
       "      <td id=\"T_8bf95_row10_col4\" class=\"data row10 col4\" >0.267960</td>\n",
       "      <td id=\"T_8bf95_row10_col5\" class=\"data row10 col5\" >0.125867</td>\n",
       "      <td id=\"T_8bf95_row10_col6\" class=\"data row10 col6\" >0.208733</td>\n",
       "      <td id=\"T_8bf95_row10_col7\" class=\"data row10 col7\" >0.267960</td>\n",
       "      <td id=\"T_8bf95_row10_col8\" class=\"data row10 col8\" >0.150044</td>\n",
       "      <td id=\"T_8bf95_row10_col9\" class=\"data row10 col9\" >0.205669</td>\n",
       "    </tr>\n",
       "    <tr>\n",
       "      <th id=\"T_8bf95_level0_row11\" class=\"row_heading level0 row11\" >11</th>\n",
       "      <td id=\"T_8bf95_row11_col0\" class=\"data row11 col0\" >min</td>\n",
       "      <td id=\"T_8bf95_row11_col1\" class=\"data row11 col1\" >0</td>\n",
       "      <td id=\"T_8bf95_row11_col2\" class=\"data row11 col2\" >0.016020</td>\n",
       "      <td id=\"T_8bf95_row11_col3\" class=\"data row11 col3\" >0.000000</td>\n",
       "      <td id=\"T_8bf95_row11_col4\" class=\"data row11 col4\" >0.249682</td>\n",
       "      <td id=\"T_8bf95_row11_col5\" class=\"data row11 col5\" >0.119034</td>\n",
       "      <td id=\"T_8bf95_row11_col6\" class=\"data row11 col6\" >0.195464</td>\n",
       "      <td id=\"T_8bf95_row11_col7\" class=\"data row11 col7\" >0.249682</td>\n",
       "      <td id=\"T_8bf95_row11_col8\" class=\"data row11 col8\" >0.143135</td>\n",
       "      <td id=\"T_8bf95_row11_col9\" class=\"data row11 col9\" >0.200013</td>\n",
       "    </tr>\n",
       "    <tr>\n",
       "      <th id=\"T_8bf95_level0_row12\" class=\"row_heading level0 row12\" >12</th>\n",
       "      <td id=\"T_8bf95_row12_col0\" class=\"data row12 col0\" >max</td>\n",
       "      <td id=\"T_8bf95_row12_col1\" class=\"data row12 col1\" >0</td>\n",
       "      <td id=\"T_8bf95_row12_col2\" class=\"data row12 col2\" >0.026967</td>\n",
       "      <td id=\"T_8bf95_row12_col3\" class=\"data row12 col3\" >0.000000</td>\n",
       "      <td id=\"T_8bf95_row12_col4\" class=\"data row12 col4\" >0.290059</td>\n",
       "      <td id=\"T_8bf95_row12_col5\" class=\"data row12 col5\" >0.129960</td>\n",
       "      <td id=\"T_8bf95_row12_col6\" class=\"data row12 col6\" >0.222244</td>\n",
       "      <td id=\"T_8bf95_row12_col7\" class=\"data row12 col7\" >0.290059</td>\n",
       "      <td id=\"T_8bf95_row12_col8\" class=\"data row12 col8\" >0.156012</td>\n",
       "      <td id=\"T_8bf95_row12_col9\" class=\"data row12 col9\" >0.214365</td>\n",
       "    </tr>\n",
       "  </tbody>\n",
       "</table>\n"
      ],
      "text/plain": [
       "<pandas.io.formats.style.Styler at 0x19b277b03d0>"
      ]
     },
     "metadata": {},
     "output_type": "display_data"
    }
   ],
   "source": [
    "df1=pd.DataFrame(data_pan)\n",
    "table1=df1.style.set_caption(\"Czasy wyszukiwania wzorca 'pan' w sek.\")\n",
    "display(table1)"
   ]
  },
  {
   "cell_type": "code",
   "execution_count": 31,
   "id": "f9323c09",
   "metadata": {},
   "outputs": [
    {
     "data": {
      "image/png": "[encoded data removed]",
      "text/plain": [
       "<Figure size 432x288 with 1 Axes>"
      ]
     },
     "metadata": {
      "needs_background": "light"
     },
     "output_type": "display_data"
    }
   ],
   "source": [
    "df1.plot(x='czas', y=['naiwny: preprocessing', 'AS: preprocessing', 'KMP: preprocessing'], kind='line')\n",
    "plt.title(\"Czasy wyszukiwania wzorca 'pan' w sek.: preprocessing\")\n",
    "plt.show()"
   ]
  },
  {
   "cell_type": "code",
   "execution_count": 32,
   "id": "f1327208",
   "metadata": {},
   "outputs": [
    {
     "data": {
      "image/png": "[encoded data removed]",
      "text/plain": [
       "<Figure size 432x288 with 1 Axes>"
      ]
     },
     "metadata": {
      "needs_background": "light"
     },
     "output_type": "display_data"
    }
   ],
   "source": [
    "df1.plot(x='czas', y=['naiwny: bez preprocessingu', 'AS: bez preprocessingu', 'KMP: bez preprocessingu'], kind='line')\n",
    "plt.title(\"Czasy wyszukiwania wzorca 'pan' w sek.: bez preprocessingu\")\n",
    "plt.show()"
   ]
  },
  {
   "cell_type": "code",
   "execution_count": 33,
   "id": "af3c623f",
   "metadata": {},
   "outputs": [
    {
     "data": {
      "image/png": "[encoded data removed]",
      "text/plain": [
       "<Figure size 432x288 with 1 Axes>"
      ]
     },
     "metadata": {
      "needs_background": "light"
     },
     "output_type": "display_data"
    }
   ],
   "source": [
    "df1.plot(x='czas', y=['naiwny: w sumie', 'AS: w sumie', 'KMP: w sumie'], kind='line')\n",
    "plt.title(\"Czasy wyszukiwania wzorca 'pan' w sek.: w sumie\")\n",
    "plt.show()"
   ]
  },
  {
   "cell_type": "code",
   "execution_count": 34,
   "id": "11c4f1f3",
   "metadata": {},
   "outputs": [
    {
     "data": {
      "text/html": [
       "<style type=\"text/css\">\n",
       "</style>\n",
       "<table id=\"T_325f2\">\n",
       "  <caption>Czasy wyszukiwania wzorca 'pani' w sek.</caption>\n",
       "  <thead>\n",
       "    <tr>\n",
       "      <th class=\"blank level0\" >&nbsp;</th>\n",
       "      <th id=\"T_325f2_level0_col0\" class=\"col_heading level0 col0\" >czas</th>\n",
       "      <th id=\"T_325f2_level0_col1\" class=\"col_heading level0 col1\" >naiwny: preprocessing</th>\n",
       "      <th id=\"T_325f2_level0_col2\" class=\"col_heading level0 col2\" >AS: preprocessing</th>\n",
       "      <th id=\"T_325f2_level0_col3\" class=\"col_heading level0 col3\" >KMP: preprocessing</th>\n",
       "      <th id=\"T_325f2_level0_col4\" class=\"col_heading level0 col4\" >naiwny: bez preprocessingu</th>\n",
       "      <th id=\"T_325f2_level0_col5\" class=\"col_heading level0 col5\" >AS: bez preprocessingu</th>\n",
       "      <th id=\"T_325f2_level0_col6\" class=\"col_heading level0 col6\" >KMP: bez preprocessingu</th>\n",
       "      <th id=\"T_325f2_level0_col7\" class=\"col_heading level0 col7\" >naiwny: w sumie</th>\n",
       "      <th id=\"T_325f2_level0_col8\" class=\"col_heading level0 col8\" >AS: w sumie</th>\n",
       "      <th id=\"T_325f2_level0_col9\" class=\"col_heading level0 col9\" >KMP: w sumie</th>\n",
       "    </tr>\n",
       "  </thead>\n",
       "  <tbody>\n",
       "    <tr>\n",
       "      <th id=\"T_325f2_level0_row0\" class=\"row_heading level0 row0\" >0</th>\n",
       "      <td id=\"T_325f2_row0_col0\" class=\"data row0 col0\" >pom. 0</td>\n",
       "      <td id=\"T_325f2_row0_col1\" class=\"data row0 col1\" >0</td>\n",
       "      <td id=\"T_325f2_row0_col2\" class=\"data row0 col2\" >0.017205</td>\n",
       "      <td id=\"T_325f2_row0_col3\" class=\"data row0 col3\" >0.000000</td>\n",
       "      <td id=\"T_325f2_row0_col4\" class=\"data row0 col4\" >0.267474</td>\n",
       "      <td id=\"T_325f2_row0_col5\" class=\"data row0 col5\" >0.123469</td>\n",
       "      <td id=\"T_325f2_row0_col6\" class=\"data row0 col6\" >0.200155</td>\n",
       "      <td id=\"T_325f2_row0_col7\" class=\"data row0 col7\" >0.267474</td>\n",
       "      <td id=\"T_325f2_row0_col8\" class=\"data row0 col8\" >0.149330</td>\n",
       "      <td id=\"T_325f2_row0_col9\" class=\"data row0 col9\" >0.206024</td>\n",
       "    </tr>\n",
       "    <tr>\n",
       "      <th id=\"T_325f2_level0_row1\" class=\"row_heading level0 row1\" >1</th>\n",
       "      <td id=\"T_325f2_row1_col0\" class=\"data row1 col0\" >pom. 1</td>\n",
       "      <td id=\"T_325f2_row1_col1\" class=\"data row1 col1\" >0</td>\n",
       "      <td id=\"T_325f2_row1_col2\" class=\"data row1 col2\" >0.027119</td>\n",
       "      <td id=\"T_325f2_row1_col3\" class=\"data row1 col3\" >0.000000</td>\n",
       "      <td id=\"T_325f2_row1_col4\" class=\"data row1 col4\" >0.257894</td>\n",
       "      <td id=\"T_325f2_row1_col5\" class=\"data row1 col5\" >0.139193</td>\n",
       "      <td id=\"T_325f2_row1_col6\" class=\"data row1 col6\" >0.218006</td>\n",
       "      <td id=\"T_325f2_row1_col7\" class=\"data row1 col7\" >0.257894</td>\n",
       "      <td id=\"T_325f2_row1_col8\" class=\"data row1 col8\" >0.154858</td>\n",
       "      <td id=\"T_325f2_row1_col9\" class=\"data row1 col9\" >0.197141</td>\n",
       "    </tr>\n",
       "    <tr>\n",
       "      <th id=\"T_325f2_level0_row2\" class=\"row_heading level0 row2\" >2</th>\n",
       "      <td id=\"T_325f2_row2_col0\" class=\"data row2 col0\" >pom. 2</td>\n",
       "      <td id=\"T_325f2_row2_col1\" class=\"data row2 col1\" >0</td>\n",
       "      <td id=\"T_325f2_row2_col2\" class=\"data row2 col2\" >0.024757</td>\n",
       "      <td id=\"T_325f2_row2_col3\" class=\"data row2 col3\" >0.000000</td>\n",
       "      <td id=\"T_325f2_row2_col4\" class=\"data row2 col4\" >0.265192</td>\n",
       "      <td id=\"T_325f2_row2_col5\" class=\"data row2 col5\" >0.125210</td>\n",
       "      <td id=\"T_325f2_row2_col6\" class=\"data row2 col6\" >0.203788</td>\n",
       "      <td id=\"T_325f2_row2_col7\" class=\"data row2 col7\" >0.265192</td>\n",
       "      <td id=\"T_325f2_row2_col8\" class=\"data row2 col8\" >0.147837</td>\n",
       "      <td id=\"T_325f2_row2_col9\" class=\"data row2 col9\" >0.198620</td>\n",
       "    </tr>\n",
       "    <tr>\n",
       "      <th id=\"T_325f2_level0_row3\" class=\"row_heading level0 row3\" >3</th>\n",
       "      <td id=\"T_325f2_row3_col0\" class=\"data row3 col0\" >pom. 3</td>\n",
       "      <td id=\"T_325f2_row3_col1\" class=\"data row3 col1\" >0</td>\n",
       "      <td id=\"T_325f2_row3_col2\" class=\"data row3 col2\" >0.022604</td>\n",
       "      <td id=\"T_325f2_row3_col3\" class=\"data row3 col3\" >0.000000</td>\n",
       "      <td id=\"T_325f2_row3_col4\" class=\"data row3 col4\" >0.290821</td>\n",
       "      <td id=\"T_325f2_row3_col5\" class=\"data row3 col5\" >0.130450</td>\n",
       "      <td id=\"T_325f2_row3_col6\" class=\"data row3 col6\" >0.199325</td>\n",
       "      <td id=\"T_325f2_row3_col7\" class=\"data row3 col7\" >0.290821</td>\n",
       "      <td id=\"T_325f2_row3_col8\" class=\"data row3 col8\" >0.149429</td>\n",
       "      <td id=\"T_325f2_row3_col9\" class=\"data row3 col9\" >0.206744</td>\n",
       "    </tr>\n",
       "    <tr>\n",
       "      <th id=\"T_325f2_level0_row4\" class=\"row_heading level0 row4\" >4</th>\n",
       "      <td id=\"T_325f2_row4_col0\" class=\"data row4 col0\" >pom. 4</td>\n",
       "      <td id=\"T_325f2_row4_col1\" class=\"data row4 col1\" >0</td>\n",
       "      <td id=\"T_325f2_row4_col2\" class=\"data row4 col2\" >0.029078</td>\n",
       "      <td id=\"T_325f2_row4_col3\" class=\"data row4 col3\" >0.000000</td>\n",
       "      <td id=\"T_325f2_row4_col4\" class=\"data row4 col4\" >0.273018</td>\n",
       "      <td id=\"T_325f2_row4_col5\" class=\"data row4 col5\" >0.121876</td>\n",
       "      <td id=\"T_325f2_row4_col6\" class=\"data row4 col6\" >0.197768</td>\n",
       "      <td id=\"T_325f2_row4_col7\" class=\"data row4 col7\" >0.273018</td>\n",
       "      <td id=\"T_325f2_row4_col8\" class=\"data row4 col8\" >0.157362</td>\n",
       "      <td id=\"T_325f2_row4_col9\" class=\"data row4 col9\" >0.202749</td>\n",
       "    </tr>\n",
       "    <tr>\n",
       "      <th id=\"T_325f2_level0_row5\" class=\"row_heading level0 row5\" >5</th>\n",
       "      <td id=\"T_325f2_row5_col0\" class=\"data row5 col0\" >pom. 5</td>\n",
       "      <td id=\"T_325f2_row5_col1\" class=\"data row5 col1\" >0</td>\n",
       "      <td id=\"T_325f2_row5_col2\" class=\"data row5 col2\" >0.027198</td>\n",
       "      <td id=\"T_325f2_row5_col3\" class=\"data row5 col3\" >0.000000</td>\n",
       "      <td id=\"T_325f2_row5_col4\" class=\"data row5 col4\" >0.274176</td>\n",
       "      <td id=\"T_325f2_row5_col5\" class=\"data row5 col5\" >0.142587</td>\n",
       "      <td id=\"T_325f2_row5_col6\" class=\"data row5 col6\" >0.200730</td>\n",
       "      <td id=\"T_325f2_row5_col7\" class=\"data row5 col7\" >0.274176</td>\n",
       "      <td id=\"T_325f2_row5_col8\" class=\"data row5 col8\" >0.149065</td>\n",
       "      <td id=\"T_325f2_row5_col9\" class=\"data row5 col9\" >0.209295</td>\n",
       "    </tr>\n",
       "    <tr>\n",
       "      <th id=\"T_325f2_level0_row6\" class=\"row_heading level0 row6\" >6</th>\n",
       "      <td id=\"T_325f2_row6_col0\" class=\"data row6 col0\" >pom. 6</td>\n",
       "      <td id=\"T_325f2_row6_col1\" class=\"data row6 col1\" >0</td>\n",
       "      <td id=\"T_325f2_row6_col2\" class=\"data row6 col2\" >0.016043</td>\n",
       "      <td id=\"T_325f2_row6_col3\" class=\"data row6 col3\" >0.000000</td>\n",
       "      <td id=\"T_325f2_row6_col4\" class=\"data row6 col4\" >0.287938</td>\n",
       "      <td id=\"T_325f2_row6_col5\" class=\"data row6 col5\" >0.132864</td>\n",
       "      <td id=\"T_325f2_row6_col6\" class=\"data row6 col6\" >0.218734</td>\n",
       "      <td id=\"T_325f2_row6_col7\" class=\"data row6 col7\" >0.287938</td>\n",
       "      <td id=\"T_325f2_row6_col8\" class=\"data row6 col8\" >0.149783</td>\n",
       "      <td id=\"T_325f2_row6_col9\" class=\"data row6 col9\" >0.200074</td>\n",
       "    </tr>\n",
       "    <tr>\n",
       "      <th id=\"T_325f2_level0_row7\" class=\"row_heading level0 row7\" >7</th>\n",
       "      <td id=\"T_325f2_row7_col0\" class=\"data row7 col0\" >pom. 7</td>\n",
       "      <td id=\"T_325f2_row7_col1\" class=\"data row7 col1\" >0</td>\n",
       "      <td id=\"T_325f2_row7_col2\" class=\"data row7 col2\" >0.024139</td>\n",
       "      <td id=\"T_325f2_row7_col3\" class=\"data row7 col3\" >0.000000</td>\n",
       "      <td id=\"T_325f2_row7_col4\" class=\"data row7 col4\" >0.257261</td>\n",
       "      <td id=\"T_325f2_row7_col5\" class=\"data row7 col5\" >0.122403</td>\n",
       "      <td id=\"T_325f2_row7_col6\" class=\"data row7 col6\" >0.207922</td>\n",
       "      <td id=\"T_325f2_row7_col7\" class=\"data row7 col7\" >0.257261</td>\n",
       "      <td id=\"T_325f2_row7_col8\" class=\"data row7 col8\" >0.155280</td>\n",
       "      <td id=\"T_325f2_row7_col9\" class=\"data row7 col9\" >0.199798</td>\n",
       "    </tr>\n",
       "    <tr>\n",
       "      <th id=\"T_325f2_level0_row8\" class=\"row_heading level0 row8\" >8</th>\n",
       "      <td id=\"T_325f2_row8_col0\" class=\"data row8 col0\" >pom. 8</td>\n",
       "      <td id=\"T_325f2_row8_col1\" class=\"data row8 col1\" >0</td>\n",
       "      <td id=\"T_325f2_row8_col2\" class=\"data row8 col2\" >0.024410</td>\n",
       "      <td id=\"T_325f2_row8_col3\" class=\"data row8 col3\" >0.000000</td>\n",
       "      <td id=\"T_325f2_row8_col4\" class=\"data row8 col4\" >0.259443</td>\n",
       "      <td id=\"T_325f2_row8_col5\" class=\"data row8 col5\" >0.127249</td>\n",
       "      <td id=\"T_325f2_row8_col6\" class=\"data row8 col6\" >0.209290</td>\n",
       "      <td id=\"T_325f2_row8_col7\" class=\"data row8 col7\" >0.259443</td>\n",
       "      <td id=\"T_325f2_row8_col8\" class=\"data row8 col8\" >0.152993</td>\n",
       "      <td id=\"T_325f2_row8_col9\" class=\"data row8 col9\" >0.213976</td>\n",
       "    </tr>\n",
       "    <tr>\n",
       "      <th id=\"T_325f2_level0_row9\" class=\"row_heading level0 row9\" >9</th>\n",
       "      <td id=\"T_325f2_row9_col0\" class=\"data row9 col0\" >pom. 9</td>\n",
       "      <td id=\"T_325f2_row9_col1\" class=\"data row9 col1\" >0</td>\n",
       "      <td id=\"T_325f2_row9_col2\" class=\"data row9 col2\" >0.020581</td>\n",
       "      <td id=\"T_325f2_row9_col3\" class=\"data row9 col3\" >0.000000</td>\n",
       "      <td id=\"T_325f2_row9_col4\" class=\"data row9 col4\" >0.265790</td>\n",
       "      <td id=\"T_325f2_row9_col5\" class=\"data row9 col5\" >0.133327</td>\n",
       "      <td id=\"T_325f2_row9_col6\" class=\"data row9 col6\" >0.203220</td>\n",
       "      <td id=\"T_325f2_row9_col7\" class=\"data row9 col7\" >0.265790</td>\n",
       "      <td id=\"T_325f2_row9_col8\" class=\"data row9 col8\" >0.148701</td>\n",
       "      <td id=\"T_325f2_row9_col9\" class=\"data row9 col9\" >0.207409</td>\n",
       "    </tr>\n",
       "    <tr>\n",
       "      <th id=\"T_325f2_level0_row10\" class=\"row_heading level0 row10\" >10</th>\n",
       "      <td id=\"T_325f2_row10_col0\" class=\"data row10 col0\" >średni</td>\n",
       "      <td id=\"T_325f2_row10_col1\" class=\"data row10 col1\" >0</td>\n",
       "      <td id=\"T_325f2_row10_col2\" class=\"data row10 col2\" >0.023314</td>\n",
       "      <td id=\"T_325f2_row10_col3\" class=\"data row10 col3\" >0.000000</td>\n",
       "      <td id=\"T_325f2_row10_col4\" class=\"data row10 col4\" >0.269901</td>\n",
       "      <td id=\"T_325f2_row10_col5\" class=\"data row10 col5\" >0.129863</td>\n",
       "      <td id=\"T_325f2_row10_col6\" class=\"data row10 col6\" >0.205894</td>\n",
       "      <td id=\"T_325f2_row10_col7\" class=\"data row10 col7\" >0.269901</td>\n",
       "      <td id=\"T_325f2_row10_col8\" class=\"data row10 col8\" >0.151464</td>\n",
       "      <td id=\"T_325f2_row10_col9\" class=\"data row10 col9\" >0.204183</td>\n",
       "    </tr>\n",
       "    <tr>\n",
       "      <th id=\"T_325f2_level0_row11\" class=\"row_heading level0 row11\" >11</th>\n",
       "      <td id=\"T_325f2_row11_col0\" class=\"data row11 col0\" >min</td>\n",
       "      <td id=\"T_325f2_row11_col1\" class=\"data row11 col1\" >0</td>\n",
       "      <td id=\"T_325f2_row11_col2\" class=\"data row11 col2\" >0.016043</td>\n",
       "      <td id=\"T_325f2_row11_col3\" class=\"data row11 col3\" >0.000000</td>\n",
       "      <td id=\"T_325f2_row11_col4\" class=\"data row11 col4\" >0.257261</td>\n",
       "      <td id=\"T_325f2_row11_col5\" class=\"data row11 col5\" >0.121876</td>\n",
       "      <td id=\"T_325f2_row11_col6\" class=\"data row11 col6\" >0.197768</td>\n",
       "      <td id=\"T_325f2_row11_col7\" class=\"data row11 col7\" >0.257261</td>\n",
       "      <td id=\"T_325f2_row11_col8\" class=\"data row11 col8\" >0.147837</td>\n",
       "      <td id=\"T_325f2_row11_col9\" class=\"data row11 col9\" >0.197141</td>\n",
       "    </tr>\n",
       "    <tr>\n",
       "      <th id=\"T_325f2_level0_row12\" class=\"row_heading level0 row12\" >12</th>\n",
       "      <td id=\"T_325f2_row12_col0\" class=\"data row12 col0\" >max</td>\n",
       "      <td id=\"T_325f2_row12_col1\" class=\"data row12 col1\" >0</td>\n",
       "      <td id=\"T_325f2_row12_col2\" class=\"data row12 col2\" >0.029078</td>\n",
       "      <td id=\"T_325f2_row12_col3\" class=\"data row12 col3\" >0.000000</td>\n",
       "      <td id=\"T_325f2_row12_col4\" class=\"data row12 col4\" >0.290821</td>\n",
       "      <td id=\"T_325f2_row12_col5\" class=\"data row12 col5\" >0.142587</td>\n",
       "      <td id=\"T_325f2_row12_col6\" class=\"data row12 col6\" >0.218734</td>\n",
       "      <td id=\"T_325f2_row12_col7\" class=\"data row12 col7\" >0.290821</td>\n",
       "      <td id=\"T_325f2_row12_col8\" class=\"data row12 col8\" >0.157362</td>\n",
       "      <td id=\"T_325f2_row12_col9\" class=\"data row12 col9\" >0.213976</td>\n",
       "    </tr>\n",
       "  </tbody>\n",
       "</table>\n"
      ],
      "text/plain": [
       "<pandas.io.formats.style.Styler at 0x19b2e2a33a0>"
      ]
     },
     "metadata": {},
     "output_type": "display_data"
    }
   ],
   "source": [
    "df2=pd.DataFrame(data_pani)\n",
    "table2=df2.style.set_caption(\"Czasy wyszukiwania wzorca 'pani' w sek.\")\n",
    "display(table2)"
   ]
  },
  {
   "cell_type": "code",
   "execution_count": 35,
   "id": "7e4bb14c",
   "metadata": {},
   "outputs": [
    {
     "data": {
      "image/png": "[encoded data removed]",
      "text/plain": [
       "<Figure size 432x288 with 1 Axes>"
      ]
     },
     "metadata": {
      "needs_background": "light"
     },
     "output_type": "display_data"
    }
   ],
   "source": [
    "df2.plot(x='czas', y=['naiwny: preprocessing', 'AS: preprocessing', 'KMP: preprocessing'], kind='line')\n",
    "plt.title(\"Czasy wyszukiwania wzorca 'pani' w sek.: preprocessing\")\n",
    "plt.show()"
   ]
  },
  {
   "cell_type": "code",
   "execution_count": 36,
   "id": "8c54575b",
   "metadata": {},
   "outputs": [
    {
     "data": {
      "image/png": "[encoded data removed]",
      "text/plain": [
       "<Figure size 432x288 with 1 Axes>"
      ]
     },
     "metadata": {
      "needs_background": "light"
     },
     "output_type": "display_data"
    }
   ],
   "source": [
    "df2.plot(x='czas', y=['naiwny: bez preprocessingu', 'AS: bez preprocessingu', 'KMP: bez preprocessingu'], kind='line')\n",
    "plt.title(\"Czasy wyszukiwania wzorca 'pani' w sek.: bez preprocessingu\")\n",
    "plt.show()"
   ]
  },
  {
   "cell_type": "code",
   "execution_count": 37,
   "id": "14853e7c",
   "metadata": {},
   "outputs": [
    {
     "data": {
      "image/png": "[encoded data removed]",
      "text/plain": [
       "<Figure size 432x288 with 1 Axes>"
      ]
     },
     "metadata": {
      "needs_background": "light"
     },
     "output_type": "display_data"
    }
   ],
   "source": [
    "df2.plot(x='czas', y=['naiwny: w sumie', 'AS: w sumie', 'KMP: w sumie'], kind='line')\n",
    "plt.title(\"Czasy wyszukiwania wzorca 'pani' w sek.: w sumie\")\n",
    "plt.show()"
   ]
  },
  {
   "cell_type": "markdown",
   "id": "8dc5e07d",
   "metadata": {},
   "source": [
    "### Znaczne różnice między czasem algorytmu naiwnego i pozostałych"
   ]
  },
  {
   "cell_type": "code",
   "execution_count": 38,
   "id": "d843231a",
   "metadata": {},
   "outputs": [],
   "source": [
    "text = \"a\" * 1000000\n",
    "pattern = \"a\" * 100000"
   ]
  },
  {
   "cell_type": "code",
   "execution_count": 39,
   "id": "b99ac7b6",
   "metadata": {},
   "outputs": [],
   "source": [
    "results, times=times_and_results(text, pattern)"
   ]
  },
  {
   "cell_type": "code",
   "execution_count": 40,
   "id": "f756dfc6",
   "metadata": {},
   "outputs": [
    {
     "name": "stdout",
     "output_type": "stream",
     "text": [
      "Tekst: 'a'*10^6\n",
      "Wzór: 'a'*10^5\n",
      "Czasy w sekundach:\n",
      "Algorytm naiwny:  27.759644031524658\n",
      "Automat skończony:  0.6476118564605713\n",
      "Algorytm KMP 1.4273996353149414\n",
      "Algorytm naiwny jest wolniejszy ponad 5 razy!\n"
     ]
    }
   ],
   "source": [
    "print(\"Tekst: 'a'*10^6\")\n",
    "print(\"Wzór: 'a'*10^5\")\n",
    "print(\"Czasy w sekundach:\")\n",
    "print(\"Algorytm naiwny: \",times['naive'])\n",
    "print(\"Automat skończony: \",times['FA_no_preprocessing'])\n",
    "print(\"Algorytm KMP\",times['KMP_no_preprocessing'])\n",
    "if(times['naive']>=times['FA_no_preprocessing']*5 and times['naive']>=times['KMP_no_preprocessing']*5):\n",
    "    print(\"Algorytm naiwny jest wolniejszy ponad 5 razy!\")"
   ]
  },
  {
   "cell_type": "markdown",
   "id": "26cacf2e",
   "metadata": {},
   "source": [
    "### Wnioski"
   ]
  },
  {
   "cell_type": "markdown",
   "id": "b9167fe2",
   "metadata": {},
   "source": [
    "* Wszystkie algorytmy zwróciły takie same wyniki w ramach testów.\n",
    "\n",
    "* Najwolniejszym algorytmem okazał się zgodnie z złożonością obliczeniową algorytm naiwny.\n",
    "\n",
    "* Najszybszym algorytmem okazał się algorytm wykorzystujący automat skończony. Warto jednak zaznaczyć, że czas preprocessingu w algorytmie wykorzystującym automat skończony rożnie proporcjonalnie do długości wzorca i ilości znaków w alfabecie. Czas preprocessingu w algorytmie KMP jest niezależny od alfabetu.\n",
    "\n",
    "* Czas preprocessingu w algorytmie wykorzystującym automat skończony był dłuższy niż w algorytmie KMP.\n",
    "\n",
    "* Z przeprowadzonych eksperymentów można wysunąć wniosek, że algorytm naiwny jest zdecydowanie gorszą opcją niż pozostałe algorytmy. W skrajnych przypadkacg algorytm naiwny może być wielokrotnie wolniejszy. \n",
    "\n",
    "* Algorytm należy dobrać do specyficznych warunków zadania i charakteru danych."
   ]
  },
  {
   "cell_type": "code",
   "execution_count": null,
   "id": "d6d4eb1f",
   "metadata": {},
   "outputs": [],
   "source": []
  }
 ],
 "metadata": {
  "kernelspec": {
   "display_name": "Python 3 (ipykernel)",
   "language": "python",
   "name": "python3"
  },
  "language_info": {
   "codemirror_mode": {
    "name": "ipython",
    "version": 3
   },
   "file_extension": ".py",
   "mimetype": "text/x-python",
   "name": "python",
   "nbconvert_exporter": "python",
   "pygments_lexer": "ipython3",
   "version": "3.9.12"
  }
 },
 "nbformat": 4,
 "nbformat_minor": 5
}

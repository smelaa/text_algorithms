{
 "cells": [
  {
   "cell_type": "markdown",
   "id": "687ea436",
   "metadata": {},
   "source": [
    "# Miara odległości napisów"
   ]
  },
  {
   "cell_type": "markdown",
   "id": "d56873c6",
   "metadata": {},
   "source": [
    "Zadanie dotyczy różnych metryk w przestrzeni napisów.\n",
    "\n",
    "1. Zaimplementuj przynajmniej 3 \"metryki\" spośród wymienionych: cosinusowa, LCS, DICE, euklidesowa, Levenshteina.\n",
    "2. Zaimplementuj przynajmniej 1 sposoby oceny jakości klasteryzacji (np. indeks Daviesa-Bouldina).\n",
    "3. Stwórz stoplistę najczęściej występujących słów i zastosuj ją jako pre-processing dla nazw. Algorytmy klasteryzacji powinny działać na dwóch wariantach: z pre-processingiem i bez pre-processingu.\n",
    "4. Wykonaj klasteryzację zawartości załączonego pliku (lines.txt) przy użyciu  metryk zaimplementowanych w pkt. 1. Każda linia to adres pocztowy firmy, różne sposoby zapisu tego samego adresu powinny się znaleźć w jednym klastrze.\n",
    "5. Porównaj jakość wyników sposobami zaimplementowanymi w pkt. 2.\n",
    "6. Czy masz jakiś pomysł na poprawę jakości klasteryzacji w tym zadaniu?\n",
    "\n",
    "Sprawozdanie powinno zawierać porównanie wyników wszystkich metryk z użyciem stoplisty i bez.\n",
    "\n",
    "Można jako wzorcową klasteryzację użyć pliku clusters.txt."
   ]
  },
  {
   "cell_type": "code",
   "execution_count": 1,
   "id": "7cc73e3e",
   "metadata": {},
   "outputs": [],
   "source": [
    "import numpy as np\n",
    "from math import sqrt\n",
    "from math import inf\n",
    "import string\n",
    "from collections import Counter\n",
    "import pandas as pd\n",
    "from scipy.cluster.hierarchy import fclusterdata"
   ]
  },
  {
   "cell_type": "markdown",
   "id": "0a394b0a",
   "metadata": {},
   "source": [
    "## ad 1. Metryki"
   ]
  },
  {
   "cell_type": "markdown",
   "id": "0f25fcdd",
   "metadata": {},
   "source": [
    "### Cosine similarity"
   ]
  },
  {
   "cell_type": "markdown",
   "id": "24bd68ba",
   "metadata": {},
   "source": [
    "$$\n",
    "\\begin{equation}\n",
    "    \\cos(\\theta) = \\frac{\\mathbf{A} \\cdot \\mathbf{B}}{\\|\\mathbf{A}\\| \\|\\mathbf{B}\\|}= \\frac{\\sum\\limits_{i=1}^{n} A_i B_i}{\\sqrt{\\sum\\limits_{i=1}^{n} A_i^2} \\sqrt{\\sum\\limits_{i=1}^{n} B_i^2}}\n",
    "    \\qquad\\begin{aligned}\n",
    "    &\\text{gdzie:} \\\\\n",
    "    &\\mathbf{A}\\text{ oraz }\\mathbf{B} \\text{ to dwa porównywane wektory}\\\\\n",
    "    &n \\text{ to wymiar wektorów}\\\\\n",
    "    &\\theta \\text{ to kąt między wektorami } \\mathbf{A} \\text{ oraz } \\mathbf{B} \\text{ w wielowymiarowej przestrzeni}\n",
    "    \\end{aligned}\n",
    "\\end{equation}\n",
    "$$"
   ]
  },
  {
   "cell_type": "code",
   "execution_count": 2,
   "id": "cebd35d9",
   "metadata": {},
   "outputs": [],
   "source": [
    "def cosine_sim(A, B):\n",
    "    return np.dot(A,B)/(np.linalg.norm(A)*np.linalg.norm(B))"
   ]
  },
  {
   "cell_type": "markdown",
   "id": "2fbe1771",
   "metadata": {},
   "source": [
    "### Sørensen–Dice coefficient"
   ]
  },
  {
   "cell_type": "markdown",
   "id": "203646bf",
   "metadata": {},
   "source": [
    "$$\n",
    "\\begin{equation}\n",
    "    \\text{Dice}(A, B) = \\frac{2 |A \\cap B|}{|A| + |B|} \n",
    "    \\qquad\\begin{aligned}\n",
    "    &\\text{gdzie:} \\\\\n",
    "    &A \\text{ oraz } B \\text{ to dwa zbiory, które są porównywane} \\\\\n",
    "    &|A| \\text{ oraz } |B| \\text{ to liczności zbiorów } \\\\\n",
    "    &\\text{oraz } |A \\cap B| \\text{ to liczność iloczynu zbiorów}\n",
    "    \\end{aligned}\n",
    "\\end{equation}\n",
    "$$\n"
   ]
  },
  {
   "cell_type": "code",
   "execution_count": 3,
   "id": "2cf21a73",
   "metadata": {},
   "outputs": [],
   "source": [
    "def dice_coef(A, B):\n",
    "    intersec=0\n",
    "    norm_a=0\n",
    "    norm_b=0\n",
    "    N=len(A)\n",
    "    for i in range(N):\n",
    "        if A[i]!=0 and B[i]!=0: intersec+=1\n",
    "        if A[i]!=0: norm_a+=1\n",
    "        if B[i]!=0: norm_b+=1\n",
    "    return intersec*2/(norm_a+norm_b)"
   ]
  },
  {
   "cell_type": "markdown",
   "id": "0a7d68ea",
   "metadata": {},
   "source": [
    "### Euclidean distance"
   ]
  },
  {
   "cell_type": "markdown",
   "id": "723e4037",
   "metadata": {},
   "source": [
    "$$\n",
    "\\begin{equation}\n",
    "    d(x,y) = \\sqrt{\\sum_{i=1}^{n}(x_i-y_i)^2}\n",
    "    \\qquad\\begin{aligned}\n",
    "    &\\text{gdzie:} \\\\\n",
    "    &d(x,y) \\text{ to odległość euklidesowa} \\\\\n",
    "    &x_i, y_i \\text{ to i-te współrzędne wektorów } x \\text{ oraz } y \\\\\n",
    "    &n \\text{ to liczba wymiarów wektorów}\n",
    "    \\end{aligned}\n",
    "\\end{equation}\n",
    "$$"
   ]
  },
  {
   "cell_type": "code",
   "execution_count": 4,
   "id": "385b3f97",
   "metadata": {},
   "outputs": [],
   "source": [
    "def euclidean_dist(A,B):\n",
    "    result=0\n",
    "    for i in range (len(A)):\n",
    "        result+=(A[i]-B[i])**2\n",
    "    return sqrt(result)"
   ]
  },
  {
   "cell_type": "markdown",
   "id": "f6f7b809",
   "metadata": {},
   "source": [
    "## ad 2. Ocena jakości klasteryzacji"
   ]
  },
  {
   "cell_type": "markdown",
   "id": "7a6f7118",
   "metadata": {},
   "source": [
    "### Davies–Bouldin index (DBI)"
   ]
  },
  {
   "attachments": {
    "image.png": {
     "image/png": "[encoded data removed]"
    }
   },
   "cell_type": "markdown",
   "id": "6e4877f0",
   "metadata": {},
   "source": [
    "![image.png](attachment:image.png)"
   ]
  },
  {
   "cell_type": "code",
   "execution_count": 5,
   "id": "5ff7c535",
   "metadata": {},
   "outputs": [],
   "source": [
    "def centroid(cluster, metric):\n",
    "    distances = [0 for _ in range(len(cluster))]\n",
    "    for i in range(len(cluster)):\n",
    "        for j in range(i):\n",
    "            dist = metric(cluster[i], cluster[j])\n",
    "            distances[i] += dist\n",
    "            distances[j] += dist\n",
    "    min_dist = -inf\n",
    "    index = -1\n",
    "    for i in range(len(distances)):\n",
    "        if distances[i] < min_dist:\n",
    "            min_dist = distances[i]\n",
    "            index = i\n",
    "    return cluster[index]\n",
    "\n",
    "def intra_cluster_dispersion(cluster, metric, centroid):\n",
    "    res=0\n",
    "    for i in cluster:\n",
    "        res+=metric(i, centroid)\n",
    "    return res/np.linalg.norm(cluster)"
   ]
  },
  {
   "cell_type": "code",
   "execution_count": 6,
   "id": "a141d826",
   "metadata": {},
   "outputs": [],
   "source": [
    "def dbi(clusters, metric):\n",
    "    N=len(clusters)\n",
    "    centroids=[centroid(clusters[i], metric) for i in range (N)]\n",
    "    S=[intra_cluster_dispersion(clusters[i], metric, centroids[i]) for i in range (N)]\n",
    "    R=[[0 for i in range (N)] for j in range (N)]\n",
    "    for i in range (N):\n",
    "        for j in range (N):\n",
    "            if i!=j:\n",
    "                R[i][j]=(S[i]+S[j])/metric(centroids[i], centroids[j])\n",
    "    sum_D=0\n",
    "    for i in range(N):\n",
    "        a=0\n",
    "        if i>0: a=max(R[i][:i])\n",
    "        b=0\n",
    "        if i<N-1: b=max(R[i][i+1:])\n",
    "        sum_D+=max(a,b)\n",
    "    return sum_D/N"
   ]
  },
  {
   "cell_type": "markdown",
   "id": "fa9faa5f",
   "metadata": {},
   "source": [
    "## ad 3. Stoplista"
   ]
  },
  {
   "cell_type": "code",
   "execution_count": 7,
   "id": "aff730fa",
   "metadata": {},
   "outputs": [],
   "source": [
    "def stoplist(text, freq):\n",
    "    words=[]\n",
    "    for line in text:\n",
    "        words+=line.split()\n",
    "    cnt=Counter(words)\n",
    "    stopl={key for key, val in cnt.items() if val>=freq*len(words)}\n",
    "    return stopl\n",
    "\n",
    "def rem_stoplist(text, stoplist):\n",
    "    res=[]\n",
    "    for line in text:\n",
    "        res.append(\"\".join([w for w in line.split() if w not in stoplist]))\n",
    "    return res\n",
    "\n",
    "def rem_common(text, freq):\n",
    "    return rem_stoplist(text, stoplist(text, freq))"
   ]
  },
  {
   "cell_type": "markdown",
   "id": "651e2574",
   "metadata": {},
   "source": [
    "## Preprocessing"
   ]
  },
  {
   "cell_type": "code",
   "execution_count": 8,
   "id": "26c9bb81",
   "metadata": {},
   "outputs": [],
   "source": [
    "def read_text(file):\n",
    "    with open(file, \"r\", encoding=\"UTF-8\") as f:\n",
    "        text = f.read()\n",
    "    return text\n",
    "\n",
    "def preprocess(text, stoplist_freq=None):\n",
    "    preprocessed=text.translate(str.maketrans('', '', string.punctuation)).lower()\n",
    "        \n",
    "    cnt=Counter()\n",
    "    cnt.update(preprocessed)\n",
    "    vocab=list(cnt)\n",
    "    \n",
    "    preprocessed=preprocessed.splitlines()\n",
    "    \n",
    "    if stoplist_freq!=None:\n",
    "         preprocessed=rem_common(preprocessed, stoplist_freq)\n",
    "            \n",
    "    return preprocessed, vocab\n",
    "\n",
    "def text_to_vec(text, stoplist_freq=None):\n",
    "    text, vocab=preprocess(text, stoplist_freq)\n",
    "    freq_vec=[]\n",
    "    for line in text:\n",
    "        cnt=Counter()\n",
    "        cnt.update(line)\n",
    "        el=[cnt[letter] for letter in vocab]\n",
    "        freq_vec.append(el)\n",
    "    return freq_vec, text"
   ]
  },
  {
   "cell_type": "markdown",
   "id": "335539c7",
   "metadata": {},
   "source": [
    "## ad 4. Klasteryzacja"
   ]
  },
  {
   "cell_type": "code",
   "execution_count": 9,
   "id": "4e0df843",
   "metadata": {},
   "outputs": [],
   "source": [
    "def cluster(vec_text, metric, text=None):        \n",
    "    T=fclusterdata(vec_text, t=1, metric=metric)\n",
    "    clusters=[[] for i in range (max(T))]\n",
    "    text_clusters=None\n",
    "    if text!=None:\n",
    "        text_clusters=[[] for i in range (max(T))]\n",
    "    for i in range (len(T)):\n",
    "        clusters[T[i]-1].append(vec_text[i])\n",
    "        if text!=None:\n",
    "            text_clusters[T[i]-1].append(text[i])\n",
    "    return clusters, text_clusters"
   ]
  },
  {
   "cell_type": "code",
   "execution_count": 10,
   "id": "7c8b723f",
   "metadata": {},
   "outputs": [],
   "source": [
    "text=read_text(\"lines.txt\")\n",
    "vec_text_0, lines_0=text_to_vec(text)\n",
    "vec_text_02, lines_02=text_to_vec(text,0.2)\n",
    "vec_text_05, lines_05=text_to_vec(text,0.5)"
   ]
  },
  {
   "cell_type": "code",
   "execution_count": 11,
   "id": "9d5e8ad9",
   "metadata": {},
   "outputs": [
    {
     "name": "stdout",
     "output_type": "stream",
     "text": [
      "express co ltd russia 155101 ivanovskaya region lezhnevskiy raion d koroviha centralnaya str 4arussia\n",
      "express co ltd  russia 155101 ivanovskaya region lezhnevskiy raion d koroviha centralnaya str 4arussia\n",
      "---------\n",
      "alliancetrade llc inn 7816391055  kpp 784601001 190020 saint petersburg quay of the obvodny channel 138 bulk 1 literb\n",
      "avanport  llc inn 7839413675 kpp 783901001 190020 saint petersburg quay of the obvodny channel 134136138 build 101 lit a\n",
      "avanport  llc inn 7839413675 kpp 783901001 190020 saint petersburg quay of  the obvodny channel134136138  build 101 lit a\n",
      "prant llc 603159 russia nizhny novgorod akimovastr 41 suite 63 inn 5257120394 kpp 525701001 telfax 7 831 4234533\n",
      "---------\n",
      "ltc solution oy finland hamina 49420 pilaritie 2 tel 358 0 52266130 fax 358 0 52266120\n",
      "ltc solution oy finland hamina 49420 syvasatamantie 18 tel 358 0 52266130 fax 358 0 52266120\n",
      "---------\n",
      "sevrollsystem spz oo plac czerwca 1976 roku nr 1b  02495 warszawa ursus  tel 022 3123139\n",
      "sevrollsystem spz oo plac czerwca 1976 roku nr 1b  02495 warszawa ursus   tel 022 3123139\n",
      "---------\n",
      "ltc solution oy finland hamina 49420 pilaritie 2 on behalf aetz rekord co ltd 2 gagarina str alexandrov\n",
      "ltc solution oy finland hamina 49420 syvasatamantie 18 on behalf aetz rekord co ltd\n",
      "---------\n",
      "arivist 198035russiasaintpetersburg gapsalskaya str5office 13 tel78123277732fax781 23277729voloknoyahoocom\n",
      "arivist 198035russiasaintpetersburg gapsalskaya str5office 13 tel78123277732fax 78123277729\n",
      "arivist 198035russiasaintpetersburg  gapsalskaya str5office13 tel78123277732fax 78123277729\n",
      "arivist 198035russiasaintpetersburg  gapsalskaya str5office13 tel78123277732fax  78123277729\n",
      "arivist 198035 russia  saintpetersburg  gapsalskaya str5office13  tel78123277732 fax  78123277729\n",
      "arivist 198035 russia saintpetersburg gapsalskaya str5 office13 tel78123277732 fax 78123277729 voloknoyahoocom\n",
      "arivist 198035 russia saintpetersburg gapsalskaya str5 office13 tel78123277732 fax78123277729 voloknoyahoocom\n",
      "nfc ltd gapsalskaya str 5 198035 st petersburg russia tel 7 812 327 77 41  fax 7 812 327 77 29\n",
      "nfcltd gapsalskaya str 5 198035stpetersburgrussia tel78123277741 fax 78123277729\n",
      "nfc ltd gapsalskaya str 5 198035 stpetersburg russia tel 7 812327 77 41 fax 7 812 327 77 29\n",
      "---------\n",
      "meat trade company stpetersburgltd 191015 saintpetersburg  shpalernaya street 51 russian federation tel 7 812 3294262 pylaevatatiana\n",
      "meat trade company stpetersburgltd 191015 saintpetersburg shpalernaya street 51 russian federation tel 7 812 3294262 pashkevichanna\n",
      "meat trade company stpetersburgltd 191015 saintpetersburg shpalernaya street 51 russian federation tel 7 812 3294262 pylaeva tatiana\n",
      "---------\n",
      "meat trade company stpetersburgltd  191015 saintpetersburg shpalernaya street 51 russian federation\n",
      "meat trade company stpetersburgltd 191015 saintpetersburg shpalernaya street 51 russian federation\n",
      "meat trade company stpetersburgltd 191015 saintpetersburg shpalernaya street 51 russian federation inn 7842339206\n",
      "---------\n",
      "kobilight spolka komandytowa ultboya zelenskiego 25 35105 rzeszowpoland nip8133499669\n",
      "kobilight spolka komandytowa ultboya zelenskiego 25 35105 rzeszowpoland nip8133499699\n",
      "---------\n",
      "ocean world llc 198099 russia stpetersburg kalinin street 57 lita of307 ledeneva elena telfax78123366588\n",
      "ocean world llc kalinin street 57 lit a office 307 st petersburg russia 198099 ledeneva elenatelfax78123366588\n",
      "ocean world llc lit a of 307 57kalinin street st petersburg 198099 russia merkova mariya telfax 78123366588\n",
      "silmet company limited 196084 russia stpetersburg zaozernaya str 4 letter a 9h tel fax 7 812334 35 74\n",
      "---------\n",
      "fruitimpex llc tel 495 9267449\n",
      "goldens llc\n",
      "same as consignee\n",
      "---------\n",
      "electrogroup ooo190068russiasaintpetersburgulbolshaya podyacheskaya5litapom4n\n",
      "electrogroup ooo190068russiasaintpetersburgulbolshaya  podyacheskaya5litapom4n\n",
      "---------\n",
      "ssontex  spzooimportexportulprzeclawska 5 03879 warszawapoland nip 1130117669\n",
      "ssontexspzooimportexport ulprzeclawska 5 03879 warszawapoland nip 1130117669 telfax0048022217 6532\n",
      "aldetrans llc 105066 moscow russia tokmakov lane 11 tel74956410389\n",
      "aliftjsc 1 prospekt marshala zhukovamoscow 123308russia  t 74957847961\n",
      "alisa ltd 15 derbenevskaya str moscow russia telfax 495 9871307 postal code 115114\n",
      "ssontex spzoo importexport 03879 warszawa ul przeclawska 5 nip1130117669\n",
      "studio moderna ul pererva 54 109369 moscow russia\n",
      "---------\n",
      "tcunotransltd 190020 stpetersburgbumazhnaya str9k1off305 telfax7 812 445 28 43\n",
      "tcunotransltd 190020 stpetersburg bumazhnaya str9k1off305 telfax7 812 445 28 43\n",
      "---------\n",
      "tc unotrans ltd 190020 stpetersburg bumazhnaya str9 k1office 305 telfax 7 812 445 2843\n",
      "tc unotrans ltd 190020 stpetersburg bumazhnaya str9 k1 off 305 telfax 7 812 445 28 43\n",
      "---------\n",
      "altair limited company 199004saintpetersburg 1 lineh20 lit aof8h\n",
      "avsongroup company limited 190008 st petersburg  rimskogokorsakova  7333 lit a1\n",
      "avsongroup company limited  190008 st petersburg rimskogokorsakova 7333 lit a1\n",
      "cargoimport ltd vnukovskaya street building 2 r43h1 saintpetersburg russia \n",
      "fmg shipping and forwarding ltd190020 stpetersburg russia bumazhnaya str 18 off 310\n",
      "ftlinellc russia 115230moscowelectrolytniy proezd3g2 tel79851607522\n",
      "ligaimport ltd doroga na turuhtannie ostrova d24 korp5 saintpetersburg 198096 russia\n",
      "ligaimport ltd doroga na turuhtannie ostrova d24 korp5 saintpetersburg 198096 russia telfax7 911 812 89 88\n",
      "ligaimport ltd doroga na turuhtannie ostrova d 24 korp 5 saintpetersburg 198096 russia telfax7 911 812 89 88\n",
      "ooo technoline 191123stpetersburgul furschtatskaya 48liter a\n",
      "otl llc korotinotlspbru tel 7812 3264252 vip 131711 stpetersburg\n",
      "rimal ltd grazdansky prospect 22  st petersburg 195220  russian federation\n",
      "step trade llc kubinskaya st 38 building a room 4hstpetersburg 196247 russian federation\n",
      "suntire co ltd m balkanskaya street 58 lita 192289 stpetersburg russia\n",
      "suntire co ltd tel  7 812458 54 38 email clientslogisticru\n",
      "suntirecoltd mbalkanskaya street58lita 192289stpetersburgrussia\n",
      "suntirecoltd tel7812458 54 38 emailclientslogisticru\n",
      "---------\n",
      "filita ltd ukraine 83004 donetsk artema str 193g    telfax380563705563\n",
      "---------\n",
      "kontur llc str shpalernaya 51 lit a app 2n 191015 st petersburg russia inn 7842437789\n",
      "---------\n",
      "ooo baltiyskiy ekspeditor eugeniy komrakov 812 6761603\n",
      "---------\n",
      "elektroapparat plc   24th liniyavostpetersburg supoffice no1of kirovsky russia tel 0079219646264\n",
      "---------\n",
      "finans aktivltd 111250russiamoscow krasnokazarmennaya str117495 665 6001\n",
      "---------\n",
      "same as consignee  as agent of blue anchor line\n",
      "---------\n",
      "serviceexpress ltd 197110 russia saintpetersburg gluhaya zelenina streeth4 lit boffice 19h\n",
      "---------\n",
      "aventaltd address129 110moscowprospekt mirah52str3pomiii tel 89688088011\n",
      "---------\n",
      "bio plus ltd inn 7805166210 198303 spetersburg leninskiy pr1101 lit b app53h russia\n",
      "---------\n",
      "master plus coltd 143000russiamoodinsovo mojaiskoe shosse153g tel7495 7273939\n",
      "---------\n",
      "garanttrans service moscowrussiaulgilyarovskogo57office 514 tel495 748 02 87 fax495 684 12 01\n",
      "---------\n",
      "ens ltd address staropetrovskiypassage bld 7a  construction 3 125130 moscow russia tel 499 1307336\n",
      "---------\n",
      "fruitimpex llc 121170 moscow russia kulneva st 3 bld 1 inn 7737514219 kpp773001001\n",
      "---------\n",
      "11692589 rd tuna canners ltd portion 1004 siar north coast road pobox 2113 madang papua new guinea\n",
      "---------\n",
      "intertrans co ltd stpetersburg198035russia gapsalskaia streetoffice 502 tel 3242144 fax3242145\n",
      "---------\n",
      "2tigers group limited  room 504 jinshazhou shangshui road  guangzhou 510160\n",
      "---------\n",
      "evrotransit llc 105005 russian federation moscow baumanskaya str 332 bld1 emailevrotranzitloglinboxru tel84956653468\n",
      "---------\n",
      "posvet ltd podrezova str16litaroom 5h 197136 saintpetersburgrussia itn 7813445827 tel78127162176\n",
      "---------\n",
      "topex sp z oo spolka komandytowa ul pograniczna 24  02285 warszawa poland\n",
      "---------\n",
      "steveco oy steveco logistics merituulentie 424 48310 kotka fonlandpic anne leppanen\n",
      "---------\n",
      "fillogistik pp zhovkivska 22 street 79019 lvovukraine tel380322458030 fax380322458030\n",
      "---------\n",
      "spike rus limited liability company the yakovlevskyi per h8 a of 5n 196105 spetersburg russiatel 0078124761562 fax 0078124761562\n",
      "---------\n",
      "forward expedition limited hkg succes commbldg6b251 hennessy road hongkong arrivalforwardhkgcom\n",
      "---------\n",
      "pa interior ltd bolshaya lubyanka street 164 moscow 101000 russia innkpp 7704550148770801001 4959848611\n",
      "---------\n",
      "coloscomplex logisticssolutionspiotr kaczmarek i pawel wilk spjzachodnia street no 3 55011 siechnice poland\n",
      "---------\n",
      "shipmaster deltallc rigsky pr19saintpetersburg 190103russia tel78122518111 7812575333878122517303 fax 7 812 5753340\n",
      "---------\n",
      "omega toys grupcoltd avtozavodskay str23structure 8 moscowrussian federationpox115280 telfax74956746062 titarenko alexandr email serinitytoysmailru inn\n",
      "---------\n",
      "interlink ltd sp zoo ui  pomorska50a 81314 gdynia bielskainterlinkbizpl siejkowskainterlinkbizpl\n",
      "---------\n",
      "petersburg chemical company company limitedpcccoltd 197374russian federationsaint petersburgtorfyanaya road 7litf office 925\n",
      "---------\n",
      "km ltd 197183 russiast petersburgsabirovskaya str50off115 oleg terekhov zip code197183 phone79112393109  fax79112393109\n",
      "---------\n",
      "fmg shipping and forwarding ltd190020 saint petersburgliflyandskaya str 6litera abuilding 31hoffice 310 post code190020 tel7 812 448 82 83 fax7 812 448 04 9\n",
      "---------\n",
      "partner ltd innkpp 7801080258780101001 pom1n house 12 1linev 0  st petersburg 199053 russia tel  7 812 600 20 22 fax 7 812 600 20 33\n",
      "---------\n",
      "oy vaer log ltd  ytunnus20665333  adres merituulentie 424  48310 kotka  tel 358 5 21 21 33  fax 358 5 21 21 30  vanhala olga  ershova ekaterina\n",
      "---------\n"
     ]
    }
   ],
   "source": [
    "cl=cluster(vec_text_0[:100], euclidean_dist, lines_0[:100])[1]\n",
    "for i in cl:\n",
    "    for j in i:\n",
    "        print(j)\n",
    "    print(\"---------\")"
   ]
  },
  {
   "cell_type": "code",
   "execution_count": 12,
   "id": "958e7f6c",
   "metadata": {},
   "outputs": [],
   "source": [
    "cl0_e=cluster(vec_text_0[:1000], euclidean_dist)[0]\n",
    "cl0_d=cluster(vec_text_0[:1000], dice_coef)[0]\n",
    "cl0_c=cluster(vec_text_0[:1000], cosine_sim)[0]"
   ]
  },
  {
   "cell_type": "code",
   "execution_count": 13,
   "id": "19ab5403",
   "metadata": {},
   "outputs": [],
   "source": [
    "cl02_e=cluster(vec_text_02[:1000], euclidean_dist)[0]\n",
    "cl02_d=cluster(vec_text_02[:1000], dice_coef)[0]\n",
    "cl02_c=cluster(vec_text_02[:1000], cosine_sim)[0]"
   ]
  },
  {
   "cell_type": "code",
   "execution_count": 14,
   "id": "a05678d7",
   "metadata": {},
   "outputs": [],
   "source": [
    "cl05_e=cluster(vec_text_05[:1000], euclidean_dist)[0]\n",
    "cl05_d=cluster(vec_text_05[:1000], dice_coef)[0]\n",
    "cl05_c=cluster(vec_text_05[:1000], cosine_sim)[0]"
   ]
  },
  {
   "cell_type": "markdown",
   "id": "9e8562bd",
   "metadata": {},
   "source": [
    "## ad 5. Porównanie jakości wyników"
   ]
  },
  {
   "cell_type": "code",
   "execution_count": 15,
   "id": "b78bac3c",
   "metadata": {},
   "outputs": [],
   "source": [
    "dbi_e={\"no stoplist\": dbi(cl0_e, euclidean_dist),\n",
    "       \"0.2 stoplist\": dbi(cl02_e, euclidean_dist),\n",
    "       \"0.5 stoplist\": dbi(cl05_e, euclidean_dist)}\n",
    "dbi_d={\"no stoplist\": dbi(cl0_d, dice_coef),\n",
    "       \"0.2 stoplist\": dbi(cl02_d, dice_coef),\n",
    "       \"0.5 stoplist\": dbi(cl05_d, dice_coef)}\n",
    "dbi_c={\"no stoplist\": dbi(cl0_c, cosine_sim),\n",
    "       \"0.2 stoplist\": dbi(cl02_c, cosine_sim),\n",
    "       \"0.5 stoplist\": dbi(cl05_c, cosine_sim)}\n",
    "dbis={\"Euclidean distance\": dbi_e,\n",
    "       \"Sørensen–Dice coefficient\": dbi_d,\n",
    "       \"Cosine similarity\": dbi_c}"
   ]
  },
  {
   "cell_type": "code",
   "execution_count": 16,
   "id": "1f1f92cb",
   "metadata": {},
   "outputs": [
    {
     "name": "stdout",
     "output_type": "stream",
     "text": [
      "Davies–Bouldin index\n"
     ]
    },
    {
     "data": {
      "text/html": [
       "<div>\n",
       "<style scoped>\n",
       "    .dataframe tbody tr th:only-of-type {\n",
       "        vertical-align: middle;\n",
       "    }\n",
       "\n",
       "    .dataframe tbody tr th {\n",
       "        vertical-align: top;\n",
       "    }\n",
       "\n",
       "    .dataframe thead th {\n",
       "        text-align: right;\n",
       "    }\n",
       "</style>\n",
       "<table border=\"1\" class=\"dataframe\">\n",
       "  <thead>\n",
       "    <tr style=\"text-align: right;\">\n",
       "      <th></th>\n",
       "      <th>Euclidean distance</th>\n",
       "      <th>Sørensen–Dice coefficient</th>\n",
       "      <th>Cosine similarity</th>\n",
       "    </tr>\n",
       "  </thead>\n",
       "  <tbody>\n",
       "    <tr>\n",
       "      <th>no stoplist</th>\n",
       "      <td>0.198899</td>\n",
       "      <td>0.000000</td>\n",
       "      <td>0.0</td>\n",
       "    </tr>\n",
       "    <tr>\n",
       "      <th>0.2 stoplist</th>\n",
       "      <td>0.277106</td>\n",
       "      <td>1.306997</td>\n",
       "      <td>0.0</td>\n",
       "    </tr>\n",
       "    <tr>\n",
       "      <th>0.5 stoplist</th>\n",
       "      <td>0.277106</td>\n",
       "      <td>1.306997</td>\n",
       "      <td>0.0</td>\n",
       "    </tr>\n",
       "  </tbody>\n",
       "</table>\n",
       "</div>"
      ],
      "text/plain": [
       "              Euclidean distance  Sørensen–Dice coefficient  Cosine similarity\n",
       "no stoplist             0.198899                   0.000000                0.0\n",
       "0.2 stoplist            0.277106                   1.306997                0.0\n",
       "0.5 stoplist            0.277106                   1.306997                0.0"
      ]
     },
     "metadata": {},
     "output_type": "display_data"
    }
   ],
   "source": [
    "data_frame=pd.DataFrame(dbis)\n",
    "print(\"Davies–Bouldin index\")\n",
    "display(data_frame)"
   ]
  },
  {
   "cell_type": "code",
   "execution_count": 17,
   "id": "48f4cf72",
   "metadata": {},
   "outputs": [],
   "source": [
    "len_e={\"no stoplist\": len(cl0_e),\n",
    "       \"0.2 stoplist\": len(cl02_e),\n",
    "       \"0.5 stoplist\": len(cl05_e)}\n",
    "len_d={\"no stoplist\": len(cl0_d),\n",
    "       \"0.2 stoplist\": len(cl02_d),\n",
    "       \"0.5 stoplist\": len(cl05_d)}\n",
    "len_c={\"no stoplist\": len(cl0_c),\n",
    "       \"0.2 stoplist\": len(cl02_c),\n",
    "       \"0.5 stoplist\": len(cl05_c)}\n",
    "lens={\"Euclidean distance\": len_e,\n",
    "       \"Sørensen–Dice coefficient\": len_d,\n",
    "       \"Cosine similarity\": len_c}"
   ]
  },
  {
   "cell_type": "code",
   "execution_count": 18,
   "id": "ee778ba5",
   "metadata": {},
   "outputs": [
    {
     "name": "stdout",
     "output_type": "stream",
     "text": [
      "Clusters' size\n"
     ]
    },
    {
     "data": {
      "text/html": [
       "<div>\n",
       "<style scoped>\n",
       "    .dataframe tbody tr th:only-of-type {\n",
       "        vertical-align: middle;\n",
       "    }\n",
       "\n",
       "    .dataframe tbody tr th {\n",
       "        vertical-align: top;\n",
       "    }\n",
       "\n",
       "    .dataframe thead th {\n",
       "        text-align: right;\n",
       "    }\n",
       "</style>\n",
       "<table border=\"1\" class=\"dataframe\">\n",
       "  <thead>\n",
       "    <tr style=\"text-align: right;\">\n",
       "      <th></th>\n",
       "      <th>Euclidean distance</th>\n",
       "      <th>Sørensen–Dice coefficient</th>\n",
       "      <th>Cosine similarity</th>\n",
       "    </tr>\n",
       "  </thead>\n",
       "  <tbody>\n",
       "    <tr>\n",
       "      <th>no stoplist</th>\n",
       "      <td>526</td>\n",
       "      <td>1</td>\n",
       "      <td>1</td>\n",
       "    </tr>\n",
       "    <tr>\n",
       "      <th>0.2 stoplist</th>\n",
       "      <td>501</td>\n",
       "      <td>430</td>\n",
       "      <td>1</td>\n",
       "    </tr>\n",
       "    <tr>\n",
       "      <th>0.5 stoplist</th>\n",
       "      <td>501</td>\n",
       "      <td>430</td>\n",
       "      <td>1</td>\n",
       "    </tr>\n",
       "  </tbody>\n",
       "</table>\n",
       "</div>"
      ],
      "text/plain": [
       "              Euclidean distance  Sørensen–Dice coefficient  Cosine similarity\n",
       "no stoplist                  526                          1                  1\n",
       "0.2 stoplist                 501                        430                  1\n",
       "0.5 stoplist                 501                        430                  1"
      ]
     },
     "metadata": {},
     "output_type": "display_data"
    }
   ],
   "source": [
    "data_frame1=pd.DataFrame(lens)\n",
    "print(\"Clusters' size\")\n",
    "display(data_frame1)"
   ]
  },
  {
   "cell_type": "markdown",
   "id": "0ff3260d",
   "metadata": {},
   "source": [
    "Z uwagi na duże dane wejściowe i długi czas oczekiwania na ich przetworzenie przeprowadzono analizę jedynie dla 1000 pierwszych wierszy.\n",
    "Wnioski:\n",
    "1. Zmiana parametru częstości stoplisty z 0.2 na 0.5 nie wpłynęła na wynik.\n",
    "2. Zastosowanie stoplisty dobrze wpłynęło na jakość otrzymanej klasteryzacji w przetestowanych przypadkach.\n",
    "3. Metryka jaką jest podobieństwo cosinusowe nie sprawdziła się w klasteryzacji dla przetestowanych danych."
   ]
  },
  {
   "cell_type": "markdown",
   "id": "e0ae3846",
   "metadata": {},
   "source": [
    "## ad 6. Poprawa jakości klasteryzacji"
   ]
  },
  {
   "cell_type": "markdown",
   "id": "78837a0e",
   "metadata": {},
   "source": [
    "1. Odpowiednie dopasowanie parametrów\\\n",
    "Aby poprawić klasteryzację można zastosować różne metody (np. uczenie maszynowe) aby dobrać najlepsze parametry - np. częstość do stworzenia stoplisty lub parametry dla wykorzystanej funkcji fclusterdata z biblioteki scipy.\n",
    "2. Dobranie optymalnej metryki\\\n",
    "Dobranie metryki powinno zostać zrealizowane na podstawie specyfiki danych wejściowych."
   ]
  }
 ],
 "metadata": {
  "kernelspec": {
   "display_name": "Python 3 (ipykernel)",
   "language": "python",
   "name": "python3"
  },
  "language_info": {
   "codemirror_mode": {
    "name": "ipython",
    "version": 3
   },
   "file_extension": ".py",
   "mimetype": "text/x-python",
   "name": "python",
   "nbconvert_exporter": "python",
   "pygments_lexer": "ipython3",
   "version": "3.10.10"
  }
 },
 "nbformat": 4,
 "nbformat_minor": 5
}
